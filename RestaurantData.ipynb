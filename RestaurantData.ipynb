{
 "cells": [
  {
   "cell_type": "markdown",
   "id": "a48b4c19",
   "metadata": {},
   "source": [
    "# Fetching restaurant data from Wake County"
   ]
  },
  {
   "cell_type": "markdown",
   "id": "dd3dfa5f-2e41-4e50-be07-e309581ae6f6",
   "metadata": {},
   "source": [
    "## Imports"
   ]
  },
  {
   "cell_type": "code",
   "execution_count": null,
   "id": "d4785314",
   "metadata": {},
   "outputs": [],
   "source": [
    "#!pip install phonenumbers\n",
    "#!pip install folium\n",
    "#!pip install geopandas"
   ]
  },
  {
   "cell_type": "code",
   "execution_count": 1,
   "id": "b60235ba",
   "metadata": {},
   "outputs": [],
   "source": [
    "# import pandas, numpy, matplotlib, seaborn \n",
    "import numpy as np\n",
    "import pandas as pd\n",
    "import matplotlib.pyplot as plt\n",
    "import seaborn as sns\n",
    "\n",
    "# importing the requests library\n",
    "import requests\n",
    "\n",
    "import urllib.request\n",
    "from pathlib import Path\n",
    "import json\n",
    "import os\n",
    "\n",
    "# import phonenumbers package\n",
    "import phonenumbers\n",
    "\n",
    "from pandas_profiling import ProfileReport\n",
    "\n",
    "import folium\n",
    "from folium import plugins\n",
    "import geopandas as gpd\n",
    "import plotly.express as px\n",
    "%matplotlib inline"
   ]
  },
  {
   "cell_type": "markdown",
   "id": "01b8cfc3",
   "metadata": {},
   "source": [
    "## Resources\n",
    " 1. [Restaurants in Wake County Data Info](https://www.arcgis.com/home/item.html?id=124c2187da8c41c59bde04fa67eb2872)\n",
    " 2. [Wake County Open Data](https://data-wake.opendata.arcgis.com/search?tags=restaurants)\n",
    " 3. [Food Inspection Violations Data Info](https://data.wakegov.com/datasets/Wake::food-inspection-violations/about)\n",
    " 4. [Wake County Yelp Initiative](https://ash.harvard.edu/news/wake-county-yelp-initiative)"
   ]
  },
  {
   "cell_type": "markdown",
   "id": "73b21566",
   "metadata": {},
   "source": [
    "## Fetch Restaurants from wakegov"
   ]
  },
  {
   "cell_type": "code",
   "execution_count": 2,
   "id": "8bc70fbe",
   "metadata": {},
   "outputs": [
    {
     "name": "stdout",
     "output_type": "stream",
     "text": [
      "Using pre-fetched restaurants data...\n",
      "restaurants df shape: (3635, 15)\n"
     ]
    },
    {
     "data": {
      "text/html": [
       "<div>\n",
       "<style scoped>\n",
       "    .dataframe tbody tr th:only-of-type {\n",
       "        vertical-align: middle;\n",
       "    }\n",
       "\n",
       "    .dataframe tbody tr th {\n",
       "        vertical-align: top;\n",
       "    }\n",
       "\n",
       "    .dataframe thead th {\n",
       "        text-align: right;\n",
       "    }\n",
       "</style>\n",
       "<table border=\"1\" class=\"dataframe\">\n",
       "  <thead>\n",
       "    <tr style=\"text-align: right;\">\n",
       "      <th></th>\n",
       "      <th>OBJECTID</th>\n",
       "      <th>HSISID</th>\n",
       "      <th>NAME</th>\n",
       "      <th>ADDRESS1</th>\n",
       "      <th>ADDRESS2</th>\n",
       "      <th>CITY</th>\n",
       "      <th>STATE</th>\n",
       "      <th>POSTALCODE</th>\n",
       "      <th>PHONENUMBER</th>\n",
       "      <th>RESTAURANTOPENDATE</th>\n",
       "      <th>FACILITYTYPE</th>\n",
       "      <th>PERMITID</th>\n",
       "      <th>X</th>\n",
       "      <th>Y</th>\n",
       "      <th>GEOCODESTATUS</th>\n",
       "    </tr>\n",
       "  </thead>\n",
       "  <tbody>\n",
       "    <tr>\n",
       "      <th>0</th>\n",
       "      <td>1924822</td>\n",
       "      <td>4092016155</td>\n",
       "      <td>DAILY PLANET CAFE</td>\n",
       "      <td>11   W JONES ST</td>\n",
       "      <td>STE 1509</td>\n",
       "      <td>RALEIGH</td>\n",
       "      <td>NC</td>\n",
       "      <td>27601</td>\n",
       "      <td>(919) 707-8060</td>\n",
       "      <td>2012-04-12T04:00:00Z</td>\n",
       "      <td>Restaurant</td>\n",
       "      <td>2</td>\n",
       "      <td>-78.639431</td>\n",
       "      <td>35.782205</td>\n",
       "      <td>M</td>\n",
       "    </tr>\n",
       "    <tr>\n",
       "      <th>1</th>\n",
       "      <td>1924823</td>\n",
       "      <td>4092016161</td>\n",
       "      <td>HIBACHI 88</td>\n",
       "      <td>3416 POOLE RD</td>\n",
       "      <td>NaN</td>\n",
       "      <td>RALEIGH</td>\n",
       "      <td>NC</td>\n",
       "      <td>27610</td>\n",
       "      <td>(919) 231-1688</td>\n",
       "      <td>2012-04-18T04:00:00Z</td>\n",
       "      <td>Restaurant</td>\n",
       "      <td>4</td>\n",
       "      <td>-78.579533</td>\n",
       "      <td>35.767246</td>\n",
       "      <td>M</td>\n",
       "    </tr>\n",
       "    <tr>\n",
       "      <th>2</th>\n",
       "      <td>1924824</td>\n",
       "      <td>4092017180</td>\n",
       "      <td>BOND BROTHERS BEER COMPANY</td>\n",
       "      <td>202 E CEDAR ST</td>\n",
       "      <td>NaN</td>\n",
       "      <td>CARY</td>\n",
       "      <td>NC</td>\n",
       "      <td>27511</td>\n",
       "      <td>(919) 459-2670</td>\n",
       "      <td>2016-03-11T05:00:00Z</td>\n",
       "      <td>Restaurant</td>\n",
       "      <td>5</td>\n",
       "      <td>-78.778021</td>\n",
       "      <td>35.787986</td>\n",
       "      <td>M</td>\n",
       "    </tr>\n",
       "    <tr>\n",
       "      <th>3</th>\n",
       "      <td>1924825</td>\n",
       "      <td>4092018352</td>\n",
       "      <td>Prime Barbeque</td>\n",
       "      <td>403 KNIGHTDALE STATION RUN</td>\n",
       "      <td>NaN</td>\n",
       "      <td>KNIGHTDALE</td>\n",
       "      <td>NC</td>\n",
       "      <td>27545</td>\n",
       "      <td>(919) 373-8076</td>\n",
       "      <td>2020-04-22T04:00:00Z</td>\n",
       "      <td>Restaurant</td>\n",
       "      <td>6</td>\n",
       "      <td>-78.473566</td>\n",
       "      <td>35.797225</td>\n",
       "      <td>M</td>\n",
       "    </tr>\n",
       "    <tr>\n",
       "      <th>4</th>\n",
       "      <td>1924826</td>\n",
       "      <td>4092030440</td>\n",
       "      <td>Taco Veloz  (WCID #736)</td>\n",
       "      <td>1312 N ARENDELL AVE</td>\n",
       "      <td>NaN</td>\n",
       "      <td>ZEBULON</td>\n",
       "      <td>NC</td>\n",
       "      <td>27597-8732</td>\n",
       "      <td>(914) 497-2580</td>\n",
       "      <td>2019-08-26T04:00:00Z</td>\n",
       "      <td>Mobile Food Units</td>\n",
       "      <td>10</td>\n",
       "      <td>-78.323927</td>\n",
       "      <td>35.838678</td>\n",
       "      <td>M</td>\n",
       "    </tr>\n",
       "  </tbody>\n",
       "</table>\n",
       "</div>"
      ],
      "text/plain": [
       "   OBJECTID      HSISID                        NAME  \\\n",
       "0   1924822  4092016155           DAILY PLANET CAFE   \n",
       "1   1924823  4092016161                  HIBACHI 88   \n",
       "2   1924824  4092017180  BOND BROTHERS BEER COMPANY   \n",
       "3   1924825  4092018352              Prime Barbeque   \n",
       "4   1924826  4092030440     Taco Veloz  (WCID #736)   \n",
       "\n",
       "                     ADDRESS1  ADDRESS2        CITY STATE  POSTALCODE  \\\n",
       "0            11   W JONES ST   STE 1509     RALEIGH    NC       27601   \n",
       "1              3416 POOLE RD        NaN     RALEIGH    NC       27610   \n",
       "2             202 E CEDAR ST        NaN        CARY    NC       27511   \n",
       "3  403 KNIGHTDALE STATION RUN       NaN  KNIGHTDALE    NC       27545   \n",
       "4         1312 N ARENDELL AVE       NaN     ZEBULON    NC  27597-8732   \n",
       "\n",
       "      PHONENUMBER    RESTAURANTOPENDATE       FACILITYTYPE  PERMITID  \\\n",
       "0  (919) 707-8060  2012-04-12T04:00:00Z         Restaurant         2   \n",
       "1  (919) 231-1688  2012-04-18T04:00:00Z         Restaurant         4   \n",
       "2  (919) 459-2670  2016-03-11T05:00:00Z         Restaurant         5   \n",
       "3  (919) 373-8076  2020-04-22T04:00:00Z         Restaurant         6   \n",
       "4  (914) 497-2580  2019-08-26T04:00:00Z  Mobile Food Units        10   \n",
       "\n",
       "           X          Y GEOCODESTATUS  \n",
       "0 -78.639431  35.782205             M  \n",
       "1 -78.579533  35.767246             M  \n",
       "2 -78.778021  35.787986             M  \n",
       "3 -78.473566  35.797225             M  \n",
       "4 -78.323927  35.838678             M  "
      ]
     },
     "metadata": {},
     "output_type": "display_data"
    }
   ],
   "source": [
    "def getRestaurantsDf(forceFetch=False):\n",
    "        path = Path()\n",
    "        key = 'restaurants.csv'\n",
    "        filename = path/key\n",
    "        \n",
    "        # If the file does already exist in the directory, download it\n",
    "        if os.path.exists(filename) and not forceFetch:\n",
    "            print('Using pre-fetched restaurants data...')\n",
    "            df = pd.read_csv(key)\n",
    "            print('restaurants df shape:', df.shape)\n",
    "            return df\n",
    "    \n",
    "        # Source restaurants data in wake county from wakegov\n",
    "        # base_url = \"https://maps.wakegov.com/arcgis/rest/services/Inspections/RestaurantInspectionsOpenData/MapServer/0/query?f=json&where=(FACILITYTYPE%20IN%20('Restaurant'))&outFields=*\"\n",
    "        else:\n",
    "            print('Fetching restaurants data...')\n",
    "            val = 'https://opendata.arcgis.com/datasets/124c2187da8c41c59bde04fa67eb2872_0.geojson'\n",
    "\n",
    "            # Sending get request and saving the response as response object\n",
    "            # extracting data in json \n",
    "            r = requests.get(url = val)\n",
    "            rows = []\n",
    "            data = r.json()['features']\n",
    "            for d in data:\n",
    "                rows.append(d['properties'])\n",
    "            df = pd.DataFrame(rows)\n",
    "            print('restaurants df shape:', df.shape)\n",
    "            df.to_csv(key, index=False)\n",
    "            print('Done')\n",
    "            return df\n",
    "\n",
    "restaurants_df_raw = getRestaurantsDf(forceFetch=False)\n",
    "display(restaurants_df_raw.head())"
   ]
  },
  {
   "cell_type": "markdown",
   "id": "aa0df959",
   "metadata": {},
   "source": [
    "## Preprocessing"
   ]
  },
  {
   "cell_type": "code",
   "execution_count": 3,
   "id": "bfc051da",
   "metadata": {},
   "outputs": [],
   "source": [
    "# normalize to E164 format\n",
    "def normalize_phone(phone):\n",
    "    try:\n",
    "        phone = phone.split(\"ext\")[0].strip()\n",
    "        z = phonenumbers.parse(phone, 'US')\n",
    "        retVal = phonenumbers.format_number(z, phonenumbers.PhoneNumberFormat.E164)\n",
    "        return retVal\n",
    "    except:\n",
    "        return phone"
   ]
  },
  {
   "cell_type": "code",
   "execution_count": 4,
   "id": "cc640240",
   "metadata": {},
   "outputs": [],
   "source": [
    "def preprocess_restaurants(df):\n",
    "    # Drop duplicates in place\n",
    "    df.drop_duplicates(inplace=True)\n",
    "    \n",
    "    # Drop columns w/ > 25% missing values\n",
    "    missing_value_columns = df.columns[df.isna().mean() >= 0.25]\n",
    "    print('Dropping columns with more than 25% missing values:', missing_value_columns)\n",
    "    df = df.drop(missing_value_columns, axis=1)\n",
    "    \n",
    "    # get only restaurants (filtering by facilitytype)\n",
    "    df = df[df['FACILITYTYPE'] == 'Restaurant']\n",
    "    \n",
    "    # Drop single value column\n",
    "    df = df.drop('FACILITYTYPE', axis=1)\n",
    "\n",
    "    # Drop irrelevant columns\n",
    "    df = df.drop('STATE', axis=1) \n",
    "    \n",
    "    # Convert rest open date\n",
    "    df['RESTAURANTOPENDATE'] = pd.to_datetime(df['RESTAURANTOPENDATE']).dt.date\n",
    "    \n",
    "    # Normalize phone numbers\n",
    "    df['PHONENUMBER'] = df['PHONENUMBER'].apply(lambda x: normalize_phone(x)) \n",
    "    # fix from float to normalized string numbers\n",
    "    df['PHONENUMBER'] = df['PHONENUMBER'].apply(lambda a: str(a).split('.')[0])\n",
    "    df['PHONENUMBER'] = df['PHONENUMBER'].astype(str)\n",
    "\n",
    "    return df"
   ]
  },
  {
   "cell_type": "markdown",
   "id": "76216413",
   "metadata": {},
   "source": [
    "## Call preprocess & validate "
   ]
  },
  {
   "cell_type": "code",
   "execution_count": 5,
   "id": "536ea631",
   "metadata": {},
   "outputs": [
    {
     "name": "stdout",
     "output_type": "stream",
     "text": [
      "\n",
      "Display Raw Data Info ------------------------------\n",
      "\n"
     ]
    },
    {
     "data": {
      "text/plain": [
       "{'OBJECTID': 3635,\n",
       " 'HSISID': 3635,\n",
       " 'NAME': 3501,\n",
       " 'ADDRESS1': 3162,\n",
       " 'ADDRESS2': 297,\n",
       " 'CITY': 45,\n",
       " 'STATE': 1,\n",
       " 'POSTALCODE': 563,\n",
       " 'PHONENUMBER': 3120,\n",
       " 'RESTAURANTOPENDATE': 2251,\n",
       " 'FACILITYTYPE': 10,\n",
       " 'PERMITID': 3635,\n",
       " 'X': 2153,\n",
       " 'Y': 2153,\n",
       " 'GEOCODESTATUS': 3}"
      ]
     },
     "metadata": {},
     "output_type": "display_data"
    },
    {
     "name": "stdout",
     "output_type": "stream",
     "text": [
      "\n",
      "Preprocessing --------------------------------------\n",
      "\n",
      "Dropping columns with more than 25% missing values: Index(['ADDRESS2'], dtype='object')\n",
      "<class 'pandas.core.frame.DataFrame'>\n",
      "Int64Index: 2380 entries, 0 to 3634\n",
      "Data columns (total 12 columns):\n",
      " #   Column              Non-Null Count  Dtype  \n",
      "---  ------              --------------  -----  \n",
      " 0   OBJECTID            2380 non-null   int64  \n",
      " 1   HSISID              2380 non-null   int64  \n",
      " 2   NAME                2380 non-null   object \n",
      " 3   ADDRESS1            2380 non-null   object \n",
      " 4   CITY                2380 non-null   object \n",
      " 5   POSTALCODE          2380 non-null   object \n",
      " 6   PHONENUMBER         2380 non-null   object \n",
      " 7   RESTAURANTOPENDATE  2380 non-null   object \n",
      " 8   PERMITID            2380 non-null   int64  \n",
      " 9   X                   2380 non-null   float64\n",
      " 10  Y                   2380 non-null   float64\n",
      " 11  GEOCODESTATUS       2380 non-null   object \n",
      "dtypes: float64(2), int64(3), object(7)\n",
      "memory usage: 241.7+ KB\n",
      "None\n"
     ]
    }
   ],
   "source": [
    "# Validate shape & data\n",
    "# https://data-wake.opendata.arcgis.com/datasets/Wake::restaurants-in-wake-county/explore?filters=eyJGQUNJTElUWVRZUEUiOlsiUmVzdGF1cmFudCJdfQ%3D%3D&location=35.794181%2C-78.605600%2C3.98&showTable=true\n",
    "\n",
    "print('\\nDisplay Raw Data Info ------------------------------\\n')\n",
    "display({column: len(restaurants_df_raw[column].unique()) for column in restaurants_df_raw.columns})\n",
    "\n",
    "# Preprocess\n",
    "print('\\nPreprocessing --------------------------------------\\n')\n",
    "restaurants_df = preprocess_restaurants(restaurants_df_raw.copy())\n",
    "print(restaurants_df.info())"
   ]
  },
  {
   "cell_type": "code",
   "execution_count": 6,
   "id": "8b031e2b",
   "metadata": {},
   "outputs": [
    {
     "data": {
      "text/plain": [
       "356"
      ]
     },
     "execution_count": 6,
     "metadata": {},
     "output_type": "execute_result"
    }
   ],
   "source": [
    "restaurants_df['POSTALCODE'].nunique()"
   ]
  },
  {
   "cell_type": "code",
   "execution_count": 7,
   "id": "7ff434ea",
   "metadata": {},
   "outputs": [
    {
     "data": {
      "text/plain": [
       "2255"
      ]
     },
     "execution_count": 7,
     "metadata": {},
     "output_type": "execute_result"
    }
   ],
   "source": [
    "restaurants_df['PHONENUMBER'].nunique()"
   ]
  },
  {
   "cell_type": "code",
   "execution_count": 8,
   "id": "fe2b276b",
   "metadata": {},
   "outputs": [
    {
     "data": {
      "text/html": [
       "<div>\n",
       "<style scoped>\n",
       "    .dataframe tbody tr th:only-of-type {\n",
       "        vertical-align: middle;\n",
       "    }\n",
       "\n",
       "    .dataframe tbody tr th {\n",
       "        vertical-align: top;\n",
       "    }\n",
       "\n",
       "    .dataframe thead th {\n",
       "        text-align: right;\n",
       "    }\n",
       "</style>\n",
       "<table border=\"1\" class=\"dataframe\">\n",
       "  <thead>\n",
       "    <tr style=\"text-align: right;\">\n",
       "      <th></th>\n",
       "      <th>OBJECTID</th>\n",
       "      <th>HSISID</th>\n",
       "      <th>NAME</th>\n",
       "      <th>ADDRESS1</th>\n",
       "      <th>CITY</th>\n",
       "      <th>POSTALCODE</th>\n",
       "      <th>PHONENUMBER</th>\n",
       "      <th>RESTAURANTOPENDATE</th>\n",
       "      <th>PERMITID</th>\n",
       "      <th>X</th>\n",
       "      <th>Y</th>\n",
       "      <th>GEOCODESTATUS</th>\n",
       "    </tr>\n",
       "  </thead>\n",
       "  <tbody>\n",
       "    <tr>\n",
       "      <th>0</th>\n",
       "      <td>1924822</td>\n",
       "      <td>4092016155</td>\n",
       "      <td>DAILY PLANET CAFE</td>\n",
       "      <td>11   W JONES ST</td>\n",
       "      <td>RALEIGH</td>\n",
       "      <td>27601</td>\n",
       "      <td>+19197078060</td>\n",
       "      <td>2012-04-12</td>\n",
       "      <td>2</td>\n",
       "      <td>-78.639431</td>\n",
       "      <td>35.782205</td>\n",
       "      <td>M</td>\n",
       "    </tr>\n",
       "    <tr>\n",
       "      <th>1</th>\n",
       "      <td>1924823</td>\n",
       "      <td>4092016161</td>\n",
       "      <td>HIBACHI 88</td>\n",
       "      <td>3416 POOLE RD</td>\n",
       "      <td>RALEIGH</td>\n",
       "      <td>27610</td>\n",
       "      <td>+19192311688</td>\n",
       "      <td>2012-04-18</td>\n",
       "      <td>4</td>\n",
       "      <td>-78.579533</td>\n",
       "      <td>35.767246</td>\n",
       "      <td>M</td>\n",
       "    </tr>\n",
       "    <tr>\n",
       "      <th>2</th>\n",
       "      <td>1924824</td>\n",
       "      <td>4092017180</td>\n",
       "      <td>BOND BROTHERS BEER COMPANY</td>\n",
       "      <td>202 E CEDAR ST</td>\n",
       "      <td>CARY</td>\n",
       "      <td>27511</td>\n",
       "      <td>+19194592670</td>\n",
       "      <td>2016-03-11</td>\n",
       "      <td>5</td>\n",
       "      <td>-78.778021</td>\n",
       "      <td>35.787986</td>\n",
       "      <td>M</td>\n",
       "    </tr>\n",
       "    <tr>\n",
       "      <th>3</th>\n",
       "      <td>1924825</td>\n",
       "      <td>4092018352</td>\n",
       "      <td>Prime Barbeque</td>\n",
       "      <td>403 KNIGHTDALE STATION RUN</td>\n",
       "      <td>KNIGHTDALE</td>\n",
       "      <td>27545</td>\n",
       "      <td>+19193738076</td>\n",
       "      <td>2020-04-22</td>\n",
       "      <td>6</td>\n",
       "      <td>-78.473566</td>\n",
       "      <td>35.797225</td>\n",
       "      <td>M</td>\n",
       "    </tr>\n",
       "    <tr>\n",
       "      <th>6</th>\n",
       "      <td>1924828</td>\n",
       "      <td>4092017192</td>\n",
       "      <td>STARBUCKS #19453</td>\n",
       "      <td>185 GRAND HILL PL</td>\n",
       "      <td>HOLLY SPRINGS</td>\n",
       "      <td>27540</td>\n",
       "      <td>+19195573246</td>\n",
       "      <td>2016-04-05</td>\n",
       "      <td>16</td>\n",
       "      <td>-78.849481</td>\n",
       "      <td>35.662665</td>\n",
       "      <td>M</td>\n",
       "    </tr>\n",
       "  </tbody>\n",
       "</table>\n",
       "</div>"
      ],
      "text/plain": [
       "   OBJECTID      HSISID                        NAME  \\\n",
       "0   1924822  4092016155           DAILY PLANET CAFE   \n",
       "1   1924823  4092016161                  HIBACHI 88   \n",
       "2   1924824  4092017180  BOND BROTHERS BEER COMPANY   \n",
       "3   1924825  4092018352              Prime Barbeque   \n",
       "6   1924828  4092017192            STARBUCKS #19453   \n",
       "\n",
       "                     ADDRESS1           CITY POSTALCODE   PHONENUMBER  \\\n",
       "0            11   W JONES ST         RALEIGH      27601  +19197078060   \n",
       "1              3416 POOLE RD         RALEIGH      27610  +19192311688   \n",
       "2             202 E CEDAR ST            CARY      27511  +19194592670   \n",
       "3  403 KNIGHTDALE STATION RUN     KNIGHTDALE      27545  +19193738076   \n",
       "6          185 GRAND HILL PL   HOLLY SPRINGS      27540  +19195573246   \n",
       "\n",
       "  RESTAURANTOPENDATE  PERMITID          X          Y GEOCODESTATUS  \n",
       "0         2012-04-12         2 -78.639431  35.782205             M  \n",
       "1         2012-04-18         4 -78.579533  35.767246             M  \n",
       "2         2016-03-11         5 -78.778021  35.787986             M  \n",
       "3         2020-04-22         6 -78.473566  35.797225             M  \n",
       "6         2016-04-05        16 -78.849481  35.662665             M  "
      ]
     },
     "metadata": {},
     "output_type": "display_data"
    }
   ],
   "source": [
    "display(restaurants_df.head())"
   ]
  },
  {
   "cell_type": "markdown",
   "id": "3dc9d73e",
   "metadata": {},
   "source": [
    "## Save preprocessed restaurants data in preprocessed_restaurants"
   ]
  },
  {
   "cell_type": "code",
   "execution_count": 9,
   "id": "390e9bcf",
   "metadata": {},
   "outputs": [],
   "source": [
    "restaurants_df.to_csv('preprocessed_restaurants.csv', index=False)"
   ]
  },
  {
   "cell_type": "code",
   "execution_count": 10,
   "id": "04597c3a",
   "metadata": {},
   "outputs": [
    {
     "data": {
      "text/html": [
       "<div>\n",
       "<style scoped>\n",
       "    .dataframe tbody tr th:only-of-type {\n",
       "        vertical-align: middle;\n",
       "    }\n",
       "\n",
       "    .dataframe tbody tr th {\n",
       "        vertical-align: top;\n",
       "    }\n",
       "\n",
       "    .dataframe thead th {\n",
       "        text-align: right;\n",
       "    }\n",
       "</style>\n",
       "<table border=\"1\" class=\"dataframe\">\n",
       "  <thead>\n",
       "    <tr style=\"text-align: right;\">\n",
       "      <th></th>\n",
       "      <th>OBJECTID</th>\n",
       "      <th>HSISID</th>\n",
       "      <th>NAME</th>\n",
       "      <th>ADDRESS1</th>\n",
       "      <th>CITY</th>\n",
       "      <th>POSTALCODE</th>\n",
       "      <th>PHONENUMBER</th>\n",
       "      <th>RESTAURANTOPENDATE</th>\n",
       "      <th>PERMITID</th>\n",
       "      <th>X</th>\n",
       "      <th>Y</th>\n",
       "      <th>GEOCODESTATUS</th>\n",
       "    </tr>\n",
       "  </thead>\n",
       "  <tbody>\n",
       "    <tr>\n",
       "      <th>0</th>\n",
       "      <td>1924822</td>\n",
       "      <td>4092016155</td>\n",
       "      <td>DAILY PLANET CAFE</td>\n",
       "      <td>11   W JONES ST</td>\n",
       "      <td>RALEIGH</td>\n",
       "      <td>27601</td>\n",
       "      <td>+19197078060</td>\n",
       "      <td>2012-04-12</td>\n",
       "      <td>2</td>\n",
       "      <td>-78.639431</td>\n",
       "      <td>35.782205</td>\n",
       "      <td>M</td>\n",
       "    </tr>\n",
       "    <tr>\n",
       "      <th>1</th>\n",
       "      <td>1924823</td>\n",
       "      <td>4092016161</td>\n",
       "      <td>HIBACHI 88</td>\n",
       "      <td>3416 POOLE RD</td>\n",
       "      <td>RALEIGH</td>\n",
       "      <td>27610</td>\n",
       "      <td>+19192311688</td>\n",
       "      <td>2012-04-18</td>\n",
       "      <td>4</td>\n",
       "      <td>-78.579533</td>\n",
       "      <td>35.767246</td>\n",
       "      <td>M</td>\n",
       "    </tr>\n",
       "    <tr>\n",
       "      <th>2</th>\n",
       "      <td>1924824</td>\n",
       "      <td>4092017180</td>\n",
       "      <td>BOND BROTHERS BEER COMPANY</td>\n",
       "      <td>202 E CEDAR ST</td>\n",
       "      <td>CARY</td>\n",
       "      <td>27511</td>\n",
       "      <td>+19194592670</td>\n",
       "      <td>2016-03-11</td>\n",
       "      <td>5</td>\n",
       "      <td>-78.778021</td>\n",
       "      <td>35.787986</td>\n",
       "      <td>M</td>\n",
       "    </tr>\n",
       "    <tr>\n",
       "      <th>3</th>\n",
       "      <td>1924825</td>\n",
       "      <td>4092018352</td>\n",
       "      <td>Prime Barbeque</td>\n",
       "      <td>403 KNIGHTDALE STATION RUN</td>\n",
       "      <td>KNIGHTDALE</td>\n",
       "      <td>27545</td>\n",
       "      <td>+19193738076</td>\n",
       "      <td>2020-04-22</td>\n",
       "      <td>6</td>\n",
       "      <td>-78.473566</td>\n",
       "      <td>35.797225</td>\n",
       "      <td>M</td>\n",
       "    </tr>\n",
       "    <tr>\n",
       "      <th>4</th>\n",
       "      <td>1924828</td>\n",
       "      <td>4092017192</td>\n",
       "      <td>STARBUCKS #19453</td>\n",
       "      <td>185 GRAND HILL PL</td>\n",
       "      <td>HOLLY SPRINGS</td>\n",
       "      <td>27540</td>\n",
       "      <td>+19195573246</td>\n",
       "      <td>2016-04-05</td>\n",
       "      <td>16</td>\n",
       "      <td>-78.849481</td>\n",
       "      <td>35.662665</td>\n",
       "      <td>M</td>\n",
       "    </tr>\n",
       "  </tbody>\n",
       "</table>\n",
       "</div>"
      ],
      "text/plain": [
       "   OBJECTID      HSISID                        NAME  \\\n",
       "0   1924822  4092016155           DAILY PLANET CAFE   \n",
       "1   1924823  4092016161                  HIBACHI 88   \n",
       "2   1924824  4092017180  BOND BROTHERS BEER COMPANY   \n",
       "3   1924825  4092018352              Prime Barbeque   \n",
       "4   1924828  4092017192            STARBUCKS #19453   \n",
       "\n",
       "                     ADDRESS1           CITY POSTALCODE   PHONENUMBER  \\\n",
       "0            11   W JONES ST         RALEIGH      27601  +19197078060   \n",
       "1              3416 POOLE RD         RALEIGH      27610  +19192311688   \n",
       "2             202 E CEDAR ST            CARY      27511  +19194592670   \n",
       "3  403 KNIGHTDALE STATION RUN     KNIGHTDALE      27545  +19193738076   \n",
       "4          185 GRAND HILL PL   HOLLY SPRINGS      27540  +19195573246   \n",
       "\n",
       "  RESTAURANTOPENDATE  PERMITID          X          Y GEOCODESTATUS  \n",
       "0         2012-04-12         2 -78.639431  35.782205             M  \n",
       "1         2012-04-18         4 -78.579533  35.767246             M  \n",
       "2         2016-03-11         5 -78.778021  35.787986             M  \n",
       "3         2020-04-22         6 -78.473566  35.797225             M  \n",
       "4         2016-04-05        16 -78.849481  35.662665             M  "
      ]
     },
     "execution_count": 10,
     "metadata": {},
     "output_type": "execute_result"
    }
   ],
   "source": [
    "rests = pd.read_csv('preprocessed_restaurants.csv', dtype={'PHONENUMBER': str})\n",
    "rests.head()"
   ]
  },
  {
   "cell_type": "markdown",
   "id": "5ff72180-1371-426b-b7d8-2ab4973190c7",
   "metadata": {},
   "source": [
    "# Profile Report"
   ]
  },
  {
   "cell_type": "code",
   "execution_count": null,
   "id": "c82049c5-0a0b-44f0-918a-01aa7d4268fd",
   "metadata": {},
   "outputs": [],
   "source": [
    "profile = ProfileReport(restaurants_df, title=\"Pandas Profiling Report\", explorative=True)\n",
    "profile"
   ]
  },
  {
   "cell_type": "code",
   "execution_count": 21,
   "id": "8cc968fe-d88f-4915-8b7d-d84208ee1c20",
   "metadata": {},
   "outputs": [
    {
     "data": {
      "text/html": [
       "<div>\n",
       "<style scoped>\n",
       "    .dataframe tbody tr th:only-of-type {\n",
       "        vertical-align: middle;\n",
       "    }\n",
       "\n",
       "    .dataframe tbody tr th {\n",
       "        vertical-align: top;\n",
       "    }\n",
       "\n",
       "    .dataframe thead th {\n",
       "        text-align: right;\n",
       "    }\n",
       "</style>\n",
       "<table border=\"1\" class=\"dataframe\">\n",
       "  <thead>\n",
       "    <tr style=\"text-align: right;\">\n",
       "      <th></th>\n",
       "      <th>centroid_lat</th>\n",
       "      <th>centroid_lon</th>\n",
       "      <th>car_hours</th>\n",
       "      <th>peak_hour</th>\n",
       "    </tr>\n",
       "  </thead>\n",
       "  <tbody>\n",
       "    <tr>\n",
       "      <th>0</th>\n",
       "      <td>45.471549</td>\n",
       "      <td>-73.588684</td>\n",
       "      <td>1772.750000</td>\n",
       "      <td>2</td>\n",
       "    </tr>\n",
       "    <tr>\n",
       "      <th>1</th>\n",
       "      <td>45.543865</td>\n",
       "      <td>-73.562456</td>\n",
       "      <td>986.333333</td>\n",
       "      <td>23</td>\n",
       "    </tr>\n",
       "    <tr>\n",
       "      <th>2</th>\n",
       "      <td>45.487640</td>\n",
       "      <td>-73.642767</td>\n",
       "      <td>354.750000</td>\n",
       "      <td>20</td>\n",
       "    </tr>\n",
       "    <tr>\n",
       "      <th>3</th>\n",
       "      <td>45.522870</td>\n",
       "      <td>-73.595677</td>\n",
       "      <td>560.166667</td>\n",
       "      <td>23</td>\n",
       "    </tr>\n",
       "    <tr>\n",
       "      <th>4</th>\n",
       "      <td>45.453971</td>\n",
       "      <td>-73.738946</td>\n",
       "      <td>2836.666667</td>\n",
       "      <td>19</td>\n",
       "    </tr>\n",
       "  </tbody>\n",
       "</table>\n",
       "</div>"
      ],
      "text/plain": [
       "   centroid_lat  centroid_lon    car_hours  peak_hour\n",
       "0     45.471549    -73.588684  1772.750000          2\n",
       "1     45.543865    -73.562456   986.333333         23\n",
       "2     45.487640    -73.642767   354.750000         20\n",
       "3     45.522870    -73.595677   560.166667         23\n",
       "4     45.453971    -73.738946  2836.666667         19"
      ]
     },
     "metadata": {},
     "output_type": "display_data"
    },
    {
     "data": {
      "application/vnd.plotly.v1+json": {
       "config": {
        "plotlyServerURL": "https://plot.ly"
       },
       "data": [
        {
         "hovertemplate": "car_hours=%{marker.size}<br>centroid_lat=%{lat}<br>centroid_lon=%{lon}<extra></extra>",
         "lat": [
          45.471548505146174,
          45.54386506674422,
          45.4876395818664,
          45.52286967122903,
          45.45397130964701,
          45.57312570194822,
          45.53005389171565,
          45.49919320522112,
          45.551300651627535,
          45.55380992033989,
          45.47448282698679,
          45.53249580289159,
          45.56545642757568,
          45.50298109284952,
          45.56711856838078,
          45.480026123563874,
          45.448903185047335,
          45.50303089895005,
          45.609667861846745,
          45.478348275451104,
          45.51951352944332,
          45.56903061932889,
          45.53626021131554,
          45.56857291481607,
          45.54614539811951,
          45.54488834188077,
          45.54515565293561,
          45.47817195218011,
          45.58212955989256,
          45.531215706332375,
          45.55267826328372,
          45.52915993898732,
          45.52404418524071,
          45.50851711032711,
          45.4880586878363,
          45.50689566111847,
          45.57894266654677,
          45.46892041666329,
          45.5386616499238,
          45.58530574012526,
          45.46252493114867,
          45.50814302347108,
          45.55224218643183,
          45.53306824136229,
          45.529617524254725,
          45.56172666348032,
          45.45886520703704,
          45.51827128926588,
          45.46330588193452,
          45.45722580199571,
          45.58042126024095,
          45.51220156451264,
          45.548176804195634,
          45.52792120774532,
          45.58971117459708,
          45.53066298367023,
          45.49780367877612,
          45.53978904565592,
          45.52977286764973,
          45.57635821927521,
          45.592896967066345,
          45.54282395560971,
          45.45146052808264,
          45.50017958704209,
          45.55959836008312,
          45.51405331206955,
          45.52098513669111,
          45.51969025678738,
          45.47196677288637,
          45.4940320553664,
          45.57383095629989,
          45.47270552917877,
          45.58204625444414,
          45.4810627259832,
          45.60751580853944,
          45.50429652950133,
          45.459862270272,
          45.550869209779385,
          45.52515960693799,
          45.50743686739271,
          45.54836167081622,
          45.53036120501041,
          45.49339463589723,
          45.49643413195211,
          45.561211827035706,
          45.55537527937125,
          45.52524090241434,
          45.542945623835706,
          45.465546068371886,
          45.51646059071524,
          45.53280566796844,
          45.47963265657448,
          45.45591463685107,
          45.54630844232351,
          45.49848094816177,
          45.528525372523454,
          45.56579154043406,
          45.53765718184978,
          45.47455332862991,
          45.5279051561684,
          45.494951534596034,
          45.465088224907866,
          45.59654571636812,
          45.491523525524194,
          45.51792291961748,
          45.46777843101408,
          45.51117458455963,
          45.54915899878871,
          45.535767560039695,
          45.49044848119951,
          45.538238804018775,
          45.5277041052173,
          45.534777091929946,
          45.48934750923581,
          45.45408718820735,
          45.472649739508654,
          45.55659444198,
          45.483089972430825,
          45.49619305656642,
          45.55742769063361,
          45.49971820106133,
          45.48523078626532,
          45.45863614550253,
          45.50110763484297,
          45.50643446059914,
          45.52764608144713,
          45.48910798882796,
          45.52543292800497,
          45.60326418430284,
          45.47822467091599,
          45.56923339719061,
          45.46715978062781,
          45.543842954244646,
          45.47954227936379,
          45.47510964560248,
          45.54858377217711,
          45.54415239549018,
          45.61087892678886,
          45.481028563111394,
          45.52753294236388,
          45.50713730344406,
          45.54445300313406,
          45.53978806387313,
          45.53344000001958,
          45.46746637549487,
          45.53453717264379,
          45.53658915333014,
          45.53429759356232,
          45.52410832338415,
          45.47265626277289,
          45.50559257327809,
          45.51901074555018,
          45.52540175130616,
          45.54048050327387,
          45.48335540200465,
          45.54220224528534,
          45.519876273318,
          45.55095552442233,
          45.51670639951611,
          45.53834507417609,
          45.54348593525155,
          45.49933518159919,
          45.57484789346844,
          45.47790745068288,
          45.54237585056225,
          45.46417997825538,
          45.48897149612501,
          45.570596118677166,
          45.549545481512375,
          45.56161463008111,
          45.48012052331579,
          45.546769706786165,
          45.47728503507936,
          45.582073874173176,
          45.53903174724877,
          45.510890621674776,
          45.51923221924688,
          45.55028382655888,
          45.554677131421606,
          45.509217063208105,
          45.54493929194947,
          45.55102553790574,
          45.46427660479596,
          45.53566818785226,
          45.5222319477743,
          45.53831624591015,
          45.47689750165655,
          45.55427699436827,
          45.54393996853523,
          45.54733066622103,
          45.53172990090744,
          45.52405372692176,
          45.52567648569128,
          45.45566288220533,
          45.514928037931,
          45.52875593668882,
          45.45893633874722,
          45.52339721689325,
          45.53380644488978,
          45.51698913885445,
          45.47417720458765,
          45.52430638232658,
          45.57221159337733,
          45.53143218128847,
          45.52029302323953,
          45.5428521988577,
          45.51177396205147,
          45.476699804159765,
          45.52527451544683,
          45.52904526725249,
          45.54589006890641,
          45.54129653265394,
          45.52641793678303,
          45.506014494884326,
          45.56249120965429,
          45.518606229301774,
          45.52203370353778,
          45.52409679671165,
          45.52247779646763,
          45.53961066076051,
          45.58895991968114,
          45.54559560319731,
          45.537473700456566,
          45.57342046906779,
          45.53557355419221,
          45.50192689559106,
          45.55114485440528,
          45.53782697365083,
          45.52940323053624,
          45.55301895367002,
          45.55058908283418,
          45.49619083697144,
          45.5389132118943,
          45.535798184139765,
          45.5313114537718,
          45.52036705536745,
          45.48313978581276,
          45.55297824741078,
          45.55430120710761,
          45.57092278674684,
          45.53361097030694,
          45.52227967073674,
          45.57044282123756,
          45.48626024282493,
          45.54717058947268,
          45.546481863801525,
          45.495523127814025,
          45.52119924708915,
          45.53256430507208
         ],
         "legendgroup": "",
         "lon": [
          -73.58868408217266,
          -73.56245583980697,
          -73.64276703077329,
          -73.5956772508181,
          -73.73894559925054,
          -73.53990236454271,
          -73.62803605045727,
          -73.56194373919256,
          -73.61171191446698,
          -73.57720679008477,
          -73.63054396371925,
          -73.57956985159979,
          -73.64201176723445,
          -73.62748995674825,
          -73.58439300639695,
          -73.58239204679343,
          -73.59297686556374,
          -73.5790295367978,
          -73.54023161013792,
          -73.57856784133362,
          -73.5793289407554,
          -73.52573081459546,
          -73.56209061086564,
          -73.56084340953332,
          -73.59114755541647,
          -73.63562160484223,
          -73.6172218179539,
          -73.56778840803071,
          -73.5214125066963,
          -73.60636943656155,
          -73.60186065688765,
          -73.61182738988052,
          -73.57255202228934,
          -73.56361361279802,
          -73.62175707085048,
          -73.63992985736493,
          -73.5722622021108,
          -73.61587858172172,
          -73.65684895574016,
          -73.556671023514,
          -73.591450603879,
          -73.61443790111136,
          -73.5567248443471,
          -73.58586652140238,
          -73.59016001500189,
          -73.61316030479036,
          -73.65393428057348,
          -73.53518132112849,
          -73.63201646596775,
          -73.6471457252509,
          -73.62450277147559,
          -73.62439363857663,
          -73.57230388575367,
          -73.61477370856916,
          -73.5124596370787,
          -73.61566624177722,
          -73.64552238789666,
          -73.5647843753964,
          -73.57271916651166,
          -73.55658769397526,
          -73.56283021327646,
          -73.53978288809766,
          -73.60077524293251,
          -73.57356239315693,
          -73.53735411019554,
          -73.6328226471968,
          -73.5859649617064,
          -73.56818790168714,
          -73.645100544613,
          -73.61062703452248,
          -73.60414320228709,
          -73.60760805947412,
          -73.5329739761722,
          -73.56087334817683,
          -73.51375636627016,
          -73.56520883274013,
          -73.58285531458276,
          -73.617846092248,
          -73.6047044738415,
          -73.57429268607511,
          -73.58539717879967,
          -73.62029730985503,
          -73.62504495384513,
          -73.55267239661161,
          -73.5902004112542,
          -73.56930840912791,
          -73.59981458158266,
          -73.62128455035952,
          -73.62067736676947,
          -73.55492741665876,
          -73.64048496482262,
          -73.62987341664497,
          -73.63946019785875,
          -73.60685622581383,
          -73.61967423595867,
          -73.60153035519421,
          -73.59801021780002,
          -73.58232714569509,
          -73.637521859517,
          -73.5845589383217,
          -73.55953118048146,
          -73.65258509641737,
          -73.52593434063824,
          -73.63722045431894,
          -73.58980729398637,
          -73.63595141045859,
          -73.57114931189177,
          -73.63292319176229,
          -73.59674218487977,
          -73.64754965162766,
          -73.60597173479003,
          -73.57565350409223,
          -73.5728803879145,
          -73.57095543068031,
          -73.5871111898369,
          -73.5826189686433,
          -73.53214371066534,
          -73.63467979451553,
          -73.58337891052282,
          -73.60077343846366,
          -73.6544874970073,
          -73.61782510513464,
          -73.64348260405826,
          -73.63443884623427,
          -73.55280978474548,
          -73.59350797166334,
          -73.6314622358004,
          -73.62642522019199,
          -73.53716899543986,
          -73.6131691288042,
          -73.56970219899235,
          -73.64277864672295,
          -73.58224236729227,
          -73.54759113967883,
          -73.56317906950511,
          -73.57887887297544,
          -73.59658041602985,
          -73.53187026901544,
          -73.62384266869233,
          -73.58132388945315,
          -73.63043341873463,
          -73.54776346337367,
          -73.54278601036688,
          -73.5547199999811,
          -73.59078190259488,
          -73.59256240577943,
          -73.62157941242943,
          -73.61041764596348,
          -73.58731842223665,
          -73.62370107695057,
          -73.62277637402323,
          -73.57542843260613,
          -73.61022133725439,
          -73.63688048862373,
          -73.58250497434213,
          -73.61142929406647,
          -73.5829101943345,
          -73.59145464281357,
          -73.57855556771429,
          -73.57053862449274,
          -73.57027313720633,
          -73.62608825396849,
          -73.5635392336782,
          -73.62640937405116,
          -73.55538289355314,
          -73.62592082119164,
          -73.62783793313959,
          -73.52828137402979,
          -73.56715045890071,
          -73.57406730167698,
          -73.57250207253963,
          -73.53904284095108,
          -73.58122340486779,
          -73.54826893987729,
          -73.60093377104955,
          -73.57633721593862,
          -73.57244658989525,
          -73.60783357287939,
          -73.54632265433347,
          -73.61862500763353,
          -73.62750959017946,
          -73.56330138226609,
          -73.64748824071867,
          -73.56861361257508,
          -73.60012669507964,
          -73.57466650421921,
          -73.58830635134413,
          -73.62166601126063,
          -73.57394431922157,
          -73.60149624886525,
          -73.5764851307457,
          -73.5653588020603,
          -73.59003684764208,
          -73.64576984962405,
          -73.5716441021712,
          -73.57904510571099,
          -73.59639171903568,
          -73.60671288562885,
          -73.58376257412169,
          -73.58364027226557,
          -73.59403776813,
          -73.58198744370928,
          -73.54796924219626,
          -73.56470160854694,
          -73.59161297526235,
          -73.60552201275355,
          -73.63749469512531,
          -73.61960578900425,
          -73.5938625905676,
          -73.56435515803537,
          -73.613329142374,
          -73.58761174867594,
          -73.59653658066382,
          -73.62601031881215,
          -73.58319715388312,
          -73.59475241426874,
          -73.57113021855815,
          -73.57841797764475,
          -73.57478446870938,
          -73.62661841692122,
          -73.53758992480975,
          -73.5672399814485,
          -73.57729937169172,
          -73.6327727768197,
          -73.57917172211978,
          -73.62989603799815,
          -73.53770269990456,
          -73.61519170037559,
          -73.58716197505838,
          -73.58388794985183,
          -73.57424335824136,
          -73.62436735080055,
          -73.5792013969,
          -73.58664104188827,
          -73.58372215024325,
          -73.59761235604635,
          -73.57653648384526,
          -73.59484359129024,
          -73.56162491267922,
          -73.57715490720366,
          -73.60106645724453,
          -73.5684337774366,
          -73.52518192920604,
          -73.63860168141315,
          -73.55625786283633,
          -73.5749389146122,
          -73.62772501663683,
          -73.581789228748,
          -73.5675347056023
         ],
         "marker": {
          "color": "#636efa",
          "size": [
           1772.7499999995052,
           986.3333333335024,
           354.74999999998914,
           560.166666666642,
           2836.666666667356,
           1022.7500000001857,
           835.7500000001006,
           1888.3333333327332,
           1030.75000000018,
           1841.1666666661097,
           1966.166666665996,
           1532.9999999997233,
           834.1666666667666,
           289.0000000000041,
           273.58333333334093,
           594.8333333333244,
           1020.9166666668516,
           1428.4999999998183,
           670.7500000000256,
           489.4999999999585,
           1426.3333333331536,
           422.49999999997374,
           1624.7499999996398,
           732.7500000000538,
           1969.6666666659928,
           1657.9999999996096,
           665.5833333333566,
           805.08333333342,
           217.75000000000728,
           1332.583333333239,
           630.5000000000073,
           559.9999999999752,
           456.1666666666328,
           1185.8333333333724,
           1112.6666666667722,
           1016.5833333335162,
           1367.249999999874,
           1767.9999999995096,
           2291.9999999996985,
           552.8333333333053,
           1397.9166666665128,
           997.7500000001744,
           926.1666666668084,
           323.166666666663,
           833.0833333334327,
           1394.416666666516,
           601.7499999999942,
           1724.4999999995491,
           1061.5833333334854,
           325.74999999999574,
           1271.5833333332944,
           1951.0833333326764,
           961.4166666668244,
           507.83333333328767,
           679.6666666666963,
           734.833333333388,
           1057.4166666668225,
           262.8333333333434,
           1302.7499999999327,
           345.8333333333245,
           1543.3333333330472,
           630.7500000000074,
           1164.5833333333917,
           1676.9999999995923,
           1282.5833333332844,
           1019.000000000184,
           1719.1666666662206,
           681.5000000000305,
           287.66666666667106,
           1559.333333333033,
           627.4166666666725,
           1863.7499999994225,
           867.2500000001149,
           2413.4999999999195,
           1322.3333333332482,
           3274.0000000014848,
           1558.9166666663664,
           1902.416666666054,
           1609.166666666321,
           2773.250000000574,
           1940.6666666660192,
           1597.4999999996646,
           162.500000000001,
           1929.0833333326964,
           847.0000000001057,
           1522.7499999997326,
           635.3333333333428,
           2057.166666665938,
           845.9166666667719,
           2022.9166666659444,
           1598.7499999996635,
           566.8333333333117,
           1714.1666666662252,
           680.50000000003,
           1043.2500000001687,
           673.3333333333601,
           1105.750000000112,
           1382.9999999998597,
           531.4999999999623,
           635.0000000000093,
           2376.833333333186,
           462.4166666666313,
           1315.6666666665876,
           504.4166666666218,
           741.2500000000576,
           867.3333333334483,
           875.5833333334521,
           2188.1666666661763,
           1172.8333333333842,
           332.4999999999942,
           1351.749999999888,
           966.25000000016,
           981.750000000167,
           1714.3333333328917,
           813.833333333424,
           863.7500000001133,
           1202.1666666666908,
           665.0833333333563,
           2433.83333333329,
           1189.0000000000362,
           2298.583333333044,
           1414.9166666664971,
           476.4999999999615,
           766.3333333334024,
           2338.249999999782,
           1170.500000000053,
           716.0000000000462,
           1228.083333333334,
           511.8333333332868,
           1357.3333333332164,
           1144.0833333334103,
           292.5000000000033,
           1069.0833333334783,
           1552.333333333039,
           1029.9166666668475,
           2752.83333333387,
           2077.1666666659744,
           1167.8333333333887,
           658.2500000000199,
           741.7500000000579,
           520.4166666666239,
           2127.4999999993997,
           1093.2500000001232,
           1590.4166666663375,
           696.4166666667039,
           1286.8333333332805,
           1489.1666666664298,
           1796.91666666615,
           1298.2499999999368,
           921.583333333473,
           605.5833333333293,
           1245.1666666666515,
           1261.9166666666365,
           1705.4999999995664,
           1363.999999999877,
           790.9166666667469,
           1067.7500000001464,
           1320.4999999999166,
           1317.416666666586,
           1404.3333333331736,
           648.6666666666822,
           309.7499999999994,
           484.9999999999595,
           439.3333333333032,
           814.1666666667575,
           1264.4166666666342,
           655.583333333352,
           342.66666666665856,
           626.5000000000055,
           1059.9166666668202,
           321.66666666666333,
           676.4166666666948,
           201.9166666666721,
           1223.916666666671,
           1687.4166666662495,
           1112.583333333439,
           466.7499999999637,
           785.0833333334109,
           1800.833333332813,
           1364.5833333332098,
           2299.7499999997126,
           1038.7500000001728,
           722.8333333333826,
           1706.999999999565,
           1231.7499999999973,
           967.833333333494,
           1386.5833333331898,
           192.41666666667103,
           291.3333333333369,
           1370.9166666665374,
           605.4999999999959,
           194.08333333333792,
           538.7499999999656,
           33.24999999999985,
           1792.749999999487,
           737.0833333333891,
           1153.7500000000682,
           886.0000000001235,
           955.6666666668218,
           1071.2500000001432,
           748.2500000000608,
           1487.8333333330977,
           835.7500000001006,
           889.0000000001248,
           1337.4166666665678,
           1137.3333333334165,
           966.25000000016,
           1034.0000000001771,
           1499.6666666664205,
           503.58333333328864,
           894.9166666667942,
           1749.4166666661931,
           1879.749999999408,
           635.1666666666761,
           777.0833333334073,
           1202.9166666666902,
           560.4999999999754,
           790.3333333334133,
           797.5833333334166,
           1156.5000000000657,
           1462.9166666664537,
           1168.0833333333885,
           456.24999999996606,
           1019.7500000001844,
           1167.166666666723,
           478.0833333332944,
           1599.7499999996626,
           1578.0833333330156,
           494.49999999995737,
           1705.1666666662334,
           947.6666666668182,
           114.49999999999784,
           759.4166666667326,
           1567.6666666663584,
           547.9999999999698,
           978.3333333334988,
           673.08333333336,
           1354.666666666552,
           1355.1666666665517,
           898.0000000001289,
           701.6666666667063,
           873.1666666667843,
           235.41666666667595,
           998.6666666668414,
           951.41666666682,
           795.4166666667489,
           425.749999999973,
           1044.8333333335006,
           694.9166666667032
          ],
          "sizemode": "area",
          "sizeref": 14.55111111111771
         },
         "mode": "markers",
         "name": "",
         "showlegend": false,
         "subplot": "mapbox",
         "type": "scattermapbox"
        }
       ],
       "layout": {
        "autosize": true,
        "legend": {
         "itemsizing": "constant",
         "tracegroupgap": 0
        },
        "mapbox": {
         "accesstoken": "pk.eyJ1IjoiaGVhcnNjaCIsImEiOiJja3Z6eGdzbGgwc2lmMm5ycDI2ZHE2bjhwIn0.H7rY4NZjvHX3ihaZwCFaXw",
         "bearing": 0,
         "center": {
          "lat": 45.53247694176716,
          "lon": -73.64085498881707
         },
         "domain": {
          "x": [
           0,
           1
          ],
          "y": [
           0,
           1
          ]
         },
         "pitch": 0,
         "zoom": 10.327538874619908
        },
        "margin": {
         "t": 60
        },
        "template": {
         "data": {
          "bar": [
           {
            "error_x": {
             "color": "#2a3f5f"
            },
            "error_y": {
             "color": "#2a3f5f"
            },
            "marker": {
             "line": {
              "color": "#E5ECF6",
              "width": 0.5
             },
             "pattern": {
              "fillmode": "overlay",
              "size": 10,
              "solidity": 0.2
             }
            },
            "type": "bar"
           }
          ],
          "barpolar": [
           {
            "marker": {
             "line": {
              "color": "#E5ECF6",
              "width": 0.5
             },
             "pattern": {
              "fillmode": "overlay",
              "size": 10,
              "solidity": 0.2
             }
            },
            "type": "barpolar"
           }
          ],
          "carpet": [
           {
            "aaxis": {
             "endlinecolor": "#2a3f5f",
             "gridcolor": "white",
             "linecolor": "white",
             "minorgridcolor": "white",
             "startlinecolor": "#2a3f5f"
            },
            "baxis": {
             "endlinecolor": "#2a3f5f",
             "gridcolor": "white",
             "linecolor": "white",
             "minorgridcolor": "white",
             "startlinecolor": "#2a3f5f"
            },
            "type": "carpet"
           }
          ],
          "choropleth": [
           {
            "colorbar": {
             "outlinewidth": 0,
             "ticks": ""
            },
            "type": "choropleth"
           }
          ],
          "contour": [
           {
            "colorbar": {
             "outlinewidth": 0,
             "ticks": ""
            },
            "colorscale": [
             [
              0,
              "#0d0887"
             ],
             [
              0.1111111111111111,
              "#46039f"
             ],
             [
              0.2222222222222222,
              "#7201a8"
             ],
             [
              0.3333333333333333,
              "#9c179e"
             ],
             [
              0.4444444444444444,
              "#bd3786"
             ],
             [
              0.5555555555555556,
              "#d8576b"
             ],
             [
              0.6666666666666666,
              "#ed7953"
             ],
             [
              0.7777777777777778,
              "#fb9f3a"
             ],
             [
              0.8888888888888888,
              "#fdca26"
             ],
             [
              1,
              "#f0f921"
             ]
            ],
            "type": "contour"
           }
          ],
          "contourcarpet": [
           {
            "colorbar": {
             "outlinewidth": 0,
             "ticks": ""
            },
            "type": "contourcarpet"
           }
          ],
          "heatmap": [
           {
            "colorbar": {
             "outlinewidth": 0,
             "ticks": ""
            },
            "colorscale": [
             [
              0,
              "#0d0887"
             ],
             [
              0.1111111111111111,
              "#46039f"
             ],
             [
              0.2222222222222222,
              "#7201a8"
             ],
             [
              0.3333333333333333,
              "#9c179e"
             ],
             [
              0.4444444444444444,
              "#bd3786"
             ],
             [
              0.5555555555555556,
              "#d8576b"
             ],
             [
              0.6666666666666666,
              "#ed7953"
             ],
             [
              0.7777777777777778,
              "#fb9f3a"
             ],
             [
              0.8888888888888888,
              "#fdca26"
             ],
             [
              1,
              "#f0f921"
             ]
            ],
            "type": "heatmap"
           }
          ],
          "heatmapgl": [
           {
            "colorbar": {
             "outlinewidth": 0,
             "ticks": ""
            },
            "colorscale": [
             [
              0,
              "#0d0887"
             ],
             [
              0.1111111111111111,
              "#46039f"
             ],
             [
              0.2222222222222222,
              "#7201a8"
             ],
             [
              0.3333333333333333,
              "#9c179e"
             ],
             [
              0.4444444444444444,
              "#bd3786"
             ],
             [
              0.5555555555555556,
              "#d8576b"
             ],
             [
              0.6666666666666666,
              "#ed7953"
             ],
             [
              0.7777777777777778,
              "#fb9f3a"
             ],
             [
              0.8888888888888888,
              "#fdca26"
             ],
             [
              1,
              "#f0f921"
             ]
            ],
            "type": "heatmapgl"
           }
          ],
          "histogram": [
           {
            "marker": {
             "pattern": {
              "fillmode": "overlay",
              "size": 10,
              "solidity": 0.2
             }
            },
            "type": "histogram"
           }
          ],
          "histogram2d": [
           {
            "colorbar": {
             "outlinewidth": 0,
             "ticks": ""
            },
            "colorscale": [
             [
              0,
              "#0d0887"
             ],
             [
              0.1111111111111111,
              "#46039f"
             ],
             [
              0.2222222222222222,
              "#7201a8"
             ],
             [
              0.3333333333333333,
              "#9c179e"
             ],
             [
              0.4444444444444444,
              "#bd3786"
             ],
             [
              0.5555555555555556,
              "#d8576b"
             ],
             [
              0.6666666666666666,
              "#ed7953"
             ],
             [
              0.7777777777777778,
              "#fb9f3a"
             ],
             [
              0.8888888888888888,
              "#fdca26"
             ],
             [
              1,
              "#f0f921"
             ]
            ],
            "type": "histogram2d"
           }
          ],
          "histogram2dcontour": [
           {
            "colorbar": {
             "outlinewidth": 0,
             "ticks": ""
            },
            "colorscale": [
             [
              0,
              "#0d0887"
             ],
             [
              0.1111111111111111,
              "#46039f"
             ],
             [
              0.2222222222222222,
              "#7201a8"
             ],
             [
              0.3333333333333333,
              "#9c179e"
             ],
             [
              0.4444444444444444,
              "#bd3786"
             ],
             [
              0.5555555555555556,
              "#d8576b"
             ],
             [
              0.6666666666666666,
              "#ed7953"
             ],
             [
              0.7777777777777778,
              "#fb9f3a"
             ],
             [
              0.8888888888888888,
              "#fdca26"
             ],
             [
              1,
              "#f0f921"
             ]
            ],
            "type": "histogram2dcontour"
           }
          ],
          "mesh3d": [
           {
            "colorbar": {
             "outlinewidth": 0,
             "ticks": ""
            },
            "type": "mesh3d"
           }
          ],
          "parcoords": [
           {
            "line": {
             "colorbar": {
              "outlinewidth": 0,
              "ticks": ""
             }
            },
            "type": "parcoords"
           }
          ],
          "pie": [
           {
            "automargin": true,
            "type": "pie"
           }
          ],
          "scatter": [
           {
            "marker": {
             "colorbar": {
              "outlinewidth": 0,
              "ticks": ""
             }
            },
            "type": "scatter"
           }
          ],
          "scatter3d": [
           {
            "line": {
             "colorbar": {
              "outlinewidth": 0,
              "ticks": ""
             }
            },
            "marker": {
             "colorbar": {
              "outlinewidth": 0,
              "ticks": ""
             }
            },
            "type": "scatter3d"
           }
          ],
          "scattercarpet": [
           {
            "marker": {
             "colorbar": {
              "outlinewidth": 0,
              "ticks": ""
             }
            },
            "type": "scattercarpet"
           }
          ],
          "scattergeo": [
           {
            "marker": {
             "colorbar": {
              "outlinewidth": 0,
              "ticks": ""
             }
            },
            "type": "scattergeo"
           }
          ],
          "scattergl": [
           {
            "marker": {
             "colorbar": {
              "outlinewidth": 0,
              "ticks": ""
             }
            },
            "type": "scattergl"
           }
          ],
          "scattermapbox": [
           {
            "marker": {
             "colorbar": {
              "outlinewidth": 0,
              "ticks": ""
             }
            },
            "type": "scattermapbox"
           }
          ],
          "scatterpolar": [
           {
            "marker": {
             "colorbar": {
              "outlinewidth": 0,
              "ticks": ""
             }
            },
            "type": "scatterpolar"
           }
          ],
          "scatterpolargl": [
           {
            "marker": {
             "colorbar": {
              "outlinewidth": 0,
              "ticks": ""
             }
            },
            "type": "scatterpolargl"
           }
          ],
          "scatterternary": [
           {
            "marker": {
             "colorbar": {
              "outlinewidth": 0,
              "ticks": ""
             }
            },
            "type": "scatterternary"
           }
          ],
          "surface": [
           {
            "colorbar": {
             "outlinewidth": 0,
             "ticks": ""
            },
            "colorscale": [
             [
              0,
              "#0d0887"
             ],
             [
              0.1111111111111111,
              "#46039f"
             ],
             [
              0.2222222222222222,
              "#7201a8"
             ],
             [
              0.3333333333333333,
              "#9c179e"
             ],
             [
              0.4444444444444444,
              "#bd3786"
             ],
             [
              0.5555555555555556,
              "#d8576b"
             ],
             [
              0.6666666666666666,
              "#ed7953"
             ],
             [
              0.7777777777777778,
              "#fb9f3a"
             ],
             [
              0.8888888888888888,
              "#fdca26"
             ],
             [
              1,
              "#f0f921"
             ]
            ],
            "type": "surface"
           }
          ],
          "table": [
           {
            "cells": {
             "fill": {
              "color": "#EBF0F8"
             },
             "line": {
              "color": "white"
             }
            },
            "header": {
             "fill": {
              "color": "#C8D4E3"
             },
             "line": {
              "color": "white"
             }
            },
            "type": "table"
           }
          ]
         },
         "layout": {
          "annotationdefaults": {
           "arrowcolor": "#2a3f5f",
           "arrowhead": 0,
           "arrowwidth": 1
          },
          "autotypenumbers": "strict",
          "coloraxis": {
           "colorbar": {
            "outlinewidth": 0,
            "ticks": ""
           }
          },
          "colorscale": {
           "diverging": [
            [
             0,
             "#8e0152"
            ],
            [
             0.1,
             "#c51b7d"
            ],
            [
             0.2,
             "#de77ae"
            ],
            [
             0.3,
             "#f1b6da"
            ],
            [
             0.4,
             "#fde0ef"
            ],
            [
             0.5,
             "#f7f7f7"
            ],
            [
             0.6,
             "#e6f5d0"
            ],
            [
             0.7,
             "#b8e186"
            ],
            [
             0.8,
             "#7fbc41"
            ],
            [
             0.9,
             "#4d9221"
            ],
            [
             1,
             "#276419"
            ]
           ],
           "sequential": [
            [
             0,
             "#0d0887"
            ],
            [
             0.1111111111111111,
             "#46039f"
            ],
            [
             0.2222222222222222,
             "#7201a8"
            ],
            [
             0.3333333333333333,
             "#9c179e"
            ],
            [
             0.4444444444444444,
             "#bd3786"
            ],
            [
             0.5555555555555556,
             "#d8576b"
            ],
            [
             0.6666666666666666,
             "#ed7953"
            ],
            [
             0.7777777777777778,
             "#fb9f3a"
            ],
            [
             0.8888888888888888,
             "#fdca26"
            ],
            [
             1,
             "#f0f921"
            ]
           ],
           "sequentialminus": [
            [
             0,
             "#0d0887"
            ],
            [
             0.1111111111111111,
             "#46039f"
            ],
            [
             0.2222222222222222,
             "#7201a8"
            ],
            [
             0.3333333333333333,
             "#9c179e"
            ],
            [
             0.4444444444444444,
             "#bd3786"
            ],
            [
             0.5555555555555556,
             "#d8576b"
            ],
            [
             0.6666666666666666,
             "#ed7953"
            ],
            [
             0.7777777777777778,
             "#fb9f3a"
            ],
            [
             0.8888888888888888,
             "#fdca26"
            ],
            [
             1,
             "#f0f921"
            ]
           ]
          },
          "colorway": [
           "#636efa",
           "#EF553B",
           "#00cc96",
           "#ab63fa",
           "#FFA15A",
           "#19d3f3",
           "#FF6692",
           "#B6E880",
           "#FF97FF",
           "#FECB52"
          ],
          "font": {
           "color": "#2a3f5f"
          },
          "geo": {
           "bgcolor": "white",
           "lakecolor": "white",
           "landcolor": "#E5ECF6",
           "showlakes": true,
           "showland": true,
           "subunitcolor": "white"
          },
          "hoverlabel": {
           "align": "left"
          },
          "hovermode": "closest",
          "mapbox": {
           "style": "light"
          },
          "paper_bgcolor": "white",
          "plot_bgcolor": "#E5ECF6",
          "polar": {
           "angularaxis": {
            "gridcolor": "white",
            "linecolor": "white",
            "ticks": ""
           },
           "bgcolor": "#E5ECF6",
           "radialaxis": {
            "gridcolor": "white",
            "linecolor": "white",
            "ticks": ""
           }
          },
          "scene": {
           "xaxis": {
            "backgroundcolor": "#E5ECF6",
            "gridcolor": "white",
            "gridwidth": 2,
            "linecolor": "white",
            "showbackground": true,
            "ticks": "",
            "zerolinecolor": "white"
           },
           "yaxis": {
            "backgroundcolor": "#E5ECF6",
            "gridcolor": "white",
            "gridwidth": 2,
            "linecolor": "white",
            "showbackground": true,
            "ticks": "",
            "zerolinecolor": "white"
           },
           "zaxis": {
            "backgroundcolor": "#E5ECF6",
            "gridcolor": "white",
            "gridwidth": 2,
            "linecolor": "white",
            "showbackground": true,
            "ticks": "",
            "zerolinecolor": "white"
           }
          },
          "shapedefaults": {
           "line": {
            "color": "#2a3f5f"
           }
          },
          "ternary": {
           "aaxis": {
            "gridcolor": "white",
            "linecolor": "white",
            "ticks": ""
           },
           "baxis": {
            "gridcolor": "white",
            "linecolor": "white",
            "ticks": ""
           },
           "bgcolor": "#E5ECF6",
           "caxis": {
            "gridcolor": "white",
            "linecolor": "white",
            "ticks": ""
           }
          },
          "title": {
           "x": 0.05
          },
          "xaxis": {
           "automargin": true,
           "gridcolor": "white",
           "linecolor": "white",
           "ticks": "",
           "title": {
            "standoff": 15
           },
           "zerolinecolor": "white",
           "zerolinewidth": 2
          },
          "yaxis": {
           "automargin": true,
           "gridcolor": "white",
           "linecolor": "white",
           "ticks": "",
           "title": {
            "standoff": 15
           },
           "zerolinecolor": "white",
           "zerolinewidth": 2
          }
         }
        }
       }
      },
      "image/png": "[encoded data removed]",
      "text/html": [
       "<div>                            <div id=\"b446fd63-4d62-4fd4-8f01-e020ea64d526\" class=\"plotly-graph-div\" style=\"height:525px; width:100%;\"></div>            <script type=\"text/javascript\">                require([\"plotly\"], function(Plotly) {                    window.PLOTLYENV=window.PLOTLYENV || {};                                    if (document.getElementById(\"b446fd63-4d62-4fd4-8f01-e020ea64d526\")) {                    Plotly.newPlot(                        \"b446fd63-4d62-4fd4-8f01-e020ea64d526\",                        [{\"hovertemplate\":\"car_hours=%{marker.size}<br>centroid_lat=%{lat}<br>centroid_lon=%{lon}<extra></extra>\",\"lat\":[45.471548505146174,45.54386506674422,45.4876395818664,45.52286967122903,45.45397130964701,45.57312570194822,45.53005389171565,45.49919320522112,45.551300651627535,45.55380992033989,45.47448282698679,45.53249580289159,45.56545642757568,45.50298109284952,45.56711856838078,45.480026123563874,45.448903185047335,45.50303089895005,45.609667861846745,45.478348275451104,45.51951352944332,45.56903061932889,45.53626021131554,45.56857291481607,45.54614539811951,45.54488834188077,45.54515565293561,45.47817195218011,45.58212955989256,45.531215706332375,45.55267826328372,45.52915993898732,45.52404418524071,45.50851711032711,45.4880586878363,45.50689566111847,45.57894266654677,45.46892041666329,45.5386616499238,45.58530574012526,45.46252493114867,45.50814302347108,45.55224218643183,45.53306824136229,45.529617524254725,45.56172666348032,45.45886520703704,45.51827128926588,45.46330588193452,45.45722580199571,45.58042126024095,45.51220156451264,45.548176804195634,45.52792120774532,45.58971117459708,45.53066298367023,45.49780367877612,45.53978904565592,45.52977286764973,45.57635821927521,45.592896967066345,45.54282395560971,45.45146052808264,45.50017958704209,45.55959836008312,45.51405331206955,45.52098513669111,45.51969025678738,45.47196677288637,45.4940320553664,45.57383095629989,45.47270552917877,45.58204625444414,45.4810627259832,45.60751580853944,45.50429652950133,45.459862270272,45.550869209779385,45.52515960693799,45.50743686739271,45.54836167081622,45.53036120501041,45.49339463589723,45.49643413195211,45.561211827035706,45.55537527937125,45.52524090241434,45.542945623835706,45.465546068371886,45.51646059071524,45.53280566796844,45.47963265657448,45.45591463685107,45.54630844232351,45.49848094816177,45.528525372523454,45.56579154043406,45.53765718184978,45.47455332862991,45.5279051561684,45.494951534596034,45.465088224907866,45.59654571636812,45.491523525524194,45.51792291961748,45.46777843101408,45.51117458455963,45.54915899878871,45.535767560039695,45.49044848119951,45.538238804018775,45.5277041052173,45.534777091929946,45.48934750923581,45.45408718820735,45.472649739508654,45.55659444198,45.483089972430825,45.49619305656642,45.55742769063361,45.49971820106133,45.48523078626532,45.45863614550253,45.50110763484297,45.50643446059914,45.52764608144713,45.48910798882796,45.52543292800497,45.60326418430284,45.47822467091599,45.56923339719061,45.46715978062781,45.543842954244646,45.47954227936379,45.47510964560248,45.54858377217711,45.54415239549018,45.61087892678886,45.481028563111394,45.52753294236388,45.50713730344406,45.54445300313406,45.53978806387313,45.53344000001958,45.46746637549487,45.53453717264379,45.53658915333014,45.53429759356232,45.52410832338415,45.47265626277289,45.50559257327809,45.51901074555018,45.52540175130616,45.54048050327387,45.48335540200465,45.54220224528534,45.519876273318,45.55095552442233,45.51670639951611,45.53834507417609,45.54348593525155,45.49933518159919,45.57484789346844,45.47790745068288,45.54237585056225,45.46417997825538,45.48897149612501,45.570596118677166,45.549545481512375,45.56161463008111,45.48012052331579,45.546769706786165,45.47728503507936,45.582073874173176,45.53903174724877,45.510890621674776,45.51923221924688,45.55028382655888,45.554677131421606,45.509217063208105,45.54493929194947,45.55102553790574,45.46427660479596,45.53566818785226,45.5222319477743,45.53831624591015,45.47689750165655,45.55427699436827,45.54393996853523,45.54733066622103,45.53172990090744,45.52405372692176,45.52567648569128,45.45566288220533,45.514928037931,45.52875593668882,45.45893633874722,45.52339721689325,45.53380644488978,45.51698913885445,45.47417720458765,45.52430638232658,45.57221159337733,45.53143218128847,45.52029302323953,45.5428521988577,45.51177396205147,45.476699804159765,45.52527451544683,45.52904526725249,45.54589006890641,45.54129653265394,45.52641793678303,45.506014494884326,45.56249120965429,45.518606229301774,45.52203370353778,45.52409679671165,45.52247779646763,45.53961066076051,45.58895991968114,45.54559560319731,45.537473700456566,45.57342046906779,45.53557355419221,45.50192689559106,45.55114485440528,45.53782697365083,45.52940323053624,45.55301895367002,45.55058908283418,45.49619083697144,45.5389132118943,45.535798184139765,45.5313114537718,45.52036705536745,45.48313978581276,45.55297824741078,45.55430120710761,45.57092278674684,45.53361097030694,45.52227967073674,45.57044282123756,45.48626024282493,45.54717058947268,45.546481863801525,45.495523127814025,45.52119924708915,45.53256430507208],\"legendgroup\":\"\",\"lon\":[-73.58868408217266,-73.56245583980697,-73.64276703077329,-73.5956772508181,-73.73894559925054,-73.53990236454271,-73.62803605045727,-73.56194373919256,-73.61171191446698,-73.57720679008477,-73.63054396371925,-73.57956985159979,-73.64201176723445,-73.62748995674825,-73.58439300639695,-73.58239204679343,-73.59297686556374,-73.5790295367978,-73.54023161013792,-73.57856784133362,-73.5793289407554,-73.52573081459546,-73.56209061086564,-73.56084340953332,-73.59114755541647,-73.63562160484223,-73.6172218179539,-73.56778840803071,-73.5214125066963,-73.60636943656155,-73.60186065688765,-73.61182738988052,-73.57255202228934,-73.56361361279802,-73.62175707085048,-73.63992985736493,-73.5722622021108,-73.61587858172172,-73.65684895574016,-73.556671023514,-73.591450603879,-73.61443790111136,-73.5567248443471,-73.58586652140238,-73.59016001500189,-73.61316030479036,-73.65393428057348,-73.53518132112849,-73.63201646596775,-73.6471457252509,-73.62450277147559,-73.62439363857663,-73.57230388575367,-73.61477370856916,-73.5124596370787,-73.61566624177722,-73.64552238789666,-73.5647843753964,-73.57271916651166,-73.55658769397526,-73.56283021327646,-73.53978288809766,-73.60077524293251,-73.57356239315693,-73.53735411019554,-73.6328226471968,-73.5859649617064,-73.56818790168714,-73.645100544613,-73.61062703452248,-73.60414320228709,-73.60760805947412,-73.5329739761722,-73.56087334817683,-73.51375636627016,-73.56520883274013,-73.58285531458276,-73.617846092248,-73.6047044738415,-73.57429268607511,-73.58539717879967,-73.62029730985503,-73.62504495384513,-73.55267239661161,-73.5902004112542,-73.56930840912791,-73.59981458158266,-73.62128455035952,-73.62067736676947,-73.55492741665876,-73.64048496482262,-73.62987341664497,-73.63946019785875,-73.60685622581383,-73.61967423595867,-73.60153035519421,-73.59801021780002,-73.58232714569509,-73.637521859517,-73.5845589383217,-73.55953118048146,-73.65258509641737,-73.52593434063824,-73.63722045431894,-73.58980729398637,-73.63595141045859,-73.57114931189177,-73.63292319176229,-73.59674218487977,-73.64754965162766,-73.60597173479003,-73.57565350409223,-73.5728803879145,-73.57095543068031,-73.5871111898369,-73.5826189686433,-73.53214371066534,-73.63467979451553,-73.58337891052282,-73.60077343846366,-73.6544874970073,-73.61782510513464,-73.64348260405826,-73.63443884623427,-73.55280978474548,-73.59350797166334,-73.6314622358004,-73.62642522019199,-73.53716899543986,-73.6131691288042,-73.56970219899235,-73.64277864672295,-73.58224236729227,-73.54759113967883,-73.56317906950511,-73.57887887297544,-73.59658041602985,-73.53187026901544,-73.62384266869233,-73.58132388945315,-73.63043341873463,-73.54776346337367,-73.54278601036688,-73.5547199999811,-73.59078190259488,-73.59256240577943,-73.62157941242943,-73.61041764596348,-73.58731842223665,-73.62370107695057,-73.62277637402323,-73.57542843260613,-73.61022133725439,-73.63688048862373,-73.58250497434213,-73.61142929406647,-73.5829101943345,-73.59145464281357,-73.57855556771429,-73.57053862449274,-73.57027313720633,-73.62608825396849,-73.5635392336782,-73.62640937405116,-73.55538289355314,-73.62592082119164,-73.62783793313959,-73.52828137402979,-73.56715045890071,-73.57406730167698,-73.57250207253963,-73.53904284095108,-73.58122340486779,-73.54826893987729,-73.60093377104955,-73.57633721593862,-73.57244658989525,-73.60783357287939,-73.54632265433347,-73.61862500763353,-73.62750959017946,-73.56330138226609,-73.64748824071867,-73.56861361257508,-73.60012669507964,-73.57466650421921,-73.58830635134413,-73.62166601126063,-73.57394431922157,-73.60149624886525,-73.5764851307457,-73.5653588020603,-73.59003684764208,-73.64576984962405,-73.5716441021712,-73.57904510571099,-73.59639171903568,-73.60671288562885,-73.58376257412169,-73.58364027226557,-73.59403776813,-73.58198744370928,-73.54796924219626,-73.56470160854694,-73.59161297526235,-73.60552201275355,-73.63749469512531,-73.61960578900425,-73.5938625905676,-73.56435515803537,-73.613329142374,-73.58761174867594,-73.59653658066382,-73.62601031881215,-73.58319715388312,-73.59475241426874,-73.57113021855815,-73.57841797764475,-73.57478446870938,-73.62661841692122,-73.53758992480975,-73.5672399814485,-73.57729937169172,-73.6327727768197,-73.57917172211978,-73.62989603799815,-73.53770269990456,-73.61519170037559,-73.58716197505838,-73.58388794985183,-73.57424335824136,-73.62436735080055,-73.5792013969,-73.58664104188827,-73.58372215024325,-73.59761235604635,-73.57653648384526,-73.59484359129024,-73.56162491267922,-73.57715490720366,-73.60106645724453,-73.5684337774366,-73.52518192920604,-73.63860168141315,-73.55625786283633,-73.5749389146122,-73.62772501663683,-73.581789228748,-73.5675347056023],\"marker\":{\"color\":\"#636efa\",\"size\":[1772.7499999995052,986.3333333335024,354.74999999998914,560.166666666642,2836.666666667356,1022.7500000001857,835.7500000001006,1888.3333333327332,1030.75000000018,1841.1666666661097,1966.166666665996,1532.9999999997233,834.1666666667666,289.0000000000041,273.58333333334093,594.8333333333244,1020.9166666668516,1428.4999999998183,670.7500000000256,489.4999999999585,1426.3333333331536,422.49999999997374,1624.7499999996398,732.7500000000538,1969.6666666659928,1657.9999999996096,665.5833333333566,805.08333333342,217.75000000000728,1332.583333333239,630.5000000000073,559.9999999999752,456.1666666666328,1185.8333333333724,1112.6666666667722,1016.5833333335162,1367.249999999874,1767.9999999995096,2291.9999999996985,552.8333333333053,1397.9166666665128,997.7500000001744,926.1666666668084,323.166666666663,833.0833333334327,1394.416666666516,601.7499999999942,1724.4999999995491,1061.5833333334854,325.74999999999574,1271.5833333332944,1951.0833333326764,961.4166666668244,507.83333333328767,679.6666666666963,734.833333333388,1057.4166666668225,262.8333333333434,1302.7499999999327,345.8333333333245,1543.3333333330472,630.7500000000074,1164.5833333333917,1676.9999999995923,1282.5833333332844,1019.000000000184,1719.1666666662206,681.5000000000305,287.66666666667106,1559.333333333033,627.4166666666725,1863.7499999994225,867.2500000001149,2413.4999999999195,1322.3333333332482,3274.0000000014848,1558.9166666663664,1902.416666666054,1609.166666666321,2773.250000000574,1940.6666666660192,1597.4999999996646,162.500000000001,1929.0833333326964,847.0000000001057,1522.7499999997326,635.3333333333428,2057.166666665938,845.9166666667719,2022.9166666659444,1598.7499999996635,566.8333333333117,1714.1666666662252,680.50000000003,1043.2500000001687,673.3333333333601,1105.750000000112,1382.9999999998597,531.4999999999623,635.0000000000093,2376.833333333186,462.4166666666313,1315.6666666665876,504.4166666666218,741.2500000000576,867.3333333334483,875.5833333334521,2188.1666666661763,1172.8333333333842,332.4999999999942,1351.749999999888,966.25000000016,981.750000000167,1714.3333333328917,813.833333333424,863.7500000001133,1202.1666666666908,665.0833333333563,2433.83333333329,1189.0000000000362,2298.583333333044,1414.9166666664971,476.4999999999615,766.3333333334024,2338.249999999782,1170.500000000053,716.0000000000462,1228.083333333334,511.8333333332868,1357.3333333332164,1144.0833333334103,292.5000000000033,1069.0833333334783,1552.333333333039,1029.9166666668475,2752.83333333387,2077.1666666659744,1167.8333333333887,658.2500000000199,741.7500000000579,520.4166666666239,2127.4999999993997,1093.2500000001232,1590.4166666663375,696.4166666667039,1286.8333333332805,1489.1666666664298,1796.91666666615,1298.2499999999368,921.583333333473,605.5833333333293,1245.1666666666515,1261.9166666666365,1705.4999999995664,1363.999999999877,790.9166666667469,1067.7500000001464,1320.4999999999166,1317.416666666586,1404.3333333331736,648.6666666666822,309.7499999999994,484.9999999999595,439.3333333333032,814.1666666667575,1264.4166666666342,655.583333333352,342.66666666665856,626.5000000000055,1059.9166666668202,321.66666666666333,676.4166666666948,201.9166666666721,1223.916666666671,1687.4166666662495,1112.583333333439,466.7499999999637,785.0833333334109,1800.833333332813,1364.5833333332098,2299.7499999997126,1038.7500000001728,722.8333333333826,1706.999999999565,1231.7499999999973,967.833333333494,1386.5833333331898,192.41666666667103,291.3333333333369,1370.9166666665374,605.4999999999959,194.08333333333792,538.7499999999656,33.24999999999985,1792.749999999487,737.0833333333891,1153.7500000000682,886.0000000001235,955.6666666668218,1071.2500000001432,748.2500000000608,1487.8333333330977,835.7500000001006,889.0000000001248,1337.4166666665678,1137.3333333334165,966.25000000016,1034.0000000001771,1499.6666666664205,503.58333333328864,894.9166666667942,1749.4166666661931,1879.749999999408,635.1666666666761,777.0833333334073,1202.9166666666902,560.4999999999754,790.3333333334133,797.5833333334166,1156.5000000000657,1462.9166666664537,1168.0833333333885,456.24999999996606,1019.7500000001844,1167.166666666723,478.0833333332944,1599.7499999996626,1578.0833333330156,494.49999999995737,1705.1666666662334,947.6666666668182,114.49999999999784,759.4166666667326,1567.6666666663584,547.9999999999698,978.3333333334988,673.08333333336,1354.666666666552,1355.1666666665517,898.0000000001289,701.6666666667063,873.1666666667843,235.41666666667595,998.6666666668414,951.41666666682,795.4166666667489,425.749999999973,1044.8333333335006,694.9166666667032],\"sizemode\":\"area\",\"sizeref\":14.55111111111771},\"mode\":\"markers\",\"name\":\"\",\"showlegend\":false,\"subplot\":\"mapbox\",\"type\":\"scattermapbox\"}],                        {\"legend\":{\"itemsizing\":\"constant\",\"tracegroupgap\":0},\"mapbox\":{\"accesstoken\":\"pk.eyJ1IjoiaGVhcnNjaCIsImEiOiJja3Z6eGdzbGgwc2lmMm5ycDI2ZHE2bjhwIn0.H7rY4NZjvHX3ihaZwCFaXw\",\"center\":{\"lat\":45.52341668343991,\"lon\":-73.59183434290809},\"domain\":{\"x\":[0.0,1.0],\"y\":[0.0,1.0]},\"zoom\":10},\"margin\":{\"t\":60},\"template\":{\"data\":{\"bar\":[{\"error_x\":{\"color\":\"#2a3f5f\"},\"error_y\":{\"color\":\"#2a3f5f\"},\"marker\":{\"line\":{\"color\":\"#E5ECF6\",\"width\":0.5},\"pattern\":{\"fillmode\":\"overlay\",\"size\":10,\"solidity\":0.2}},\"type\":\"bar\"}],\"barpolar\":[{\"marker\":{\"line\":{\"color\":\"#E5ECF6\",\"width\":0.5},\"pattern\":{\"fillmode\":\"overlay\",\"size\":10,\"solidity\":0.2}},\"type\":\"barpolar\"}],\"carpet\":[{\"aaxis\":{\"endlinecolor\":\"#2a3f5f\",\"gridcolor\":\"white\",\"linecolor\":\"white\",\"minorgridcolor\":\"white\",\"startlinecolor\":\"#2a3f5f\"},\"baxis\":{\"endlinecolor\":\"#2a3f5f\",\"gridcolor\":\"white\",\"linecolor\":\"white\",\"minorgridcolor\":\"white\",\"startlinecolor\":\"#2a3f5f\"},\"type\":\"carpet\"}],\"choropleth\":[{\"colorbar\":{\"outlinewidth\":0,\"ticks\":\"\"},\"type\":\"choropleth\"}],\"contour\":[{\"colorbar\":{\"outlinewidth\":0,\"ticks\":\"\"},\"colorscale\":[[0.0,\"#0d0887\"],[0.1111111111111111,\"#46039f\"],[0.2222222222222222,\"#7201a8\"],[0.3333333333333333,\"#9c179e\"],[0.4444444444444444,\"#bd3786\"],[0.5555555555555556,\"#d8576b\"],[0.6666666666666666,\"#ed7953\"],[0.7777777777777778,\"#fb9f3a\"],[0.8888888888888888,\"#fdca26\"],[1.0,\"#f0f921\"]],\"type\":\"contour\"}],\"contourcarpet\":[{\"colorbar\":{\"outlinewidth\":0,\"ticks\":\"\"},\"type\":\"contourcarpet\"}],\"heatmap\":[{\"colorbar\":{\"outlinewidth\":0,\"ticks\":\"\"},\"colorscale\":[[0.0,\"#0d0887\"],[0.1111111111111111,\"#46039f\"],[0.2222222222222222,\"#7201a8\"],[0.3333333333333333,\"#9c179e\"],[0.4444444444444444,\"#bd3786\"],[0.5555555555555556,\"#d8576b\"],[0.6666666666666666,\"#ed7953\"],[0.7777777777777778,\"#fb9f3a\"],[0.8888888888888888,\"#fdca26\"],[1.0,\"#f0f921\"]],\"type\":\"heatmap\"}],\"heatmapgl\":[{\"colorbar\":{\"outlinewidth\":0,\"ticks\":\"\"},\"colorscale\":[[0.0,\"#0d0887\"],[0.1111111111111111,\"#46039f\"],[0.2222222222222222,\"#7201a8\"],[0.3333333333333333,\"#9c179e\"],[0.4444444444444444,\"#bd3786\"],[0.5555555555555556,\"#d8576b\"],[0.6666666666666666,\"#ed7953\"],[0.7777777777777778,\"#fb9f3a\"],[0.8888888888888888,\"#fdca26\"],[1.0,\"#f0f921\"]],\"type\":\"heatmapgl\"}],\"histogram\":[{\"marker\":{\"pattern\":{\"fillmode\":\"overlay\",\"size\":10,\"solidity\":0.2}},\"type\":\"histogram\"}],\"histogram2d\":[{\"colorbar\":{\"outlinewidth\":0,\"ticks\":\"\"},\"colorscale\":[[0.0,\"#0d0887\"],[0.1111111111111111,\"#46039f\"],[0.2222222222222222,\"#7201a8\"],[0.3333333333333333,\"#9c179e\"],[0.4444444444444444,\"#bd3786\"],[0.5555555555555556,\"#d8576b\"],[0.6666666666666666,\"#ed7953\"],[0.7777777777777778,\"#fb9f3a\"],[0.8888888888888888,\"#fdca26\"],[1.0,\"#f0f921\"]],\"type\":\"histogram2d\"}],\"histogram2dcontour\":[{\"colorbar\":{\"outlinewidth\":0,\"ticks\":\"\"},\"colorscale\":[[0.0,\"#0d0887\"],[0.1111111111111111,\"#46039f\"],[0.2222222222222222,\"#7201a8\"],[0.3333333333333333,\"#9c179e\"],[0.4444444444444444,\"#bd3786\"],[0.5555555555555556,\"#d8576b\"],[0.6666666666666666,\"#ed7953\"],[0.7777777777777778,\"#fb9f3a\"],[0.8888888888888888,\"#fdca26\"],[1.0,\"#f0f921\"]],\"type\":\"histogram2dcontour\"}],\"mesh3d\":[{\"colorbar\":{\"outlinewidth\":0,\"ticks\":\"\"},\"type\":\"mesh3d\"}],\"parcoords\":[{\"line\":{\"colorbar\":{\"outlinewidth\":0,\"ticks\":\"\"}},\"type\":\"parcoords\"}],\"pie\":[{\"automargin\":true,\"type\":\"pie\"}],\"scatter\":[{\"marker\":{\"colorbar\":{\"outlinewidth\":0,\"ticks\":\"\"}},\"type\":\"scatter\"}],\"scatter3d\":[{\"line\":{\"colorbar\":{\"outlinewidth\":0,\"ticks\":\"\"}},\"marker\":{\"colorbar\":{\"outlinewidth\":0,\"ticks\":\"\"}},\"type\":\"scatter3d\"}],\"scattercarpet\":[{\"marker\":{\"colorbar\":{\"outlinewidth\":0,\"ticks\":\"\"}},\"type\":\"scattercarpet\"}],\"scattergeo\":[{\"marker\":{\"colorbar\":{\"outlinewidth\":0,\"ticks\":\"\"}},\"type\":\"scattergeo\"}],\"scattergl\":[{\"marker\":{\"colorbar\":{\"outlinewidth\":0,\"ticks\":\"\"}},\"type\":\"scattergl\"}],\"scattermapbox\":[{\"marker\":{\"colorbar\":{\"outlinewidth\":0,\"ticks\":\"\"}},\"type\":\"scattermapbox\"}],\"scatterpolar\":[{\"marker\":{\"colorbar\":{\"outlinewidth\":0,\"ticks\":\"\"}},\"type\":\"scatterpolar\"}],\"scatterpolargl\":[{\"marker\":{\"colorbar\":{\"outlinewidth\":0,\"ticks\":\"\"}},\"type\":\"scatterpolargl\"}],\"scatterternary\":[{\"marker\":{\"colorbar\":{\"outlinewidth\":0,\"ticks\":\"\"}},\"type\":\"scatterternary\"}],\"surface\":[{\"colorbar\":{\"outlinewidth\":0,\"ticks\":\"\"},\"colorscale\":[[0.0,\"#0d0887\"],[0.1111111111111111,\"#46039f\"],[0.2222222222222222,\"#7201a8\"],[0.3333333333333333,\"#9c179e\"],[0.4444444444444444,\"#bd3786\"],[0.5555555555555556,\"#d8576b\"],[0.6666666666666666,\"#ed7953\"],[0.7777777777777778,\"#fb9f3a\"],[0.8888888888888888,\"#fdca26\"],[1.0,\"#f0f921\"]],\"type\":\"surface\"}],\"table\":[{\"cells\":{\"fill\":{\"color\":\"#EBF0F8\"},\"line\":{\"color\":\"white\"}},\"header\":{\"fill\":{\"color\":\"#C8D4E3\"},\"line\":{\"color\":\"white\"}},\"type\":\"table\"}]},\"layout\":{\"annotationdefaults\":{\"arrowcolor\":\"#2a3f5f\",\"arrowhead\":0,\"arrowwidth\":1},\"autotypenumbers\":\"strict\",\"coloraxis\":{\"colorbar\":{\"outlinewidth\":0,\"ticks\":\"\"}},\"colorscale\":{\"diverging\":[[0,\"#8e0152\"],[0.1,\"#c51b7d\"],[0.2,\"#de77ae\"],[0.3,\"#f1b6da\"],[0.4,\"#fde0ef\"],[0.5,\"#f7f7f7\"],[0.6,\"#e6f5d0\"],[0.7,\"#b8e186\"],[0.8,\"#7fbc41\"],[0.9,\"#4d9221\"],[1,\"#276419\"]],\"sequential\":[[0.0,\"#0d0887\"],[0.1111111111111111,\"#46039f\"],[0.2222222222222222,\"#7201a8\"],[0.3333333333333333,\"#9c179e\"],[0.4444444444444444,\"#bd3786\"],[0.5555555555555556,\"#d8576b\"],[0.6666666666666666,\"#ed7953\"],[0.7777777777777778,\"#fb9f3a\"],[0.8888888888888888,\"#fdca26\"],[1.0,\"#f0f921\"]],\"sequentialminus\":[[0.0,\"#0d0887\"],[0.1111111111111111,\"#46039f\"],[0.2222222222222222,\"#7201a8\"],[0.3333333333333333,\"#9c179e\"],[0.4444444444444444,\"#bd3786\"],[0.5555555555555556,\"#d8576b\"],[0.6666666666666666,\"#ed7953\"],[0.7777777777777778,\"#fb9f3a\"],[0.8888888888888888,\"#fdca26\"],[1.0,\"#f0f921\"]]},\"colorway\":[\"#636efa\",\"#EF553B\",\"#00cc96\",\"#ab63fa\",\"#FFA15A\",\"#19d3f3\",\"#FF6692\",\"#B6E880\",\"#FF97FF\",\"#FECB52\"],\"font\":{\"color\":\"#2a3f5f\"},\"geo\":{\"bgcolor\":\"white\",\"lakecolor\":\"white\",\"landcolor\":\"#E5ECF6\",\"showlakes\":true,\"showland\":true,\"subunitcolor\":\"white\"},\"hoverlabel\":{\"align\":\"left\"},\"hovermode\":\"closest\",\"mapbox\":{\"style\":\"light\"},\"paper_bgcolor\":\"white\",\"plot_bgcolor\":\"#E5ECF6\",\"polar\":{\"angularaxis\":{\"gridcolor\":\"white\",\"linecolor\":\"white\",\"ticks\":\"\"},\"bgcolor\":\"#E5ECF6\",\"radialaxis\":{\"gridcolor\":\"white\",\"linecolor\":\"white\",\"ticks\":\"\"}},\"scene\":{\"xaxis\":{\"backgroundcolor\":\"#E5ECF6\",\"gridcolor\":\"white\",\"gridwidth\":2,\"linecolor\":\"white\",\"showbackground\":true,\"ticks\":\"\",\"zerolinecolor\":\"white\"},\"yaxis\":{\"backgroundcolor\":\"#E5ECF6\",\"gridcolor\":\"white\",\"gridwidth\":2,\"linecolor\":\"white\",\"showbackground\":true,\"ticks\":\"\",\"zerolinecolor\":\"white\"},\"zaxis\":{\"backgroundcolor\":\"#E5ECF6\",\"gridcolor\":\"white\",\"gridwidth\":2,\"linecolor\":\"white\",\"showbackground\":true,\"ticks\":\"\",\"zerolinecolor\":\"white\"}},\"shapedefaults\":{\"line\":{\"color\":\"#2a3f5f\"}},\"ternary\":{\"aaxis\":{\"gridcolor\":\"white\",\"linecolor\":\"white\",\"ticks\":\"\"},\"baxis\":{\"gridcolor\":\"white\",\"linecolor\":\"white\",\"ticks\":\"\"},\"bgcolor\":\"#E5ECF6\",\"caxis\":{\"gridcolor\":\"white\",\"linecolor\":\"white\",\"ticks\":\"\"}},\"title\":{\"x\":0.05},\"xaxis\":{\"automargin\":true,\"gridcolor\":\"white\",\"linecolor\":\"white\",\"ticks\":\"\",\"title\":{\"standoff\":15},\"zerolinecolor\":\"white\",\"zerolinewidth\":2},\"yaxis\":{\"automargin\":true,\"gridcolor\":\"white\",\"linecolor\":\"white\",\"ticks\":\"\",\"title\":{\"standoff\":15},\"zerolinecolor\":\"white\",\"zerolinewidth\":2}}}},                        {\"responsive\": true}                    ).then(function(){\n",
       "                            \n",
       "var gd = document.getElementById('b446fd63-4d62-4fd4-8f01-e020ea64d526');\n",
       "var x = new MutationObserver(function (mutations, observer) {{\n",
       "        var display = window.getComputedStyle(gd).display;\n",
       "        if (!display || display === 'none') {{\n",
       "            console.log([gd, 'removed!']);\n",
       "            Plotly.purge(gd);\n",
       "            observer.disconnect();\n",
       "        }}\n",
       "}});\n",
       "\n",
       "// Listen for the removal of the full notebook cells\n",
       "var notebookContainer = gd.closest('#notebook-container');\n",
       "if (notebookContainer) {{\n",
       "    x.observe(notebookContainer, {childList: true});\n",
       "}}\n",
       "\n",
       "// Listen for the clearing of the current output cell\n",
       "var outputEl = gd.closest('.output');\n",
       "if (outputEl) {{\n",
       "    x.observe(outputEl, {childList: true});\n",
       "}}\n",
       "\n",
       "                        })                };                });            </script>        </div>"
      ]
     },
     "metadata": {},
     "output_type": "display_data"
    }
   ],
   "source": [
    "import plotly.express as px\n",
    "mbtoken = 'pk.eyJ1IjoiaGVhcnNjaCIsImEiOiJja3Z6eGdzbGgwc2lmMm5ycDI2ZHE2bjhwIn0.H7rY4NZjvHX3ihaZwCFaXw'\n",
    "px.set_mapbox_access_token(mbtoken)\n",
    "df = px.data.carshare()\n",
    "display(df.head())\n",
    "fig = px.scatter_mapbox(df, lat=\"centroid_lat\", lon=\"centroid_lon\", size=\"car_hours\",\n",
    "                  color_continuous_scale=px.colors.cyclical.IceFire, size_max=15, zoom=10)\n",
    "fig.show()"
   ]
  },
  {
   "cell_type": "code",
   "execution_count": null,
   "id": "f02ffc3f-1767-4740-bd73-a6c0e9786a37",
   "metadata": {},
   "outputs": [],
   "source": []
  }
 ],
 "metadata": {
  "kernelspec": {
   "display_name": "Python 3",
   "language": "python",
   "name": "python3"
  },
  "language_info": {
   "codemirror_mode": {
    "name": "ipython",
    "version": 3
   },
   "file_extension": ".py",
   "mimetype": "text/x-python",
   "name": "python",
   "nbconvert_exporter": "python",
   "pygments_lexer": "ipython3",
   "version": "3.8.8"
  }
 },
 "nbformat": 4,
 "nbformat_minor": 5
}
