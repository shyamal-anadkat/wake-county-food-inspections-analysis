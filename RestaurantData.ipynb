{
 "cells": [
  {
   "cell_type": "code",
   "execution_count": null,
   "id": "f6008b99",
   "metadata": {},
   "outputs": [],
   "source": [
    "!pip install phonenumbers"
   ]
  },
  {
   "cell_type": "code",
   "execution_count": 11,
   "id": "b60235ba",
   "metadata": {},
   "outputs": [],
   "source": [
    "# import pandas, numpy, matplotlib, seaborn \n",
    "import numpy as np\n",
    "import pandas as pd\n",
    "import matplotlib.pyplot as plt\n",
    "import seaborn as sns\n",
    "\n",
    "# importing the requests library\n",
    "import requests\n",
    "\n",
    "import urllib.request\n",
    "from pathlib import Path\n",
    "import os\n",
    "\n",
    "import phonenumbers"
   ]
  },
  {
   "cell_type": "markdown",
   "id": "01b8cfc3",
   "metadata": {},
   "source": [
    "### Resources\n",
    " 1. [Restaurants in Wake County Data Info](https://www.arcgis.com/home/item.html?id=124c2187da8c41c59bde04fa67eb2872)\n",
    " 2. [Wake County Open Data](https://data-wake.opendata.arcgis.com/search?tags=restaurants)\n",
    " 3. [Food Inspection Violations Data Info](https://data.wakegov.com/datasets/Wake::food-inspection-violations/about)\n",
    " 4. [Wake County Yelp Initiative](https://ash.harvard.edu/news/wake-county-yelp-initiative)"
   ]
  },
  {
   "cell_type": "markdown",
   "id": "73b21566",
   "metadata": {},
   "source": [
    "### Fetch Restaurants from wakegov"
   ]
  },
  {
   "cell_type": "code",
   "execution_count": 12,
   "id": "8bc70fbe",
   "metadata": {},
   "outputs": [
    {
     "name": "stdout",
     "output_type": "stream",
     "text": [
      "Using pre-fetched restaurants data\n",
      "restaurants df shape: (3641, 15)\n"
     ]
    },
    {
     "data": {
      "text/html": [
       "<div>\n",
       "<style scoped>\n",
       "    .dataframe tbody tr th:only-of-type {\n",
       "        vertical-align: middle;\n",
       "    }\n",
       "\n",
       "    .dataframe tbody tr th {\n",
       "        vertical-align: top;\n",
       "    }\n",
       "\n",
       "    .dataframe thead th {\n",
       "        text-align: right;\n",
       "    }\n",
       "</style>\n",
       "<table border=\"1\" class=\"dataframe\">\n",
       "  <thead>\n",
       "    <tr style=\"text-align: right;\">\n",
       "      <th></th>\n",
       "      <th>OBJECTID</th>\n",
       "      <th>HSISID</th>\n",
       "      <th>NAME</th>\n",
       "      <th>ADDRESS1</th>\n",
       "      <th>ADDRESS2</th>\n",
       "      <th>CITY</th>\n",
       "      <th>STATE</th>\n",
       "      <th>POSTALCODE</th>\n",
       "      <th>PHONENUMBER</th>\n",
       "      <th>RESTAURANTOPENDATE</th>\n",
       "      <th>FACILITYTYPE</th>\n",
       "      <th>PERMITID</th>\n",
       "      <th>X</th>\n",
       "      <th>Y</th>\n",
       "      <th>GEOCODESTATUS</th>\n",
       "    </tr>\n",
       "  </thead>\n",
       "  <tbody>\n",
       "    <tr>\n",
       "      <th>0</th>\n",
       "      <td>1891530</td>\n",
       "      <td>4092016487</td>\n",
       "      <td>PEACE CHINA</td>\n",
       "      <td>13220 Strickland  RD</td>\n",
       "      <td>Ste 167</td>\n",
       "      <td>RALEIGH</td>\n",
       "      <td>NC</td>\n",
       "      <td>27613</td>\n",
       "      <td>(919) 676-9968</td>\n",
       "      <td>2013-08-14T04:00:00Z</td>\n",
       "      <td>Restaurant</td>\n",
       "      <td>2</td>\n",
       "      <td>-78.725938</td>\n",
       "      <td>35.908783</td>\n",
       "      <td>M</td>\n",
       "    </tr>\n",
       "    <tr>\n",
       "      <th>1</th>\n",
       "      <td>1891531</td>\n",
       "      <td>4092018622</td>\n",
       "      <td>Northside Bistro &amp; Cocktails</td>\n",
       "      <td>832 SPRING FOREST RD</td>\n",
       "      <td>NaN</td>\n",
       "      <td>RALEIGH</td>\n",
       "      <td>NC</td>\n",
       "      <td>27609</td>\n",
       "      <td>(919) 890-5225</td>\n",
       "      <td>2021-05-13T04:00:00Z</td>\n",
       "      <td>Restaurant</td>\n",
       "      <td>22</td>\n",
       "      <td>-78.622635</td>\n",
       "      <td>35.866275</td>\n",
       "      <td>M</td>\n",
       "    </tr>\n",
       "    <tr>\n",
       "      <th>2</th>\n",
       "      <td>1891532</td>\n",
       "      <td>4092016155</td>\n",
       "      <td>DAILY PLANET CAFE</td>\n",
       "      <td>11   W JONES ST</td>\n",
       "      <td>STE 1509</td>\n",
       "      <td>RALEIGH</td>\n",
       "      <td>NC</td>\n",
       "      <td>27601</td>\n",
       "      <td>(919) 707-8060</td>\n",
       "      <td>2012-04-12T04:00:00Z</td>\n",
       "      <td>Restaurant</td>\n",
       "      <td>26</td>\n",
       "      <td>-78.639431</td>\n",
       "      <td>35.782205</td>\n",
       "      <td>M</td>\n",
       "    </tr>\n",
       "    <tr>\n",
       "      <th>3</th>\n",
       "      <td>1891533</td>\n",
       "      <td>4092016161</td>\n",
       "      <td>HIBACHI 88</td>\n",
       "      <td>3416 POOLE RD</td>\n",
       "      <td>NaN</td>\n",
       "      <td>RALEIGH</td>\n",
       "      <td>NC</td>\n",
       "      <td>27610</td>\n",
       "      <td>(919) 231-1688</td>\n",
       "      <td>2012-04-18T04:00:00Z</td>\n",
       "      <td>Restaurant</td>\n",
       "      <td>28</td>\n",
       "      <td>-78.579533</td>\n",
       "      <td>35.767246</td>\n",
       "      <td>M</td>\n",
       "    </tr>\n",
       "    <tr>\n",
       "      <th>4</th>\n",
       "      <td>1891534</td>\n",
       "      <td>4092017180</td>\n",
       "      <td>BOND BROTHERS BEER COMPANY</td>\n",
       "      <td>202 E CEDAR ST</td>\n",
       "      <td>NaN</td>\n",
       "      <td>CARY</td>\n",
       "      <td>NC</td>\n",
       "      <td>27511</td>\n",
       "      <td>(919) 459-2670</td>\n",
       "      <td>2016-03-11T05:00:00Z</td>\n",
       "      <td>Restaurant</td>\n",
       "      <td>29</td>\n",
       "      <td>-78.778021</td>\n",
       "      <td>35.787986</td>\n",
       "      <td>M</td>\n",
       "    </tr>\n",
       "  </tbody>\n",
       "</table>\n",
       "</div>"
      ],
      "text/plain": [
       "   OBJECTID      HSISID                           NAME               ADDRESS1  \\\n",
       "0   1891530  4092016487                    PEACE CHINA  13220 Strickland  RD    \n",
       "1   1891531  4092018622  Northside Bistro & Cocktails   832 SPRING FOREST RD    \n",
       "2   1891532  4092016155              DAILY PLANET CAFE       11   W JONES ST    \n",
       "3   1891533  4092016161                     HIBACHI 88         3416 POOLE RD    \n",
       "4   1891534  4092017180     BOND BROTHERS BEER COMPANY        202 E CEDAR ST    \n",
       "\n",
       "   ADDRESS2     CITY STATE POSTALCODE     PHONENUMBER    RESTAURANTOPENDATE  \\\n",
       "0   Ste 167  RALEIGH    NC      27613  (919) 676-9968  2013-08-14T04:00:00Z   \n",
       "1       NaN  RALEIGH    NC      27609  (919) 890-5225  2021-05-13T04:00:00Z   \n",
       "2  STE 1509  RALEIGH    NC      27601  (919) 707-8060  2012-04-12T04:00:00Z   \n",
       "3       NaN  RALEIGH    NC      27610  (919) 231-1688  2012-04-18T04:00:00Z   \n",
       "4       NaN     CARY    NC      27511  (919) 459-2670  2016-03-11T05:00:00Z   \n",
       "\n",
       "  FACILITYTYPE  PERMITID          X          Y GEOCODESTATUS  \n",
       "0   Restaurant         2 -78.725938  35.908783             M  \n",
       "1   Restaurant        22 -78.622635  35.866275             M  \n",
       "2   Restaurant        26 -78.639431  35.782205             M  \n",
       "3   Restaurant        28 -78.579533  35.767246             M  \n",
       "4   Restaurant        29 -78.778021  35.787986             M  "
      ]
     },
     "metadata": {},
     "output_type": "display_data"
    }
   ],
   "source": [
    "def getRestaurantsDf(forceFetch=False):\n",
    "        path = Path()\n",
    "        key = 'restaurants.csv'\n",
    "        filename = path/key\n",
    "        \n",
    "        # If the file does already exist in the directory, download it\n",
    "        if os.path.exists(filename) and not forceFetch:\n",
    "            print('Using pre-fetched restaurants data')\n",
    "            df = pd.read_csv('restaurants.csv')\n",
    "            print('restaurants df shape:', df.shape)\n",
    "            return df\n",
    "    \n",
    "        # Source restaurants data in wake county from wakegov\n",
    "        # base_url = \"https://maps.wakegov.com/arcgis/rest/services/Inspections/RestaurantInspectionsOpenData/MapServer/0/query?f=json&where=(FACILITYTYPE%20IN%20('Restaurant'))&outFields=*\"\n",
    "        else:\n",
    "            print('Fetching restaurants data...')\n",
    "            val = 'https://opendata.arcgis.com/datasets/124c2187da8c41c59bde04fa67eb2872_0.geojson'\n",
    "\n",
    "            # Sending get request and saving the response as response object\n",
    "            # extracting data in json \n",
    "            r = requests.get(url = val)\n",
    "            rows = []\n",
    "            data = r.json()['features']\n",
    "            for d in data:\n",
    "                rows.append(d['properties'])\n",
    "            df = pd.DataFrame(rows)\n",
    "            print('restaurants df shape:', df.shape)\n",
    "            df.to_csv('restaurants.csv', index=False)\n",
    "            print('Done')\n",
    "            return df\n",
    "\n",
    "restaurants_df_raw = getRestaurantsDf(forceFetch=False)\n",
    "display(restaurants_df_raw.head())"
   ]
  },
  {
   "cell_type": "markdown",
   "id": "aa0df959",
   "metadata": {},
   "source": [
    "### Preprocessing"
   ]
  },
  {
   "cell_type": "code",
   "execution_count": 13,
   "id": "bfc051da",
   "metadata": {},
   "outputs": [],
   "source": [
    "# normalize to E164 format\n",
    "def normalize_phone(phone):\n",
    "    try:\n",
    "        phone = phone.split(\"ext\")[0].strip()\n",
    "        z = phonenumbers.parse(phone, 'US')\n",
    "        retVal = phonenumbers.format_number(z, phonenumbers.PhoneNumberFormat.E164)\n",
    "        return retVal\n",
    "    except:\n",
    "        return phone"
   ]
  },
  {
   "cell_type": "code",
   "execution_count": 14,
   "id": "cc640240",
   "metadata": {},
   "outputs": [],
   "source": [
    "def preprocess_restaurants(df):\n",
    "    # Drop duplicates\n",
    "    df.drop_duplicates(inplace=True)\n",
    "    \n",
    "    # Drop columns w/ > 25% missing values\n",
    "    missing_value_columns = df.columns[df.isna().mean() >= 0.25]\n",
    "    print('Dropping columns with more than 25% missing values:', missing_value_columns)\n",
    "    df = df.drop(missing_value_columns, axis=1)\n",
    "    \n",
    "    # get only restaurants\n",
    "    df = df[df['FACILITYTYPE'] == 'Restaurant']\n",
    "    \n",
    "    # Drop single value column\n",
    "    df = df.drop('FACILITYTYPE', axis=1)\n",
    "\n",
    "    # Drop irrelevant columns\n",
    "    df = df.drop('STATE', axis=1) \n",
    "    \n",
    "    # Convert rest open date\n",
    "    df['RESTAURANTOPENDATE'] = pd.to_datetime(df['RESTAURANTOPENDATE']).dt.date\n",
    "    \n",
    "    #normalize phone numbers \n",
    "    df['PHONENUMBER'] = df['PHONENUMBER'].apply(lambda x: normalize_phone(x))\n",
    "    df['PHONENUMBER'] = df['PHONENUMBER'].apply(lambda a: str(a).split('.')[0])\n",
    "    df['PHONENUMBER'] = df['PHONENUMBER'].astype(str)\n",
    "    print(df.isna().mean())\n",
    "    return df"
   ]
  },
  {
   "cell_type": "code",
   "execution_count": 15,
   "id": "536ea631",
   "metadata": {},
   "outputs": [
    {
     "name": "stdout",
     "output_type": "stream",
     "text": [
      "\n",
      "Display Raw Data Info------------------------------\n",
      "\n",
      "<class 'pandas.core.frame.DataFrame'>\n",
      "RangeIndex: 3641 entries, 0 to 3640\n",
      "Data columns (total 15 columns):\n",
      " #   Column              Non-Null Count  Dtype  \n",
      "---  ------              --------------  -----  \n",
      " 0   OBJECTID            3641 non-null   int64  \n",
      " 1   HSISID              3641 non-null   int64  \n",
      " 2   NAME                3641 non-null   object \n",
      " 3   ADDRESS1            3641 non-null   object \n",
      " 4   ADDRESS2            485 non-null    object \n",
      " 5   CITY                3641 non-null   object \n",
      " 6   STATE               3641 non-null   object \n",
      " 7   POSTALCODE          3641 non-null   object \n",
      " 8   PHONENUMBER         3487 non-null   object \n",
      " 9   RESTAURANTOPENDATE  3641 non-null   object \n",
      " 10  FACILITYTYPE        3641 non-null   object \n",
      " 11  PERMITID            3641 non-null   int64  \n",
      " 12  X                   3641 non-null   float64\n",
      " 13  Y                   3641 non-null   float64\n",
      " 14  GEOCODESTATUS       3641 non-null   object \n",
      "dtypes: float64(2), int64(3), object(10)\n",
      "memory usage: 426.8+ KB\n"
     ]
    },
    {
     "data": {
      "text/plain": [
       "None"
      ]
     },
     "metadata": {},
     "output_type": "display_data"
    },
    {
     "name": "stdout",
     "output_type": "stream",
     "text": [
      "\n",
      "---------------------------------------------------\n",
      "\n"
     ]
    },
    {
     "data": {
      "text/plain": [
       "{'OBJECTID': 3641,\n",
       " 'HSISID': 3641,\n",
       " 'NAME': 3507,\n",
       " 'ADDRESS1': 3164,\n",
       " 'ADDRESS2': 298,\n",
       " 'CITY': 45,\n",
       " 'STATE': 1,\n",
       " 'POSTALCODE': 565,\n",
       " 'PHONENUMBER': 3127,\n",
       " 'RESTAURANTOPENDATE': 2250,\n",
       " 'FACILITYTYPE': 10,\n",
       " 'PERMITID': 3641,\n",
       " 'X': 2154,\n",
       " 'Y': 2154,\n",
       " 'GEOCODESTATUS': 3}"
      ]
     },
     "metadata": {},
     "output_type": "display_data"
    },
    {
     "name": "stdout",
     "output_type": "stream",
     "text": [
      "\n",
      "Preprocessing--------------------------------------\n",
      "\n",
      "Dropping columns with more than 25% missing values: Index(['ADDRESS2'], dtype='object')\n",
      "OBJECTID              0.0\n",
      "HSISID                0.0\n",
      "NAME                  0.0\n",
      "ADDRESS1              0.0\n",
      "CITY                  0.0\n",
      "POSTALCODE            0.0\n",
      "PHONENUMBER           0.0\n",
      "RESTAURANTOPENDATE    0.0\n",
      "PERMITID              0.0\n",
      "X                     0.0\n",
      "Y                     0.0\n",
      "GEOCODESTATUS         0.0\n",
      "dtype: float64\n",
      "(2385, 12)\n"
     ]
    }
   ],
   "source": [
    "# Validate shape & data\n",
    "# https://data-wake.opendata.arcgis.com/datasets/Wake::restaurants-in-wake-county/explore?filters=eyJGQUNJTElUWVRZUEUiOlsiUmVzdGF1cmFudCJdfQ%3D%3D&location=35.794181%2C-78.605600%2C3.98&showTable=true\n",
    "\n",
    "print('\\nDisplay Raw Data Info------------------------------\\n')\n",
    "display(restaurants_df_raw.info())\n",
    "print('\\n---------------------------------------------------\\n')\n",
    "display({column: len(restaurants_df_raw[column].unique()) for column in restaurants_df_raw.columns})\n",
    "\n",
    "# validation (testing)\n",
    "# assert restaurants_df.all(restaurants_df['FACILITYTYPE'] == 'Restaurant')\n",
    "\n",
    "# Preprocess\n",
    "print('\\nPreprocessing--------------------------------------\\n')\n",
    "restaurants_df = preprocess_restaurants(restaurants_df_raw.copy())\n",
    "print(restaurants_df.shape)"
   ]
  },
  {
   "cell_type": "code",
   "execution_count": 16,
   "id": "8b031e2b",
   "metadata": {},
   "outputs": [
    {
     "data": {
      "text/plain": [
       "358"
      ]
     },
     "execution_count": 16,
     "metadata": {},
     "output_type": "execute_result"
    }
   ],
   "source": [
    "restaurants_df['POSTALCODE'].nunique()"
   ]
  },
  {
   "cell_type": "code",
   "execution_count": 17,
   "id": "7ff434ea",
   "metadata": {},
   "outputs": [
    {
     "data": {
      "text/plain": [
       "2260"
      ]
     },
     "execution_count": 17,
     "metadata": {},
     "output_type": "execute_result"
    }
   ],
   "source": [
    "restaurants_df['PHONENUMBER'].nunique()"
   ]
  },
  {
   "cell_type": "code",
   "execution_count": 18,
   "id": "fe2b276b",
   "metadata": {},
   "outputs": [
    {
     "data": {
      "text/plain": [
       "OBJECTID                int64\n",
       "HSISID                  int64\n",
       "NAME                   object\n",
       "ADDRESS1               object\n",
       "CITY                   object\n",
       "POSTALCODE             object\n",
       "PHONENUMBER            object\n",
       "RESTAURANTOPENDATE     object\n",
       "PERMITID                int64\n",
       "X                     float64\n",
       "Y                     float64\n",
       "GEOCODESTATUS          object\n",
       "dtype: object"
      ]
     },
     "execution_count": 18,
     "metadata": {},
     "output_type": "execute_result"
    }
   ],
   "source": [
    "restaurants_df.dtypes"
   ]
  },
  {
   "cell_type": "code",
   "execution_count": 19,
   "id": "390e9bcf",
   "metadata": {},
   "outputs": [],
   "source": [
    "restaurants_df.to_csv('preprocessed_restaurants.csv', index=False)"
   ]
  },
  {
   "cell_type": "code",
   "execution_count": 20,
   "id": "04597c3a",
   "metadata": {},
   "outputs": [
    {
     "data": {
      "text/html": [
       "<div>\n",
       "<style scoped>\n",
       "    .dataframe tbody tr th:only-of-type {\n",
       "        vertical-align: middle;\n",
       "    }\n",
       "\n",
       "    .dataframe tbody tr th {\n",
       "        vertical-align: top;\n",
       "    }\n",
       "\n",
       "    .dataframe thead th {\n",
       "        text-align: right;\n",
       "    }\n",
       "</style>\n",
       "<table border=\"1\" class=\"dataframe\">\n",
       "  <thead>\n",
       "    <tr style=\"text-align: right;\">\n",
       "      <th></th>\n",
       "      <th>OBJECTID</th>\n",
       "      <th>HSISID</th>\n",
       "      <th>NAME</th>\n",
       "      <th>ADDRESS1</th>\n",
       "      <th>CITY</th>\n",
       "      <th>POSTALCODE</th>\n",
       "      <th>PHONENUMBER</th>\n",
       "      <th>RESTAURANTOPENDATE</th>\n",
       "      <th>PERMITID</th>\n",
       "      <th>X</th>\n",
       "      <th>Y</th>\n",
       "      <th>GEOCODESTATUS</th>\n",
       "    </tr>\n",
       "  </thead>\n",
       "  <tbody>\n",
       "    <tr>\n",
       "      <th>0</th>\n",
       "      <td>1891530</td>\n",
       "      <td>4092016487</td>\n",
       "      <td>PEACE CHINA</td>\n",
       "      <td>13220 Strickland  RD</td>\n",
       "      <td>RALEIGH</td>\n",
       "      <td>27613</td>\n",
       "      <td>+19196769968</td>\n",
       "      <td>2013-08-14</td>\n",
       "      <td>2</td>\n",
       "      <td>-78.725938</td>\n",
       "      <td>35.908783</td>\n",
       "      <td>M</td>\n",
       "    </tr>\n",
       "    <tr>\n",
       "      <th>1</th>\n",
       "      <td>1891531</td>\n",
       "      <td>4092018622</td>\n",
       "      <td>Northside Bistro &amp; Cocktails</td>\n",
       "      <td>832 SPRING FOREST RD</td>\n",
       "      <td>RALEIGH</td>\n",
       "      <td>27609</td>\n",
       "      <td>+19198905225</td>\n",
       "      <td>2021-05-13</td>\n",
       "      <td>22</td>\n",
       "      <td>-78.622635</td>\n",
       "      <td>35.866275</td>\n",
       "      <td>M</td>\n",
       "    </tr>\n",
       "    <tr>\n",
       "      <th>2</th>\n",
       "      <td>1891532</td>\n",
       "      <td>4092016155</td>\n",
       "      <td>DAILY PLANET CAFE</td>\n",
       "      <td>11   W JONES ST</td>\n",
       "      <td>RALEIGH</td>\n",
       "      <td>27601</td>\n",
       "      <td>+19197078060</td>\n",
       "      <td>2012-04-12</td>\n",
       "      <td>26</td>\n",
       "      <td>-78.639431</td>\n",
       "      <td>35.782205</td>\n",
       "      <td>M</td>\n",
       "    </tr>\n",
       "    <tr>\n",
       "      <th>3</th>\n",
       "      <td>1891533</td>\n",
       "      <td>4092016161</td>\n",
       "      <td>HIBACHI 88</td>\n",
       "      <td>3416 POOLE RD</td>\n",
       "      <td>RALEIGH</td>\n",
       "      <td>27610</td>\n",
       "      <td>+19192311688</td>\n",
       "      <td>2012-04-18</td>\n",
       "      <td>28</td>\n",
       "      <td>-78.579533</td>\n",
       "      <td>35.767246</td>\n",
       "      <td>M</td>\n",
       "    </tr>\n",
       "    <tr>\n",
       "      <th>4</th>\n",
       "      <td>1891534</td>\n",
       "      <td>4092017180</td>\n",
       "      <td>BOND BROTHERS BEER COMPANY</td>\n",
       "      <td>202 E CEDAR ST</td>\n",
       "      <td>CARY</td>\n",
       "      <td>27511</td>\n",
       "      <td>+19194592670</td>\n",
       "      <td>2016-03-11</td>\n",
       "      <td>29</td>\n",
       "      <td>-78.778021</td>\n",
       "      <td>35.787986</td>\n",
       "      <td>M</td>\n",
       "    </tr>\n",
       "  </tbody>\n",
       "</table>\n",
       "</div>"
      ],
      "text/plain": [
       "   OBJECTID      HSISID                           NAME               ADDRESS1  \\\n",
       "0   1891530  4092016487                    PEACE CHINA  13220 Strickland  RD    \n",
       "1   1891531  4092018622  Northside Bistro & Cocktails   832 SPRING FOREST RD    \n",
       "2   1891532  4092016155              DAILY PLANET CAFE       11   W JONES ST    \n",
       "3   1891533  4092016161                     HIBACHI 88         3416 POOLE RD    \n",
       "4   1891534  4092017180     BOND BROTHERS BEER COMPANY        202 E CEDAR ST    \n",
       "\n",
       "      CITY POSTALCODE   PHONENUMBER RESTAURANTOPENDATE  PERMITID          X  \\\n",
       "0  RALEIGH      27613  +19196769968         2013-08-14         2 -78.725938   \n",
       "1  RALEIGH      27609  +19198905225         2021-05-13        22 -78.622635   \n",
       "2  RALEIGH      27601  +19197078060         2012-04-12        26 -78.639431   \n",
       "3  RALEIGH      27610  +19192311688         2012-04-18        28 -78.579533   \n",
       "4     CARY      27511  +19194592670         2016-03-11        29 -78.778021   \n",
       "\n",
       "           Y GEOCODESTATUS  \n",
       "0  35.908783             M  \n",
       "1  35.866275             M  \n",
       "2  35.782205             M  \n",
       "3  35.767246             M  \n",
       "4  35.787986             M  "
      ]
     },
     "execution_count": 20,
     "metadata": {},
     "output_type": "execute_result"
    }
   ],
   "source": [
    "rests = pd.read_csv('preprocessed_restaurants.csv', dtype={'PHONENUMBER': str})\n",
    "rests.head()"
   ]
  }
 ],
 "metadata": {
  "kernelspec": {
   "display_name": "Python 3",
   "language": "python",
   "name": "python3"
  },
  "language_info": {
   "codemirror_mode": {
    "name": "ipython",
    "version": 3
   },
   "file_extension": ".py",
   "mimetype": "text/x-python",
   "name": "python",
   "nbconvert_exporter": "python",
   "pygments_lexer": "ipython3",
   "version": "3.8.8"
  }
 },
 "nbformat": 4,
 "nbformat_minor": 5
}
