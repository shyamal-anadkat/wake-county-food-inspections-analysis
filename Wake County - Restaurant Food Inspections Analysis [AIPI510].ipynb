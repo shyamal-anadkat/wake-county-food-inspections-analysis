{
 "cells": [
  {
   "cell_type": "markdown",
   "id": "7a5755f1",
   "metadata": {},
   "source": [
    "## Wake County - Restaurant Food Inspections Analysis"
   ]
  },
  {
   "cell_type": "code",
   "execution_count": 1,
   "id": "a2b0008f",
   "metadata": {},
   "outputs": [],
   "source": [
    "# import pandas, numpy, matplotlib, seaborn \n",
    "import numpy as np\n",
    "import pandas as pd\n",
    "import matplotlib.pyplot as plt\n",
    "import seaborn as sns\n",
    "\n",
    "# importing the requests library\n",
    "import requests"
   ]
  },
  {
   "cell_type": "code",
   "execution_count": null,
   "id": "737f6329",
   "metadata": {},
   "outputs": [],
   "source": [
    "pip install ipynb"
   ]
  },
  {
   "cell_type": "markdown",
   "id": "39911d9e",
   "metadata": {},
   "source": [
    "### Resources\n",
    " 1. [Restaurants in Wake County Data Info](https://www.arcgis.com/home/item.html?id=124c2187da8c41c59bde04fa67eb2872)\n",
    " 2. [Wake County Open Data](https://data-wake.opendata.arcgis.com/search?tags=restaurants)\n",
    " 3. [Food Inspection Violations Data Info](https://data.wakegov.com/datasets/Wake::food-inspection-violations/about)\n",
    " 4. [Wake County Yelp Initiative](https://ash.harvard.edu/news/wake-county-yelp-initiative)\n",
    " 5. [Yelp LIVES data](https://www.yelp.com/healthscores/feeds)"
   ]
  },
  {
   "cell_type": "code",
   "execution_count": 2,
   "id": "1d6d510a",
   "metadata": {},
   "outputs": [
    {
     "name": "stdout",
     "output_type": "stream",
     "text": [
      "Using pre-fetched inspections data\n",
      "(20956, 8)\n",
      "<class 'pandas.core.frame.DataFrame'>\n",
      "RangeIndex: 20956 entries, 0 to 20955\n",
      "Data columns (total 8 columns):\n",
      " #   Column       Non-Null Count  Dtype  \n",
      "---  ------       --------------  -----  \n",
      " 0   OBJECTID     20956 non-null  int64  \n",
      " 1   HSISID       20956 non-null  int64  \n",
      " 2   SCORE        20956 non-null  float64\n",
      " 3   DATE         20956 non-null  object \n",
      " 4   DESCRIPTION  16880 non-null  object \n",
      " 5   TYPE         20956 non-null  object \n",
      " 6   INSPECTOR    20956 non-null  object \n",
      " 7   PERMITID     20956 non-null  int64  \n",
      "dtypes: float64(1), int64(3), object(4)\n",
      "memory usage: 1.3+ MB\n"
     ]
    },
    {
     "data": {
      "text/plain": [
       "None"
      ]
     },
     "metadata": {},
     "output_type": "display_data"
    },
    {
     "data": {
      "text/plain": [
       "{'OBJECTID': 20956,\n",
       " 'HSISID': 3875,\n",
       " 'SCORE': 48,\n",
       " 'DATE': 782,\n",
       " 'DESCRIPTION': 6030,\n",
       " 'TYPE': 2,\n",
       " 'INSPECTOR': 47,\n",
       " 'PERMITID': 3875}"
      ]
     },
     "metadata": {},
     "output_type": "display_data"
    },
    {
     "name": "stdout",
     "output_type": "stream",
     "text": [
      "Using pre-fetched restaurants data\n",
      "restaurants df shape: (3641, 15)\n"
     ]
    },
    {
     "data": {
      "text/html": [
       "<div>\n",
       "<style scoped>\n",
       "    .dataframe tbody tr th:only-of-type {\n",
       "        vertical-align: middle;\n",
       "    }\n",
       "\n",
       "    .dataframe tbody tr th {\n",
       "        vertical-align: top;\n",
       "    }\n",
       "\n",
       "    .dataframe thead th {\n",
       "        text-align: right;\n",
       "    }\n",
       "</style>\n",
       "<table border=\"1\" class=\"dataframe\">\n",
       "  <thead>\n",
       "    <tr style=\"text-align: right;\">\n",
       "      <th></th>\n",
       "      <th>OBJECTID</th>\n",
       "      <th>HSISID</th>\n",
       "      <th>NAME</th>\n",
       "      <th>ADDRESS1</th>\n",
       "      <th>ADDRESS2</th>\n",
       "      <th>CITY</th>\n",
       "      <th>STATE</th>\n",
       "      <th>POSTALCODE</th>\n",
       "      <th>PHONENUMBER</th>\n",
       "      <th>RESTAURANTOPENDATE</th>\n",
       "      <th>FACILITYTYPE</th>\n",
       "      <th>PERMITID</th>\n",
       "      <th>X</th>\n",
       "      <th>Y</th>\n",
       "      <th>GEOCODESTATUS</th>\n",
       "    </tr>\n",
       "  </thead>\n",
       "  <tbody>\n",
       "    <tr>\n",
       "      <th>0</th>\n",
       "      <td>1891530</td>\n",
       "      <td>4092016487</td>\n",
       "      <td>PEACE CHINA</td>\n",
       "      <td>13220 Strickland  RD</td>\n",
       "      <td>Ste 167</td>\n",
       "      <td>RALEIGH</td>\n",
       "      <td>NC</td>\n",
       "      <td>27613</td>\n",
       "      <td>(919) 676-9968</td>\n",
       "      <td>2013-08-14T04:00:00Z</td>\n",
       "      <td>Restaurant</td>\n",
       "      <td>2</td>\n",
       "      <td>-78.725938</td>\n",
       "      <td>35.908783</td>\n",
       "      <td>M</td>\n",
       "    </tr>\n",
       "    <tr>\n",
       "      <th>1</th>\n",
       "      <td>1891531</td>\n",
       "      <td>4092018622</td>\n",
       "      <td>Northside Bistro &amp; Cocktails</td>\n",
       "      <td>832 SPRING FOREST RD</td>\n",
       "      <td>NaN</td>\n",
       "      <td>RALEIGH</td>\n",
       "      <td>NC</td>\n",
       "      <td>27609</td>\n",
       "      <td>(919) 890-5225</td>\n",
       "      <td>2021-05-13T04:00:00Z</td>\n",
       "      <td>Restaurant</td>\n",
       "      <td>22</td>\n",
       "      <td>-78.622635</td>\n",
       "      <td>35.866275</td>\n",
       "      <td>M</td>\n",
       "    </tr>\n",
       "    <tr>\n",
       "      <th>2</th>\n",
       "      <td>1891532</td>\n",
       "      <td>4092016155</td>\n",
       "      <td>DAILY PLANET CAFE</td>\n",
       "      <td>11   W JONES ST</td>\n",
       "      <td>STE 1509</td>\n",
       "      <td>RALEIGH</td>\n",
       "      <td>NC</td>\n",
       "      <td>27601</td>\n",
       "      <td>(919) 707-8060</td>\n",
       "      <td>2012-04-12T04:00:00Z</td>\n",
       "      <td>Restaurant</td>\n",
       "      <td>26</td>\n",
       "      <td>-78.639431</td>\n",
       "      <td>35.782205</td>\n",
       "      <td>M</td>\n",
       "    </tr>\n",
       "    <tr>\n",
       "      <th>3</th>\n",
       "      <td>1891533</td>\n",
       "      <td>4092016161</td>\n",
       "      <td>HIBACHI 88</td>\n",
       "      <td>3416 POOLE RD</td>\n",
       "      <td>NaN</td>\n",
       "      <td>RALEIGH</td>\n",
       "      <td>NC</td>\n",
       "      <td>27610</td>\n",
       "      <td>(919) 231-1688</td>\n",
       "      <td>2012-04-18T04:00:00Z</td>\n",
       "      <td>Restaurant</td>\n",
       "      <td>28</td>\n",
       "      <td>-78.579533</td>\n",
       "      <td>35.767246</td>\n",
       "      <td>M</td>\n",
       "    </tr>\n",
       "    <tr>\n",
       "      <th>4</th>\n",
       "      <td>1891534</td>\n",
       "      <td>4092017180</td>\n",
       "      <td>BOND BROTHERS BEER COMPANY</td>\n",
       "      <td>202 E CEDAR ST</td>\n",
       "      <td>NaN</td>\n",
       "      <td>CARY</td>\n",
       "      <td>NC</td>\n",
       "      <td>27511</td>\n",
       "      <td>(919) 459-2670</td>\n",
       "      <td>2016-03-11T05:00:00Z</td>\n",
       "      <td>Restaurant</td>\n",
       "      <td>29</td>\n",
       "      <td>-78.778021</td>\n",
       "      <td>35.787986</td>\n",
       "      <td>M</td>\n",
       "    </tr>\n",
       "  </tbody>\n",
       "</table>\n",
       "</div>"
      ],
      "text/plain": [
       "   OBJECTID      HSISID                           NAME               ADDRESS1  \\\n",
       "0   1891530  4092016487                    PEACE CHINA  13220 Strickland  RD    \n",
       "1   1891531  4092018622  Northside Bistro & Cocktails   832 SPRING FOREST RD    \n",
       "2   1891532  4092016155              DAILY PLANET CAFE       11   W JONES ST    \n",
       "3   1891533  4092016161                     HIBACHI 88         3416 POOLE RD    \n",
       "4   1891534  4092017180     BOND BROTHERS BEER COMPANY        202 E CEDAR ST    \n",
       "\n",
       "   ADDRESS2     CITY STATE POSTALCODE     PHONENUMBER    RESTAURANTOPENDATE  \\\n",
       "0   Ste 167  RALEIGH    NC      27613  (919) 676-9968  2013-08-14T04:00:00Z   \n",
       "1       NaN  RALEIGH    NC      27609  (919) 890-5225  2021-05-13T04:00:00Z   \n",
       "2  STE 1509  RALEIGH    NC      27601  (919) 707-8060  2012-04-12T04:00:00Z   \n",
       "3       NaN  RALEIGH    NC      27610  (919) 231-1688  2012-04-18T04:00:00Z   \n",
       "4       NaN     CARY    NC      27511  (919) 459-2670  2016-03-11T05:00:00Z   \n",
       "\n",
       "  FACILITYTYPE  PERMITID          X          Y GEOCODESTATUS  \n",
       "0   Restaurant         2 -78.725938  35.908783             M  \n",
       "1   Restaurant        22 -78.622635  35.866275             M  \n",
       "2   Restaurant        26 -78.639431  35.782205             M  \n",
       "3   Restaurant        28 -78.579533  35.767246             M  \n",
       "4   Restaurant        29 -78.778021  35.787986             M  "
      ]
     },
     "metadata": {},
     "output_type": "display_data"
    },
    {
     "name": "stdout",
     "output_type": "stream",
     "text": [
      "\n",
      "Display Raw Data Info------------------------------\n",
      "\n",
      "<class 'pandas.core.frame.DataFrame'>\n",
      "RangeIndex: 3641 entries, 0 to 3640\n",
      "Data columns (total 15 columns):\n",
      " #   Column              Non-Null Count  Dtype  \n",
      "---  ------              --------------  -----  \n",
      " 0   OBJECTID            3641 non-null   int64  \n",
      " 1   HSISID              3641 non-null   int64  \n",
      " 2   NAME                3641 non-null   object \n",
      " 3   ADDRESS1            3641 non-null   object \n",
      " 4   ADDRESS2            485 non-null    object \n",
      " 5   CITY                3641 non-null   object \n",
      " 6   STATE               3641 non-null   object \n",
      " 7   POSTALCODE          3641 non-null   object \n",
      " 8   PHONENUMBER         3487 non-null   object \n",
      " 9   RESTAURANTOPENDATE  3641 non-null   object \n",
      " 10  FACILITYTYPE        3641 non-null   object \n",
      " 11  PERMITID            3641 non-null   int64  \n",
      " 12  X                   3641 non-null   float64\n",
      " 13  Y                   3641 non-null   float64\n",
      " 14  GEOCODESTATUS       3641 non-null   object \n",
      "dtypes: float64(2), int64(3), object(10)\n",
      "memory usage: 426.8+ KB\n"
     ]
    },
    {
     "data": {
      "text/plain": [
       "None"
      ]
     },
     "metadata": {},
     "output_type": "display_data"
    },
    {
     "name": "stdout",
     "output_type": "stream",
     "text": [
      "\n",
      "---------------------------------------------------\n",
      "\n"
     ]
    },
    {
     "data": {
      "text/plain": [
       "{'OBJECTID': 3641,\n",
       " 'HSISID': 3641,\n",
       " 'NAME': 3507,\n",
       " 'ADDRESS1': 3164,\n",
       " 'ADDRESS2': 298,\n",
       " 'CITY': 45,\n",
       " 'STATE': 1,\n",
       " 'POSTALCODE': 565,\n",
       " 'PHONENUMBER': 3127,\n",
       " 'RESTAURANTOPENDATE': 2250,\n",
       " 'FACILITYTYPE': 10,\n",
       " 'PERMITID': 3641,\n",
       " 'X': 2154,\n",
       " 'Y': 2154,\n",
       " 'GEOCODESTATUS': 3}"
      ]
     },
     "metadata": {},
     "output_type": "display_data"
    },
    {
     "name": "stdout",
     "output_type": "stream",
     "text": [
      "\n",
      "Preprocessing--------------------------------------\n",
      "\n",
      "Dropping columns with more than 25% missing values: Index(['ADDRESS2'], dtype='object')\n",
      "OBJECTID              0.0\n",
      "HSISID                0.0\n",
      "NAME                  0.0\n",
      "ADDRESS1              0.0\n",
      "CITY                  0.0\n",
      "POSTALCODE            0.0\n",
      "RESTAURANTOPENDATE    0.0\n",
      "PERMITID              0.0\n",
      "X                     0.0\n",
      "Y                     0.0\n",
      "GEOCODESTATUS         0.0\n",
      "dtype: float64\n",
      "(2385, 11)\n",
      "\n",
      "Display--------------------------------------------\n",
      "\n"
     ]
    },
    {
     "data": {
      "text/html": [
       "<div>\n",
       "<style scoped>\n",
       "    .dataframe tbody tr th:only-of-type {\n",
       "        vertical-align: middle;\n",
       "    }\n",
       "\n",
       "    .dataframe tbody tr th {\n",
       "        vertical-align: top;\n",
       "    }\n",
       "\n",
       "    .dataframe thead th {\n",
       "        text-align: right;\n",
       "    }\n",
       "</style>\n",
       "<table border=\"1\" class=\"dataframe\">\n",
       "  <thead>\n",
       "    <tr style=\"text-align: right;\">\n",
       "      <th></th>\n",
       "      <th>OBJECTID</th>\n",
       "      <th>HSISID</th>\n",
       "      <th>NAME</th>\n",
       "      <th>ADDRESS1</th>\n",
       "      <th>CITY</th>\n",
       "      <th>POSTALCODE</th>\n",
       "      <th>RESTAURANTOPENDATE</th>\n",
       "      <th>PERMITID</th>\n",
       "      <th>X</th>\n",
       "      <th>Y</th>\n",
       "      <th>GEOCODESTATUS</th>\n",
       "    </tr>\n",
       "  </thead>\n",
       "  <tbody>\n",
       "    <tr>\n",
       "      <th>0</th>\n",
       "      <td>1891530</td>\n",
       "      <td>4092016487</td>\n",
       "      <td>PEACE CHINA</td>\n",
       "      <td>13220 Strickland  RD</td>\n",
       "      <td>RALEIGH</td>\n",
       "      <td>27613</td>\n",
       "      <td>2013-08-14</td>\n",
       "      <td>2</td>\n",
       "      <td>-78.725938</td>\n",
       "      <td>35.908783</td>\n",
       "      <td>M</td>\n",
       "    </tr>\n",
       "    <tr>\n",
       "      <th>1</th>\n",
       "      <td>1891531</td>\n",
       "      <td>4092018622</td>\n",
       "      <td>Northside Bistro &amp; Cocktails</td>\n",
       "      <td>832 SPRING FOREST RD</td>\n",
       "      <td>RALEIGH</td>\n",
       "      <td>27609</td>\n",
       "      <td>2021-05-13</td>\n",
       "      <td>22</td>\n",
       "      <td>-78.622635</td>\n",
       "      <td>35.866275</td>\n",
       "      <td>M</td>\n",
       "    </tr>\n",
       "    <tr>\n",
       "      <th>2</th>\n",
       "      <td>1891532</td>\n",
       "      <td>4092016155</td>\n",
       "      <td>DAILY PLANET CAFE</td>\n",
       "      <td>11   W JONES ST</td>\n",
       "      <td>RALEIGH</td>\n",
       "      <td>27601</td>\n",
       "      <td>2012-04-12</td>\n",
       "      <td>26</td>\n",
       "      <td>-78.639431</td>\n",
       "      <td>35.782205</td>\n",
       "      <td>M</td>\n",
       "    </tr>\n",
       "    <tr>\n",
       "      <th>3</th>\n",
       "      <td>1891533</td>\n",
       "      <td>4092016161</td>\n",
       "      <td>HIBACHI 88</td>\n",
       "      <td>3416 POOLE RD</td>\n",
       "      <td>RALEIGH</td>\n",
       "      <td>27610</td>\n",
       "      <td>2012-04-18</td>\n",
       "      <td>28</td>\n",
       "      <td>-78.579533</td>\n",
       "      <td>35.767246</td>\n",
       "      <td>M</td>\n",
       "    </tr>\n",
       "    <tr>\n",
       "      <th>4</th>\n",
       "      <td>1891534</td>\n",
       "      <td>4092017180</td>\n",
       "      <td>BOND BROTHERS BEER COMPANY</td>\n",
       "      <td>202 E CEDAR ST</td>\n",
       "      <td>CARY</td>\n",
       "      <td>27511</td>\n",
       "      <td>2016-03-11</td>\n",
       "      <td>29</td>\n",
       "      <td>-78.778021</td>\n",
       "      <td>35.787986</td>\n",
       "      <td>M</td>\n",
       "    </tr>\n",
       "  </tbody>\n",
       "</table>\n",
       "</div>"
      ],
      "text/plain": [
       "   OBJECTID      HSISID                           NAME               ADDRESS1  \\\n",
       "0   1891530  4092016487                    PEACE CHINA  13220 Strickland  RD    \n",
       "1   1891531  4092018622  Northside Bistro & Cocktails   832 SPRING FOREST RD    \n",
       "2   1891532  4092016155              DAILY PLANET CAFE       11   W JONES ST    \n",
       "3   1891533  4092016161                     HIBACHI 88         3416 POOLE RD    \n",
       "4   1891534  4092017180     BOND BROTHERS BEER COMPANY        202 E CEDAR ST    \n",
       "\n",
       "      CITY POSTALCODE RESTAURANTOPENDATE  PERMITID          X          Y  \\\n",
       "0  RALEIGH      27613         2013-08-14         2 -78.725938  35.908783   \n",
       "1  RALEIGH      27609         2021-05-13        22 -78.622635  35.866275   \n",
       "2  RALEIGH      27601         2012-04-12        26 -78.639431  35.782205   \n",
       "3  RALEIGH      27610         2012-04-18        28 -78.579533  35.767246   \n",
       "4     CARY      27511         2016-03-11        29 -78.778021  35.787986   \n",
       "\n",
       "  GEOCODESTATUS  \n",
       "0             M  \n",
       "1             M  \n",
       "2             M  \n",
       "3             M  \n",
       "4             M  "
      ]
     },
     "metadata": {},
     "output_type": "display_data"
    },
    {
     "name": "stdout",
     "output_type": "stream",
     "text": [
      "Using pre-fetched violations data\n"
     ]
    },
    {
     "ename": "ParserError",
     "evalue": "Error tokenizing data. C error: Calling read(nbytes) on source failed. Try engine='python'.",
     "output_type": "error",
     "traceback": [
      "\u001b[0;31m---------------------------------------------------------------------------\u001b[0m",
      "\u001b[0;31mParserError\u001b[0m                               Traceback (most recent call last)",
      "\u001b[0;32m<ipython-input-2-5712a9ff4a14>\u001b[0m in \u001b[0;36m<module>\u001b[0;34m\u001b[0m\n\u001b[1;32m      4\u001b[0m \u001b[0;32mfrom\u001b[0m \u001b[0mipynb\u001b[0m\u001b[0;34m.\u001b[0m\u001b[0mfs\u001b[0m\u001b[0;34m.\u001b[0m\u001b[0mfull\u001b[0m\u001b[0;34m.\u001b[0m\u001b[0mRestaurantInspectionsData\u001b[0m \u001b[0;32mimport\u001b[0m \u001b[0mgetFoodInspectionsDf\u001b[0m\u001b[0;34m,\u001b[0m \u001b[0mpreprocess_inspections\u001b[0m\u001b[0;34m\u001b[0m\u001b[0;34m\u001b[0m\u001b[0m\n\u001b[1;32m      5\u001b[0m \u001b[0;32mfrom\u001b[0m \u001b[0mipynb\u001b[0m\u001b[0;34m.\u001b[0m\u001b[0mfs\u001b[0m\u001b[0;34m.\u001b[0m\u001b[0mfull\u001b[0m\u001b[0;34m.\u001b[0m\u001b[0mRestaurantsData\u001b[0m \u001b[0;32mimport\u001b[0m \u001b[0mgetRestaurantsDf\u001b[0m\u001b[0;34m,\u001b[0m \u001b[0mpreprocess_restaurants\u001b[0m\u001b[0;34m\u001b[0m\u001b[0;34m\u001b[0m\u001b[0m\n\u001b[0;32m----> 6\u001b[0;31m \u001b[0;32mfrom\u001b[0m \u001b[0mipynb\u001b[0m\u001b[0;34m.\u001b[0m\u001b[0mfs\u001b[0m\u001b[0;34m.\u001b[0m\u001b[0mfull\u001b[0m\u001b[0;34m.\u001b[0m\u001b[0mRestaurantViolationsData\u001b[0m \u001b[0;32mimport\u001b[0m \u001b[0mgetViolationsDf\u001b[0m\u001b[0;34m,\u001b[0m \u001b[0mpreprocess_violations\u001b[0m\u001b[0;34m\u001b[0m\u001b[0;34m\u001b[0m\u001b[0m\n\u001b[0m\u001b[1;32m      7\u001b[0m \u001b[0;32mfrom\u001b[0m \u001b[0mipynb\u001b[0m\u001b[0;34m.\u001b[0m\u001b[0mfs\u001b[0m\u001b[0;34m.\u001b[0m\u001b[0mfull\u001b[0m\u001b[0;34m.\u001b[0m\u001b[0mWeatherData\u001b[0m \u001b[0;32mimport\u001b[0m \u001b[0mgetWeatherData\u001b[0m\u001b[0;34m,\u001b[0m \u001b[0mpreprocess_weatherdata\u001b[0m\u001b[0;34m\u001b[0m\u001b[0;34m\u001b[0m\u001b[0m\n\u001b[1;32m      8\u001b[0m \u001b[0;32mfrom\u001b[0m \u001b[0mipynb\u001b[0m\u001b[0;34m.\u001b[0m\u001b[0mfs\u001b[0m\u001b[0;34m.\u001b[0m\u001b[0mfull\u001b[0m\u001b[0;34m.\u001b[0m\u001b[0mYelpReviewData\u001b[0m \u001b[0;32mimport\u001b[0m \u001b[0mpreprocess_restaurants_yelp\u001b[0m\u001b[0;34m\u001b[0m\u001b[0;34m\u001b[0m\u001b[0m\n",
      "\u001b[0;32m~/OneDrive - Duke University/AIPI510/wake-county-food-inspections-analysis/RestaurantViolationsData.ipynb\u001b[0m in \u001b[0;36m<module>\u001b[0;34m\u001b[0m\n\u001b[1;32m     72\u001b[0m     \u001b[0;34m\"         'CATEGORY': 'object',\\n\"\u001b[0m\u001b[0;34m,\u001b[0m\u001b[0;34m\u001b[0m\u001b[0;34m\u001b[0m\u001b[0m\n\u001b[1;32m     73\u001b[0m     \u001b[0;34m\"         'STATECODE': 'object',\\n\"\u001b[0m\u001b[0;34m,\u001b[0m\u001b[0;34m\u001b[0m\u001b[0;34m\u001b[0m\u001b[0m\n\u001b[0;32m---> 74\u001b[0;31m     \u001b[0;34m\"         'CRITICAL': 'object',\\n\"\u001b[0m\u001b[0;34m,\u001b[0m\u001b[0;34m\u001b[0m\u001b[0;34m\u001b[0m\u001b[0m\n\u001b[0m\u001b[1;32m     75\u001b[0m     \u001b[0;34m\"         'QUESTIONNO': 'int64',\\n\"\u001b[0m\u001b[0;34m,\u001b[0m\u001b[0;34m\u001b[0m\u001b[0;34m\u001b[0m\u001b[0m\n\u001b[1;32m     76\u001b[0m     \u001b[0;34m\"         'VIOLATIONCODE': 'object',\\n\"\u001b[0m\u001b[0;34m,\u001b[0m\u001b[0;34m\u001b[0m\u001b[0;34m\u001b[0m\u001b[0m\n",
      "\u001b[0;32m~/OneDrive - Duke University/AIPI510/wake-county-food-inspections-analysis/RestaurantViolationsData.ipynb\u001b[0m in \u001b[0;36mgetViolationsDf\u001b[0;34m(forceFetch)\u001b[0m\n\u001b[1;32m     36\u001b[0m   {\n\u001b[1;32m     37\u001b[0m    \u001b[0;34m\"cell_type\"\u001b[0m\u001b[0;34m:\u001b[0m \u001b[0;34m\"markdown\"\u001b[0m\u001b[0;34m,\u001b[0m\u001b[0;34m\u001b[0m\u001b[0;34m\u001b[0m\u001b[0m\n\u001b[0;32m---> 38\u001b[0;31m    \u001b[0;34m\"id\"\u001b[0m\u001b[0;34m:\u001b[0m \u001b[0;34m\"018b4834\"\u001b[0m\u001b[0;34m,\u001b[0m\u001b[0;34m\u001b[0m\u001b[0;34m\u001b[0m\u001b[0m\n\u001b[0m\u001b[1;32m     39\u001b[0m    \u001b[0;34m\"metadata\"\u001b[0m\u001b[0;34m:\u001b[0m \u001b[0;34m{\u001b[0m\u001b[0;34m}\u001b[0m\u001b[0;34m,\u001b[0m\u001b[0;34m\u001b[0m\u001b[0;34m\u001b[0m\u001b[0m\n\u001b[1;32m     40\u001b[0m    \"source\": [\n",
      "\u001b[0;32m~/opt/anaconda3/lib/python3.8/site-packages/pandas/io/parsers.py\u001b[0m in \u001b[0;36mread_csv\u001b[0;34m(filepath_or_buffer, sep, delimiter, header, names, index_col, usecols, squeeze, prefix, mangle_dupe_cols, dtype, engine, converters, true_values, false_values, skipinitialspace, skiprows, skipfooter, nrows, na_values, keep_default_na, na_filter, verbose, skip_blank_lines, parse_dates, infer_datetime_format, keep_date_col, date_parser, dayfirst, cache_dates, iterator, chunksize, compression, thousands, decimal, lineterminator, quotechar, quoting, doublequote, escapechar, comment, encoding, dialect, error_bad_lines, warn_bad_lines, delim_whitespace, low_memory, memory_map, float_precision, storage_options)\u001b[0m\n\u001b[1;32m    608\u001b[0m     \u001b[0mkwds\u001b[0m\u001b[0;34m.\u001b[0m\u001b[0mupdate\u001b[0m\u001b[0;34m(\u001b[0m\u001b[0mkwds_defaults\u001b[0m\u001b[0;34m)\u001b[0m\u001b[0;34m\u001b[0m\u001b[0;34m\u001b[0m\u001b[0m\n\u001b[1;32m    609\u001b[0m \u001b[0;34m\u001b[0m\u001b[0m\n\u001b[0;32m--> 610\u001b[0;31m     \u001b[0;32mreturn\u001b[0m \u001b[0m_read\u001b[0m\u001b[0;34m(\u001b[0m\u001b[0mfilepath_or_buffer\u001b[0m\u001b[0;34m,\u001b[0m \u001b[0mkwds\u001b[0m\u001b[0;34m)\u001b[0m\u001b[0;34m\u001b[0m\u001b[0;34m\u001b[0m\u001b[0m\n\u001b[0m\u001b[1;32m    611\u001b[0m \u001b[0;34m\u001b[0m\u001b[0m\n\u001b[1;32m    612\u001b[0m \u001b[0;34m\u001b[0m\u001b[0m\n",
      "\u001b[0;32m~/opt/anaconda3/lib/python3.8/site-packages/pandas/io/parsers.py\u001b[0m in \u001b[0;36m_read\u001b[0;34m(filepath_or_buffer, kwds)\u001b[0m\n\u001b[1;32m    466\u001b[0m \u001b[0;34m\u001b[0m\u001b[0m\n\u001b[1;32m    467\u001b[0m     \u001b[0;32mwith\u001b[0m \u001b[0mparser\u001b[0m\u001b[0;34m:\u001b[0m\u001b[0;34m\u001b[0m\u001b[0;34m\u001b[0m\u001b[0m\n\u001b[0;32m--> 468\u001b[0;31m         \u001b[0;32mreturn\u001b[0m \u001b[0mparser\u001b[0m\u001b[0;34m.\u001b[0m\u001b[0mread\u001b[0m\u001b[0;34m(\u001b[0m\u001b[0mnrows\u001b[0m\u001b[0;34m)\u001b[0m\u001b[0;34m\u001b[0m\u001b[0;34m\u001b[0m\u001b[0m\n\u001b[0m\u001b[1;32m    469\u001b[0m \u001b[0;34m\u001b[0m\u001b[0m\n\u001b[1;32m    470\u001b[0m \u001b[0;34m\u001b[0m\u001b[0m\n",
      "\u001b[0;32m~/opt/anaconda3/lib/python3.8/site-packages/pandas/io/parsers.py\u001b[0m in \u001b[0;36mread\u001b[0;34m(self, nrows)\u001b[0m\n\u001b[1;32m   1055\u001b[0m     \u001b[0;32mdef\u001b[0m \u001b[0mread\u001b[0m\u001b[0;34m(\u001b[0m\u001b[0mself\u001b[0m\u001b[0;34m,\u001b[0m \u001b[0mnrows\u001b[0m\u001b[0;34m=\u001b[0m\u001b[0;32mNone\u001b[0m\u001b[0;34m)\u001b[0m\u001b[0;34m:\u001b[0m\u001b[0;34m\u001b[0m\u001b[0;34m\u001b[0m\u001b[0m\n\u001b[1;32m   1056\u001b[0m         \u001b[0mnrows\u001b[0m \u001b[0;34m=\u001b[0m \u001b[0mvalidate_integer\u001b[0m\u001b[0;34m(\u001b[0m\u001b[0;34m\"nrows\"\u001b[0m\u001b[0;34m,\u001b[0m \u001b[0mnrows\u001b[0m\u001b[0;34m)\u001b[0m\u001b[0;34m\u001b[0m\u001b[0;34m\u001b[0m\u001b[0m\n\u001b[0;32m-> 1057\u001b[0;31m         \u001b[0mindex\u001b[0m\u001b[0;34m,\u001b[0m \u001b[0mcolumns\u001b[0m\u001b[0;34m,\u001b[0m \u001b[0mcol_dict\u001b[0m \u001b[0;34m=\u001b[0m \u001b[0mself\u001b[0m\u001b[0;34m.\u001b[0m\u001b[0m_engine\u001b[0m\u001b[0;34m.\u001b[0m\u001b[0mread\u001b[0m\u001b[0;34m(\u001b[0m\u001b[0mnrows\u001b[0m\u001b[0;34m)\u001b[0m\u001b[0;34m\u001b[0m\u001b[0;34m\u001b[0m\u001b[0m\n\u001b[0m\u001b[1;32m   1058\u001b[0m \u001b[0;34m\u001b[0m\u001b[0m\n\u001b[1;32m   1059\u001b[0m         \u001b[0;32mif\u001b[0m \u001b[0mindex\u001b[0m \u001b[0;32mis\u001b[0m \u001b[0;32mNone\u001b[0m\u001b[0;34m:\u001b[0m\u001b[0;34m\u001b[0m\u001b[0;34m\u001b[0m\u001b[0m\n",
      "\u001b[0;32m~/opt/anaconda3/lib/python3.8/site-packages/pandas/io/parsers.py\u001b[0m in \u001b[0;36mread\u001b[0;34m(self, nrows)\u001b[0m\n\u001b[1;32m   2059\u001b[0m     \u001b[0;32mdef\u001b[0m \u001b[0mread\u001b[0m\u001b[0;34m(\u001b[0m\u001b[0mself\u001b[0m\u001b[0;34m,\u001b[0m \u001b[0mnrows\u001b[0m\u001b[0;34m=\u001b[0m\u001b[0;32mNone\u001b[0m\u001b[0;34m)\u001b[0m\u001b[0;34m:\u001b[0m\u001b[0;34m\u001b[0m\u001b[0;34m\u001b[0m\u001b[0m\n\u001b[1;32m   2060\u001b[0m         \u001b[0;32mtry\u001b[0m\u001b[0;34m:\u001b[0m\u001b[0;34m\u001b[0m\u001b[0;34m\u001b[0m\u001b[0m\n\u001b[0;32m-> 2061\u001b[0;31m             \u001b[0mdata\u001b[0m \u001b[0;34m=\u001b[0m \u001b[0mself\u001b[0m\u001b[0;34m.\u001b[0m\u001b[0m_reader\u001b[0m\u001b[0;34m.\u001b[0m\u001b[0mread\u001b[0m\u001b[0;34m(\u001b[0m\u001b[0mnrows\u001b[0m\u001b[0;34m)\u001b[0m\u001b[0;34m\u001b[0m\u001b[0;34m\u001b[0m\u001b[0m\n\u001b[0m\u001b[1;32m   2062\u001b[0m         \u001b[0;32mexcept\u001b[0m \u001b[0mStopIteration\u001b[0m\u001b[0;34m:\u001b[0m\u001b[0;34m\u001b[0m\u001b[0;34m\u001b[0m\u001b[0m\n\u001b[1;32m   2063\u001b[0m             \u001b[0;32mif\u001b[0m \u001b[0mself\u001b[0m\u001b[0;34m.\u001b[0m\u001b[0m_first_chunk\u001b[0m\u001b[0;34m:\u001b[0m\u001b[0;34m\u001b[0m\u001b[0;34m\u001b[0m\u001b[0m\n",
      "\u001b[0;32mpandas/_libs/parsers.pyx\u001b[0m in \u001b[0;36mpandas._libs.parsers.TextReader.read\u001b[0;34m()\u001b[0m\n",
      "\u001b[0;32mpandas/_libs/parsers.pyx\u001b[0m in \u001b[0;36mpandas._libs.parsers.TextReader._read_low_memory\u001b[0;34m()\u001b[0m\n",
      "\u001b[0;32mpandas/_libs/parsers.pyx\u001b[0m in \u001b[0;36mpandas._libs.parsers.TextReader._read_rows\u001b[0;34m()\u001b[0m\n",
      "\u001b[0;32mpandas/_libs/parsers.pyx\u001b[0m in \u001b[0;36mpandas._libs.parsers.TextReader._tokenize_rows\u001b[0;34m()\u001b[0m\n",
      "\u001b[0;32mpandas/_libs/parsers.pyx\u001b[0m in \u001b[0;36mpandas._libs.parsers.raise_parser_error\u001b[0;34m()\u001b[0m\n",
      "\u001b[0;31mParserError\u001b[0m: Error tokenizing data. C error: Calling read(nbytes) on source failed. Try engine='python'."
     ]
    }
   ],
   "source": [
    "# pip install ipynb if this fails\n",
    "# the first time you run this, it will execute these, but run it again if you'd like\n",
    "# warning: there's an issue where the arguments won't work so just use no-arg functions to pull\n",
    "from ipynb.fs.full.RestaurantInspectionsData import getFoodInspectionsDf, preprocess_inspections\n",
    "from ipynb.fs.full.RestaurantsData import getRestaurantsDf, preprocess_restaurants\n",
    "from ipynb.fs.full.RestaurantViolationsData import getViolationsDf, preprocess_violations\n",
    "from ipynb.fs.full.WeatherData import getWeatherData, preprocess_weatherdata\n",
    "from ipynb.fs.full.YelpReviewData import preprocess_restaurants_yelp\n",
    "from ipynb.fs.full.CrimeData import getCrimeDataDf, preprocess_crimedata"
   ]
  },
  {
   "cell_type": "markdown",
   "id": "e6765dce",
   "metadata": {},
   "source": [
    "## Fetch Inspections"
   ]
  },
  {
   "cell_type": "code",
   "execution_count": null,
   "id": "f2494e69",
   "metadata": {},
   "outputs": [],
   "source": [
    "food_inspections_raw = getFoodInspectionsDf()\n",
    "inspections = preprocess_inspections(food_inspections_raw.copy())\n",
    "inspections.head()"
   ]
  },
  {
   "cell_type": "markdown",
   "id": "2f2c28cc",
   "metadata": {},
   "source": [
    "## Fetch Restaurants"
   ]
  },
  {
   "cell_type": "code",
   "execution_count": null,
   "id": "85823c53",
   "metadata": {},
   "outputs": [],
   "source": [
    "restaurants_raw = getRestaurantsDf()\n",
    "restaurants = preprocess_restaurants(restaurants_raw.copy())\n",
    "restaurants.head()"
   ]
  },
  {
   "cell_type": "markdown",
   "id": "bb4a3462",
   "metadata": {},
   "source": [
    "## Fetch violations"
   ]
  },
  {
   "cell_type": "code",
   "execution_count": null,
   "id": "0da125f2",
   "metadata": {},
   "outputs": [],
   "source": [
    "violations_raw = getViolationsDf()\n",
    "violations = preprocess_violations(violations_raw.copy())\n",
    "violations.head()"
   ]
  },
  {
   "cell_type": "markdown",
   "id": "281205d1",
   "metadata": {},
   "source": [
    "## Fetch weather data"
   ]
  },
  {
   "cell_type": "code",
   "execution_count": null,
   "id": "002ee9f8",
   "metadata": {},
   "outputs": [],
   "source": [
    "weatherdata_raw = getWeatherData()\n",
    "weatherdata = preprocess_weatherdata(weatherdata_raw.copy())\n",
    "weatherdata.head()"
   ]
  },
  {
   "cell_type": "markdown",
   "id": "dfc09d71",
   "metadata": {},
   "source": [
    "## Fetch Yelp Ratings Data"
   ]
  },
  {
   "cell_type": "code",
   "execution_count": null,
   "id": "4d8f6cd9",
   "metadata": {},
   "outputs": [],
   "source": [
    "#get list of restaurants with all relevant information plus phone number post-preprocessing\n",
    "restaurants_yelp_raw = getRestaurantsDf()\n",
    "restaurants_yelp = preprocess_restaurants_yelp(restaurants_yelp_raw.copy())\n",
    "restaurants_yelp.head()\n"
   ]
  },
  {
   "cell_type": "code",
   "execution_count": null,
   "id": "fe3bc90a",
   "metadata": {},
   "outputs": [],
   "source": [
    "#write to csv\n",
    "restaurants_yelp.to_csv('restaurants_yelp.csv')"
   ]
  },
  {
   "cell_type": "code",
   "execution_count": null,
   "id": "6943738e",
   "metadata": {},
   "outputs": [],
   "source": [
    "#read in processed yelp data\n",
    "yelpmatch_phone = pd.read_csv('yelpmatch_phone.csv')"
   ]
  },
  {
   "cell_type": "code",
   "execution_count": null,
   "id": "6c1d7cda",
   "metadata": {},
   "outputs": [],
   "source": [
    "yelpmatch_phone.head()"
   ]
  },
  {
   "cell_type": "markdown",
   "id": "9cd5fb4d",
   "metadata": {},
   "source": [
    "## Fetch crime data proxy data"
   ]
  },
  {
   "cell_type": "code",
   "execution_count": null,
   "id": "f58e91ad",
   "metadata": {},
   "outputs": [],
   "source": []
  },
  {
   "cell_type": "markdown",
   "id": "d78f40bd",
   "metadata": {},
   "source": [
    "## Next Steps ( we have T-minus 2 weeks!!!! !!!!!! FREAK OUTTTTT !!!!) \n",
    "0. Pull the police incidents/crime data and possibly cencus tracked income by location - Hearsch & Shyamal \n",
    "1. Make sure yelp data is sourced in this main notebook (minimal datapoints: ratings, dollar signs, type/cuisine, review metadata, other features at Ms. Park's discretion)\n",
    "2. Clean & Validate the data as part of Data Prep, EDA. Join tables by inspection. We want historical data per inspection and then we want to predict the risk scores for restaurants in high risk for future inspections. Note that although we have data around inspections by date, we don't really want to do a time series forecasting,bc time series forecasting sucks!\n",
    "3. Deal with missing values and encode variables \n",
    "4. Feature engineering \n",
    "5. Baseline model\n",
    "6. More complicated model\n",
    "7. Datasheets for datasets (ask Jon about this in next class if we need datasheet for every table or for every source) - Christine \n",
    "8. Hearsch - Ethical checklist \n",
    "9. Visualizations and story telling!\n",
    "10. Get started on a slideshow (FUN PART)"
   ]
  },
  {
   "cell_type": "code",
   "execution_count": null,
   "id": "bb5b1904",
   "metadata": {},
   "outputs": [],
   "source": []
  }
 ],
 "metadata": {
  "kernelspec": {
   "display_name": "Python 3",
   "language": "python",
   "name": "python3"
  },
  "language_info": {
   "codemirror_mode": {
    "name": "ipython",
    "version": 3
   },
   "file_extension": ".py",
   "mimetype": "text/x-python",
   "name": "python",
   "nbconvert_exporter": "python",
   "pygments_lexer": "ipython3",
   "version": "3.8.8"
  }
 },
 "nbformat": 4,
 "nbformat_minor": 5
}
