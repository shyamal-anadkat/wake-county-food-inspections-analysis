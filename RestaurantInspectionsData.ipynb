{
 "cells": [
  {
   "cell_type": "markdown",
   "id": "7c32b979-3588-4ed1-af9b-c31ea16c205e",
   "metadata": {},
   "source": [
    "# Sourcing Restaurant Inspections Data"
   ]
  },
  {
   "cell_type": "markdown",
   "id": "5e8c197b",
   "metadata": {},
   "source": [
    "## Imports"
   ]
  },
  {
   "cell_type": "code",
   "execution_count": 1,
   "id": "1550cdca",
   "metadata": {},
   "outputs": [],
   "source": [
    "# import pandas, numpy, matplotlib, seaborn \n",
    "import numpy as np\n",
    "import pandas as pd\n",
    "import matplotlib.pyplot as plt\n",
    "import seaborn as sns\n",
    "\n",
    "# importing the requests library\n",
    "import requests\n",
    "\n",
    "import urllib.request\n",
    "from pathlib import Path\n",
    "import os"
   ]
  },
  {
   "cell_type": "markdown",
   "id": "60e31cbf",
   "metadata": {},
   "source": [
    "### Resources\n",
    " 1. [Restaurants in Wake County Data Info](https://www.arcgis.com/home/item.html?id=124c2187da8c41c59bde04fa67eb2872)\n",
    " 2. [Wake County Open Data](https://data-wake.opendata.arcgis.com/search?tags=restaurants)\n",
    " 3. [Food Inspection Violations Data Info](https://data.wakegov.com/datasets/Wake::food-inspection-violations/about)\n",
    " 4. [Wake County Yelp Initiative](https://ash.harvard.edu/news/wake-county-yelp-initiative)"
   ]
  },
  {
   "cell_type": "markdown",
   "id": "ef1ae50f",
   "metadata": {},
   "source": [
    "# Fetch food inspections from wakegov"
   ]
  },
  {
   "cell_type": "code",
   "execution_count": 2,
   "id": "18d06259",
   "metadata": {},
   "outputs": [
    {
     "name": "stdout",
     "output_type": "stream",
     "text": [
      "Using pre-fetched inspections data\n"
     ]
    }
   ],
   "source": [
    "# https://data-wake.opendata.arcgis.com/datasets/food-inspections/explore\n",
    "# https://www.arcgis.com/home/item.html?id=ebe3ae7f76954fad81411612d7c4fb17\n",
    "def getFoodInspectionsDf(forceFetch=False): \n",
    "    \n",
    "    # https://maps.wakegov.com/arcgis/rest/services/Inspections/RestaurantInspectionsOpenData/MapServer/1/query?outFields=*&where=1%3D1\n",
    "    # Sending get request and saving the response as response object\n",
    "    # extracting data in json\n",
    "    \n",
    "    path = Path()\n",
    "    key = 'inspections.csv'\n",
    "    filename = path/key\n",
    "    # If the file does not already exist in the directory, download it\n",
    "    if os.path.exists(filename) and not forceFetch:\n",
    "        print('Using pre-fetched inspections data')\n",
    "        return pd.read_csv(key)\n",
    "    \n",
    "    else:\n",
    "        print('Fetching inspections data...')\n",
    "        val = 'https://opendata.arcgis.com/datasets/ebe3ae7f76954fad81411612d7c4fb17_1.geojson'\n",
    "        rows = []\n",
    "        r = requests.get(url = val)\n",
    "        data = r.json()\n",
    "        #print(data)\n",
    "        for d in data:\n",
    "            data = r.json()['features']\n",
    "            for d in data:\n",
    "                rows.append(d['properties'])\n",
    "        inspections = pd.DataFrame(rows)\n",
    "        inspections.to_csv(key, index=False)\n",
    "        print('Done')\n",
    "        return inspections\n",
    "\n",
    "food_inspections_raw = getFoodInspectionsDf(forceFetch=False)"
   ]
  },
  {
   "cell_type": "code",
   "execution_count": 3,
   "id": "ed388bd4",
   "metadata": {},
   "outputs": [
    {
     "data": {
      "text/html": [
       "<div>\n",
       "<style scoped>\n",
       "    .dataframe tbody tr th:only-of-type {\n",
       "        vertical-align: middle;\n",
       "    }\n",
       "\n",
       "    .dataframe tbody tr th {\n",
       "        vertical-align: top;\n",
       "    }\n",
       "\n",
       "    .dataframe thead th {\n",
       "        text-align: right;\n",
       "    }\n",
       "</style>\n",
       "<table border=\"1\" class=\"dataframe\">\n",
       "  <thead>\n",
       "    <tr style=\"text-align: right;\">\n",
       "      <th></th>\n",
       "      <th>OBJECTID</th>\n",
       "      <th>HSISID</th>\n",
       "      <th>SCORE</th>\n",
       "      <th>DATE_</th>\n",
       "      <th>DESCRIPTION</th>\n",
       "      <th>TYPE</th>\n",
       "      <th>INSPECTOR</th>\n",
       "      <th>PERMITID</th>\n",
       "    </tr>\n",
       "  </thead>\n",
       "  <tbody>\n",
       "    <tr>\n",
       "      <th>0</th>\n",
       "      <td>22332274</td>\n",
       "      <td>4092017542</td>\n",
       "      <td>94.5</td>\n",
       "      <td>2017-04-07T04:00:00Z</td>\n",
       "      <td>Inspection conducted by Joshua Volkan, supervi...</td>\n",
       "      <td>Inspection</td>\n",
       "      <td>Anne-Kathrin Bartoli</td>\n",
       "      <td>76</td>\n",
       "    </tr>\n",
       "    <tr>\n",
       "      <th>1</th>\n",
       "      <td>22332275</td>\n",
       "      <td>4092017542</td>\n",
       "      <td>92.0</td>\n",
       "      <td>2017-11-08T05:00:00Z</td>\n",
       "      <td>manager owns two deep chest freezers that are ...</td>\n",
       "      <td>Inspection</td>\n",
       "      <td>Laura McNeill</td>\n",
       "      <td>76</td>\n",
       "    </tr>\n",
       "    <tr>\n",
       "      <th>2</th>\n",
       "      <td>22332276</td>\n",
       "      <td>4092017542</td>\n",
       "      <td>95.0</td>\n",
       "      <td>2018-03-23T04:00:00Z</td>\n",
       "      <td>NaN</td>\n",
       "      <td>Inspection</td>\n",
       "      <td>Laura McNeill</td>\n",
       "      <td>76</td>\n",
       "    </tr>\n",
       "    <tr>\n",
       "      <th>3</th>\n",
       "      <td>22332277</td>\n",
       "      <td>4092017542</td>\n",
       "      <td>93.5</td>\n",
       "      <td>2018-09-07T04:00:00Z</td>\n",
       "      <td>*NOTICE* EFFECTIVE JANUARY 1, 2019, THE NC FOO...</td>\n",
       "      <td>Inspection</td>\n",
       "      <td>Laura McNeill</td>\n",
       "      <td>76</td>\n",
       "    </tr>\n",
       "    <tr>\n",
       "      <th>4</th>\n",
       "      <td>22332278</td>\n",
       "      <td>4092017542</td>\n",
       "      <td>93.0</td>\n",
       "      <td>2019-04-04T04:00:00Z</td>\n",
       "      <td>*NOTICE* AS OF JANUARY 1, 2019, THE NC FOOD CO...</td>\n",
       "      <td>Inspection</td>\n",
       "      <td>Joanne Rutkofske</td>\n",
       "      <td>76</td>\n",
       "    </tr>\n",
       "  </tbody>\n",
       "</table>\n",
       "</div>"
      ],
      "text/plain": [
       "   OBJECTID      HSISID  SCORE                 DATE_  \\\n",
       "0  22332274  4092017542   94.5  2017-04-07T04:00:00Z   \n",
       "1  22332275  4092017542   92.0  2017-11-08T05:00:00Z   \n",
       "2  22332276  4092017542   95.0  2018-03-23T04:00:00Z   \n",
       "3  22332277  4092017542   93.5  2018-09-07T04:00:00Z   \n",
       "4  22332278  4092017542   93.0  2019-04-04T04:00:00Z   \n",
       "\n",
       "                                         DESCRIPTION        TYPE  \\\n",
       "0  Inspection conducted by Joshua Volkan, supervi...  Inspection   \n",
       "1  manager owns two deep chest freezers that are ...  Inspection   \n",
       "2                                                NaN  Inspection   \n",
       "3  *NOTICE* EFFECTIVE JANUARY 1, 2019, THE NC FOO...  Inspection   \n",
       "4  *NOTICE* AS OF JANUARY 1, 2019, THE NC FOOD CO...  Inspection   \n",
       "\n",
       "              INSPECTOR  PERMITID  \n",
       "0  Anne-Kathrin Bartoli        76  \n",
       "1         Laura McNeill        76  \n",
       "2         Laura McNeill        76  \n",
       "3         Laura McNeill        76  \n",
       "4      Joanne Rutkofske        76  "
      ]
     },
     "execution_count": 3,
     "metadata": {},
     "output_type": "execute_result"
    }
   ],
   "source": [
    "food_inspections_raw.head()"
   ]
  },
  {
   "cell_type": "markdown",
   "id": "3d8e5324",
   "metadata": {},
   "source": [
    "# Preprocessing"
   ]
  },
  {
   "cell_type": "code",
   "execution_count": 4,
   "id": "272b8326",
   "metadata": {},
   "outputs": [],
   "source": [
    "def preprocess_inspections(df):\n",
    "        \n",
    "    # drop duplicates\n",
    "    df.drop_duplicates(inplace=True)\n",
    "                       \n",
    "    # convert date to datetime & only get date\n",
    "    df['DATE_'] = pd.to_datetime(df['DATE_']).dt.date\n",
    "    df.rename(columns={\"DATE_\": \"DATE\"}, inplace=True)\n",
    "\n",
    "    # filter only since beginning of 2017 - we don't want data before that\n",
    "    df = df[df['DATE'] >= pd.to_datetime('2017-01-01').date()].reset_index(drop=True)\n",
    "    \n",
    "    # drop irrelevant columns\n",
    "    df.drop(['PERMITID', 'DESCRIPTION'], axis=1, inplace=True)\n",
    "    \n",
    "    return df"
   ]
  },
  {
   "cell_type": "markdown",
   "id": "59ea92ba-6b87-4355-943a-7f1ba9d8bca8",
   "metadata": {},
   "source": [
    "## Save Preprocessed DataFrame"
   ]
  },
  {
   "cell_type": "code",
   "execution_count": 5,
   "id": "42316d58",
   "metadata": {},
   "outputs": [],
   "source": [
    "df = preprocess_inspections(food_inspections_raw.copy())\n",
    "df.to_csv('preprocessed_inspections.csv', index=False)"
   ]
  },
  {
   "cell_type": "code",
   "execution_count": 6,
   "id": "7bb941a1",
   "metadata": {},
   "outputs": [
    {
     "name": "stdout",
     "output_type": "stream",
     "text": [
      "(32742, 6)\n"
     ]
    },
    {
     "data": {
      "text/html": [
       "<div>\n",
       "<style scoped>\n",
       "    .dataframe tbody tr th:only-of-type {\n",
       "        vertical-align: middle;\n",
       "    }\n",
       "\n",
       "    .dataframe tbody tr th {\n",
       "        vertical-align: top;\n",
       "    }\n",
       "\n",
       "    .dataframe thead th {\n",
       "        text-align: right;\n",
       "    }\n",
       "</style>\n",
       "<table border=\"1\" class=\"dataframe\">\n",
       "  <thead>\n",
       "    <tr style=\"text-align: right;\">\n",
       "      <th></th>\n",
       "      <th>OBJECTID</th>\n",
       "      <th>HSISID</th>\n",
       "      <th>SCORE</th>\n",
       "      <th>DATE</th>\n",
       "      <th>TYPE</th>\n",
       "      <th>INSPECTOR</th>\n",
       "    </tr>\n",
       "  </thead>\n",
       "  <tbody>\n",
       "    <tr>\n",
       "      <th>0</th>\n",
       "      <td>22332274</td>\n",
       "      <td>4092017542</td>\n",
       "      <td>94.5</td>\n",
       "      <td>2017-04-07</td>\n",
       "      <td>Inspection</td>\n",
       "      <td>Anne-Kathrin Bartoli</td>\n",
       "    </tr>\n",
       "    <tr>\n",
       "      <th>1</th>\n",
       "      <td>22332275</td>\n",
       "      <td>4092017542</td>\n",
       "      <td>92.0</td>\n",
       "      <td>2017-11-08</td>\n",
       "      <td>Inspection</td>\n",
       "      <td>Laura McNeill</td>\n",
       "    </tr>\n",
       "    <tr>\n",
       "      <th>2</th>\n",
       "      <td>22332276</td>\n",
       "      <td>4092017542</td>\n",
       "      <td>95.0</td>\n",
       "      <td>2018-03-23</td>\n",
       "      <td>Inspection</td>\n",
       "      <td>Laura McNeill</td>\n",
       "    </tr>\n",
       "    <tr>\n",
       "      <th>3</th>\n",
       "      <td>22332277</td>\n",
       "      <td>4092017542</td>\n",
       "      <td>93.5</td>\n",
       "      <td>2018-09-07</td>\n",
       "      <td>Inspection</td>\n",
       "      <td>Laura McNeill</td>\n",
       "    </tr>\n",
       "    <tr>\n",
       "      <th>4</th>\n",
       "      <td>22332278</td>\n",
       "      <td>4092017542</td>\n",
       "      <td>93.0</td>\n",
       "      <td>2019-04-04</td>\n",
       "      <td>Inspection</td>\n",
       "      <td>Joanne Rutkofske</td>\n",
       "    </tr>\n",
       "  </tbody>\n",
       "</table>\n",
       "</div>"
      ],
      "text/plain": [
       "   OBJECTID      HSISID  SCORE        DATE        TYPE             INSPECTOR\n",
       "0  22332274  4092017542   94.5  2017-04-07  Inspection  Anne-Kathrin Bartoli\n",
       "1  22332275  4092017542   92.0  2017-11-08  Inspection         Laura McNeill\n",
       "2  22332276  4092017542   95.0  2018-03-23  Inspection         Laura McNeill\n",
       "3  22332277  4092017542   93.5  2018-09-07  Inspection         Laura McNeill\n",
       "4  22332278  4092017542   93.0  2019-04-04  Inspection      Joanne Rutkofske"
      ]
     },
     "execution_count": 6,
     "metadata": {},
     "output_type": "execute_result"
    }
   ],
   "source": [
    "print(df.shape)\n",
    "df.head()"
   ]
  },
  {
   "cell_type": "code",
   "execution_count": 7,
   "id": "9cf47b4f",
   "metadata": {},
   "outputs": [
    {
     "name": "stdout",
     "output_type": "stream",
     "text": [
      "<class 'pandas.core.frame.DataFrame'>\n",
      "RangeIndex: 32742 entries, 0 to 32741\n",
      "Data columns (total 6 columns):\n",
      " #   Column     Non-Null Count  Dtype  \n",
      "---  ------     --------------  -----  \n",
      " 0   OBJECTID   32742 non-null  int64  \n",
      " 1   HSISID     32742 non-null  int64  \n",
      " 2   SCORE      32742 non-null  float64\n",
      " 3   DATE       32742 non-null  object \n",
      " 4   TYPE       32742 non-null  object \n",
      " 5   INSPECTOR  32742 non-null  object \n",
      "dtypes: float64(1), int64(2), object(3)\n",
      "memory usage: 1.5+ MB\n"
     ]
    },
    {
     "data": {
      "text/plain": [
       "None"
      ]
     },
     "metadata": {},
     "output_type": "display_data"
    }
   ],
   "source": [
    "display(df.info())"
   ]
  },
  {
   "cell_type": "code",
   "execution_count": 8,
   "id": "219f548a",
   "metadata": {},
   "outputs": [
    {
     "data": {
      "text/plain": [
       "OBJECTID     0\n",
       "HSISID       0\n",
       "SCORE        0\n",
       "DATE         0\n",
       "TYPE         0\n",
       "INSPECTOR    0\n",
       "dtype: int64"
      ]
     },
     "execution_count": 8,
     "metadata": {},
     "output_type": "execute_result"
    }
   ],
   "source": [
    "df.isna().sum()"
   ]
  },
  {
   "cell_type": "code",
   "execution_count": 9,
   "id": "40da7f02",
   "metadata": {},
   "outputs": [
    {
     "data": {
      "text/plain": [
       "{'OBJECTID': 32742,\n",
       " 'HSISID': 3882,\n",
       " 'SCORE': 53,\n",
       " 'DATE': 1353,\n",
       " 'TYPE': 2,\n",
       " 'INSPECTOR': 58}"
      ]
     },
     "metadata": {},
     "output_type": "display_data"
    }
   ],
   "source": [
    "display({column: len(df[column].unique()) for column in df.columns})"
   ]
  },
  {
   "cell_type": "code",
   "execution_count": 10,
   "id": "ff3e2aee",
   "metadata": {},
   "outputs": [
    {
     "data": {
      "text/plain": [
       "OBJECTID       int64\n",
       "HSISID         int64\n",
       "SCORE        float64\n",
       "DATE          object\n",
       "TYPE          object\n",
       "INSPECTOR     object\n",
       "dtype: object"
      ]
     },
     "execution_count": 10,
     "metadata": {},
     "output_type": "execute_result"
    }
   ],
   "source": [
    "df.dtypes"
   ]
  }
 ],
 "metadata": {
  "kernelspec": {
   "display_name": "Python 3",
   "language": "python",
   "name": "python3"
  },
  "language_info": {
   "codemirror_mode": {
    "name": "ipython",
    "version": 3
   },
   "file_extension": ".py",
   "mimetype": "text/x-python",
   "name": "python",
   "nbconvert_exporter": "python",
   "pygments_lexer": "ipython3",
   "version": "3.8.8"
  }
 },
 "nbformat": 4,
 "nbformat_minor": 5
}
