{
 "cells": [
  {
   "cell_type": "code",
   "execution_count": 1,
   "id": "1550cdca",
   "metadata": {},
   "outputs": [],
   "source": [
    "# import pandas, numpy, matplotlib, seaborn \n",
    "import numpy as np\n",
    "import pandas as pd\n",
    "import matplotlib.pyplot as plt\n",
    "import seaborn as sns\n",
    "\n",
    "# importing the requests library\n",
    "import requests"
   ]
  },
  {
   "cell_type": "markdown",
   "id": "60e31cbf",
   "metadata": {},
   "source": [
    "### Resources\n",
    " 1. [Restaurants in Wake County Data Info](https://www.arcgis.com/home/item.html?id=124c2187da8c41c59bde04fa67eb2872)\n",
    " 2. [Wake County Open Data](https://data-wake.opendata.arcgis.com/search?tags=restaurants)\n",
    " 3. [Food Inspection Violations Data Info](https://data.wakegov.com/datasets/Wake::food-inspection-violations/about)\n",
    " 4. [Wake County Yelp Initiative](https://ash.harvard.edu/news/wake-county-yelp-initiative)"
   ]
  },
  {
   "cell_type": "code",
   "execution_count": 2,
   "id": "18d06259",
   "metadata": {},
   "outputs": [],
   "source": [
    "# https://data-wake.opendata.arcgis.com/datasets/food-inspections/explore\n",
    "# https://www.arcgis.com/home/item.html?id=ebe3ae7f76954fad81411612d7c4fb17\n",
    "def getFoodInspectionsDf(): \n",
    "    # https://maps.wakegov.com/arcgis/rest/services/Inspections/RestaurantInspectionsOpenData/MapServer/1/query?outFields=*&where=1%3D1\n",
    "    \n",
    "    # Sending get request and saving the response as response object\n",
    "    # extracting data in json\n",
    "    val = 'https://opendata.arcgis.com/datasets/ebe3ae7f76954fad81411612d7c4fb17_1.geojson'\n",
    "    rows = []\n",
    "    r = requests.get(url = val)\n",
    "    data = r.json()\n",
    "    #print(data)\n",
    "    for d in data:\n",
    "        data = r.json()['features']\n",
    "        for d in data:\n",
    "            rows.append(d['properties'])\n",
    "    return pd.DataFrame(rows)\n",
    "\n",
    "food_inspections_df = getFoodInspectionsDf()"
   ]
  },
  {
   "cell_type": "code",
   "execution_count": 3,
   "id": "7bb941a1",
   "metadata": {},
   "outputs": [
    {
     "name": "stdout",
     "output_type": "stream",
     "text": [
      "(189384, 8)\n"
     ]
    },
    {
     "data": {
      "text/html": [
       "<div>\n",
       "<style scoped>\n",
       "    .dataframe tbody tr th:only-of-type {\n",
       "        vertical-align: middle;\n",
       "    }\n",
       "\n",
       "    .dataframe tbody tr th {\n",
       "        vertical-align: top;\n",
       "    }\n",
       "\n",
       "    .dataframe thead th {\n",
       "        text-align: right;\n",
       "    }\n",
       "</style>\n",
       "<table border=\"1\" class=\"dataframe\">\n",
       "  <thead>\n",
       "    <tr style=\"text-align: right;\">\n",
       "      <th></th>\n",
       "      <th>OBJECTID</th>\n",
       "      <th>HSISID</th>\n",
       "      <th>SCORE</th>\n",
       "      <th>DATE_</th>\n",
       "      <th>DESCRIPTION</th>\n",
       "      <th>TYPE</th>\n",
       "      <th>INSPECTOR</th>\n",
       "      <th>PERMITID</th>\n",
       "    </tr>\n",
       "  </thead>\n",
       "  <tbody>\n",
       "    <tr>\n",
       "      <th>0</th>\n",
       "      <td>21475168</td>\n",
       "      <td>04092017542</td>\n",
       "      <td>94.5</td>\n",
       "      <td>2017-04-07T00:00:00Z</td>\n",
       "      <td>Inspection conducted by Joshua Volkan, supervi...</td>\n",
       "      <td>Inspection</td>\n",
       "      <td>Anne-Kathrin Bartoli</td>\n",
       "      <td>325</td>\n",
       "    </tr>\n",
       "    <tr>\n",
       "      <th>1</th>\n",
       "      <td>21475185</td>\n",
       "      <td>04092017542</td>\n",
       "      <td>92.0</td>\n",
       "      <td>2017-11-08T00:00:00Z</td>\n",
       "      <td>manager owns two deep chest freezers that are ...</td>\n",
       "      <td>Inspection</td>\n",
       "      <td>Laura McNeill</td>\n",
       "      <td>325</td>\n",
       "    </tr>\n",
       "    <tr>\n",
       "      <th>2</th>\n",
       "      <td>21475186</td>\n",
       "      <td>04092017542</td>\n",
       "      <td>95.0</td>\n",
       "      <td>2018-03-23T00:00:00Z</td>\n",
       "      <td>None</td>\n",
       "      <td>Inspection</td>\n",
       "      <td>Laura McNeill</td>\n",
       "      <td>325</td>\n",
       "    </tr>\n",
       "    <tr>\n",
       "      <th>3</th>\n",
       "      <td>21475187</td>\n",
       "      <td>04092017542</td>\n",
       "      <td>93.5</td>\n",
       "      <td>2018-09-07T00:00:00Z</td>\n",
       "      <td>*NOTICE* EFFECTIVE JANUARY 1, 2019, THE NC FOO...</td>\n",
       "      <td>Inspection</td>\n",
       "      <td>Laura McNeill</td>\n",
       "      <td>325</td>\n",
       "    </tr>\n",
       "    <tr>\n",
       "      <th>4</th>\n",
       "      <td>21475188</td>\n",
       "      <td>04092017542</td>\n",
       "      <td>93.0</td>\n",
       "      <td>2019-04-04T00:00:00Z</td>\n",
       "      <td>*NOTICE* AS OF JANUARY 1, 2019, THE NC FOOD CO...</td>\n",
       "      <td>Inspection</td>\n",
       "      <td>Joanne Rutkofske</td>\n",
       "      <td>325</td>\n",
       "    </tr>\n",
       "  </tbody>\n",
       "</table>\n",
       "</div>"
      ],
      "text/plain": [
       "   OBJECTID       HSISID  SCORE                 DATE_  \\\n",
       "0  21475168  04092017542   94.5  2017-04-07T00:00:00Z   \n",
       "1  21475185  04092017542   92.0  2017-11-08T00:00:00Z   \n",
       "2  21475186  04092017542   95.0  2018-03-23T00:00:00Z   \n",
       "3  21475187  04092017542   93.5  2018-09-07T00:00:00Z   \n",
       "4  21475188  04092017542   93.0  2019-04-04T00:00:00Z   \n",
       "\n",
       "                                         DESCRIPTION        TYPE  \\\n",
       "0  Inspection conducted by Joshua Volkan, supervi...  Inspection   \n",
       "1  manager owns two deep chest freezers that are ...  Inspection   \n",
       "2                                               None  Inspection   \n",
       "3  *NOTICE* EFFECTIVE JANUARY 1, 2019, THE NC FOO...  Inspection   \n",
       "4  *NOTICE* AS OF JANUARY 1, 2019, THE NC FOOD CO...  Inspection   \n",
       "\n",
       "              INSPECTOR  PERMITID  \n",
       "0  Anne-Kathrin Bartoli       325  \n",
       "1         Laura McNeill       325  \n",
       "2         Laura McNeill       325  \n",
       "3         Laura McNeill       325  \n",
       "4      Joanne Rutkofske       325  "
      ]
     },
     "execution_count": 3,
     "metadata": {},
     "output_type": "execute_result"
    }
   ],
   "source": [
    "print(food_inspections_df.shape)\n",
    "food_inspections_df.head()"
   ]
  },
  {
   "cell_type": "code",
   "execution_count": 4,
   "id": "9cf47b4f",
   "metadata": {},
   "outputs": [
    {
     "name": "stdout",
     "output_type": "stream",
     "text": [
      "<class 'pandas.core.frame.DataFrame'>\n",
      "RangeIndex: 189384 entries, 0 to 189383\n",
      "Data columns (total 8 columns):\n",
      " #   Column       Non-Null Count   Dtype  \n",
      "---  ------       --------------   -----  \n",
      " 0   OBJECTID     189384 non-null  int64  \n",
      " 1   HSISID       189384 non-null  object \n",
      " 2   SCORE        189384 non-null  float64\n",
      " 3   DATE_        189384 non-null  object \n",
      " 4   DESCRIPTION  129500 non-null  object \n",
      " 5   TYPE         189384 non-null  object \n",
      " 6   INSPECTOR    189384 non-null  object \n",
      " 7   PERMITID     189384 non-null  int64  \n",
      "dtypes: float64(1), int64(2), object(5)\n",
      "memory usage: 11.6+ MB\n"
     ]
    },
    {
     "data": {
      "text/plain": [
       "None"
      ]
     },
     "metadata": {},
     "output_type": "display_data"
    }
   ],
   "source": [
    "display(food_inspections_df.info())"
   ]
  },
  {
   "cell_type": "code",
   "execution_count": 7,
   "id": "219f548a",
   "metadata": {},
   "outputs": [
    {
     "data": {
      "text/plain": [
       "OBJECTID       0.000000\n",
       "HSISID         0.000000\n",
       "SCORE          0.000000\n",
       "DATE_          0.000000\n",
       "DESCRIPTION    0.316204\n",
       "TYPE           0.000000\n",
       "INSPECTOR      0.000000\n",
       "PERMITID       0.000000\n",
       "dtype: float64"
      ]
     },
     "execution_count": 7,
     "metadata": {},
     "output_type": "execute_result"
    }
   ],
   "source": [
    "food_inspections_df.isna().mean()"
   ]
  },
  {
   "cell_type": "code",
   "execution_count": 8,
   "id": "40da7f02",
   "metadata": {},
   "outputs": [
    {
     "data": {
      "text/plain": [
       "{'OBJECTID': 47346,\n",
       " 'HSISID': 3865,\n",
       " 'SCORE': 53,\n",
       " 'DATE_': 2476,\n",
       " 'DESCRIPTION': 14369,\n",
       " 'TYPE': 2,\n",
       " 'INSPECTOR': 67,\n",
       " 'PERMITID': 3865}"
      ]
     },
     "metadata": {},
     "output_type": "display_data"
    }
   ],
   "source": [
    "display({column: len(food_inspections_df[column].unique()) for column in food_inspections_df.columns})"
   ]
  },
  {
   "cell_type": "code",
   "execution_count": null,
   "id": "ff3e2aee",
   "metadata": {},
   "outputs": [],
   "source": []
  }
 ],
 "metadata": {
  "kernelspec": {
   "display_name": "Python 3",
   "language": "python",
   "name": "python3"
  },
  "language_info": {
   "codemirror_mode": {
    "name": "ipython",
    "version": 3
   },
   "file_extension": ".py",
   "mimetype": "text/x-python",
   "name": "python",
   "nbconvert_exporter": "python",
   "pygments_lexer": "ipython3",
   "version": "3.8.8"
  }
 },
 "nbformat": 4,
 "nbformat_minor": 5
}
