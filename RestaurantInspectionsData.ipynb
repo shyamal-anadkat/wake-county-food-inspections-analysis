{
 "cells": [
  {
   "cell_type": "markdown",
   "id": "5e8c197b",
   "metadata": {},
   "source": [
    "## Imports"
   ]
  },
  {
   "cell_type": "code",
   "execution_count": 1,
   "id": "1550cdca",
   "metadata": {},
   "outputs": [],
   "source": [
    "# import pandas, numpy, matplotlib, seaborn \n",
    "import numpy as np\n",
    "import pandas as pd\n",
    "import matplotlib.pyplot as plt\n",
    "import seaborn as sns\n",
    "\n",
    "# importing the requests library\n",
    "import requests\n",
    "\n",
    "import urllib.request\n",
    "from pathlib import Path\n",
    "import os"
   ]
  },
  {
   "cell_type": "markdown",
   "id": "60e31cbf",
   "metadata": {},
   "source": [
    "### Resources\n",
    " 1. [Restaurants in Wake County Data Info](https://www.arcgis.com/home/item.html?id=124c2187da8c41c59bde04fa67eb2872)\n",
    " 2. [Wake County Open Data](https://data-wake.opendata.arcgis.com/search?tags=restaurants)\n",
    " 3. [Food Inspection Violations Data Info](https://data.wakegov.com/datasets/Wake::food-inspection-violations/about)\n",
    " 4. [Wake County Yelp Initiative](https://ash.harvard.edu/news/wake-county-yelp-initiative)"
   ]
  },
  {
   "cell_type": "markdown",
   "id": "ef1ae50f",
   "metadata": {},
   "source": [
    "### Fetch food inspections from wakegov"
   ]
  },
  {
   "cell_type": "code",
   "execution_count": 2,
   "id": "18d06259",
   "metadata": {},
   "outputs": [
    {
     "name": "stdout",
     "output_type": "stream",
     "text": [
      "Using pre-fetched inspections data\n"
     ]
    }
   ],
   "source": [
    "# https://data-wake.opendata.arcgis.com/datasets/food-inspections/explore\n",
    "# https://www.arcgis.com/home/item.html?id=ebe3ae7f76954fad81411612d7c4fb17\n",
    "def getFoodInspectionsDf(forceFetch=False): \n",
    "    \n",
    "    # https://maps.wakegov.com/arcgis/rest/services/Inspections/RestaurantInspectionsOpenData/MapServer/1/query?outFields=*&where=1%3D1\n",
    "    # Sending get request and saving the response as response object\n",
    "    # extracting data in json\n",
    "    \n",
    "    path = Path()\n",
    "    key = 'inspections.csv'\n",
    "    filename = path/key\n",
    "    # If the file does not already exist in the directory, download it\n",
    "    if os.path.exists(filename) and not forceFetch:\n",
    "        print('Using pre-fetched inspections data')\n",
    "        return pd.read_csv(key)\n",
    "    \n",
    "    else:\n",
    "        print('Fetching inspections data...')\n",
    "        val = 'https://opendata.arcgis.com/datasets/ebe3ae7f76954fad81411612d7c4fb17_1.geojson'\n",
    "        rows = []\n",
    "        r = requests.get(url = val)\n",
    "        data = r.json()\n",
    "        #print(data)\n",
    "        for d in data:\n",
    "            data = r.json()['features']\n",
    "            for d in data:\n",
    "                rows.append(d['properties'])\n",
    "        inspections = pd.DataFrame(rows)\n",
    "        inspections.to_csv(key, index=False)\n",
    "        print('Done')\n",
    "        return inspections\n",
    "\n",
    "food_inspections_raw = getFoodInspectionsDf(forceFetch=False)"
   ]
  },
  {
   "cell_type": "code",
   "execution_count": 3,
   "id": "ed388bd4",
   "metadata": {},
   "outputs": [
    {
     "data": {
      "text/html": [
       "<div>\n",
       "<style scoped>\n",
       "    .dataframe tbody tr th:only-of-type {\n",
       "        vertical-align: middle;\n",
       "    }\n",
       "\n",
       "    .dataframe tbody tr th {\n",
       "        vertical-align: top;\n",
       "    }\n",
       "\n",
       "    .dataframe thead th {\n",
       "        text-align: right;\n",
       "    }\n",
       "</style>\n",
       "<table border=\"1\" class=\"dataframe\">\n",
       "  <thead>\n",
       "    <tr style=\"text-align: right;\">\n",
       "      <th></th>\n",
       "      <th>OBJECTID</th>\n",
       "      <th>HSISID</th>\n",
       "      <th>SCORE</th>\n",
       "      <th>DATE_</th>\n",
       "      <th>DESCRIPTION</th>\n",
       "      <th>TYPE</th>\n",
       "      <th>INSPECTOR</th>\n",
       "      <th>PERMITID</th>\n",
       "    </tr>\n",
       "  </thead>\n",
       "  <tbody>\n",
       "    <tr>\n",
       "      <th>0</th>\n",
       "      <td>22236467</td>\n",
       "      <td>4092017542</td>\n",
       "      <td>94.5</td>\n",
       "      <td>2017-04-07T04:00:00Z</td>\n",
       "      <td>Inspection conducted by Joshua Volkan, supervi...</td>\n",
       "      <td>Inspection</td>\n",
       "      <td>Anne-Kathrin Bartoli</td>\n",
       "      <td>367</td>\n",
       "    </tr>\n",
       "    <tr>\n",
       "      <th>1</th>\n",
       "      <td>22236468</td>\n",
       "      <td>4092017542</td>\n",
       "      <td>92.0</td>\n",
       "      <td>2017-11-08T05:00:00Z</td>\n",
       "      <td>manager owns two deep chest freezers that are ...</td>\n",
       "      <td>Inspection</td>\n",
       "      <td>Laura McNeill</td>\n",
       "      <td>367</td>\n",
       "    </tr>\n",
       "    <tr>\n",
       "      <th>2</th>\n",
       "      <td>22236469</td>\n",
       "      <td>4092017542</td>\n",
       "      <td>95.0</td>\n",
       "      <td>2018-03-23T04:00:00Z</td>\n",
       "      <td>NaN</td>\n",
       "      <td>Inspection</td>\n",
       "      <td>Laura McNeill</td>\n",
       "      <td>367</td>\n",
       "    </tr>\n",
       "    <tr>\n",
       "      <th>3</th>\n",
       "      <td>22236470</td>\n",
       "      <td>4092017542</td>\n",
       "      <td>93.5</td>\n",
       "      <td>2018-09-07T04:00:00Z</td>\n",
       "      <td>*NOTICE* EFFECTIVE JANUARY 1, 2019, THE NC FOO...</td>\n",
       "      <td>Inspection</td>\n",
       "      <td>Laura McNeill</td>\n",
       "      <td>367</td>\n",
       "    </tr>\n",
       "    <tr>\n",
       "      <th>4</th>\n",
       "      <td>22236471</td>\n",
       "      <td>4092017542</td>\n",
       "      <td>93.0</td>\n",
       "      <td>2019-04-04T04:00:00Z</td>\n",
       "      <td>*NOTICE* AS OF JANUARY 1, 2019, THE NC FOOD CO...</td>\n",
       "      <td>Inspection</td>\n",
       "      <td>Joanne Rutkofske</td>\n",
       "      <td>367</td>\n",
       "    </tr>\n",
       "  </tbody>\n",
       "</table>\n",
       "</div>"
      ],
      "text/plain": [
       "   OBJECTID      HSISID  SCORE                 DATE_  \\\n",
       "0  22236467  4092017542   94.5  2017-04-07T04:00:00Z   \n",
       "1  22236468  4092017542   92.0  2017-11-08T05:00:00Z   \n",
       "2  22236469  4092017542   95.0  2018-03-23T04:00:00Z   \n",
       "3  22236470  4092017542   93.5  2018-09-07T04:00:00Z   \n",
       "4  22236471  4092017542   93.0  2019-04-04T04:00:00Z   \n",
       "\n",
       "                                         DESCRIPTION        TYPE  \\\n",
       "0  Inspection conducted by Joshua Volkan, supervi...  Inspection   \n",
       "1  manager owns two deep chest freezers that are ...  Inspection   \n",
       "2                                                NaN  Inspection   \n",
       "3  *NOTICE* EFFECTIVE JANUARY 1, 2019, THE NC FOO...  Inspection   \n",
       "4  *NOTICE* AS OF JANUARY 1, 2019, THE NC FOOD CO...  Inspection   \n",
       "\n",
       "              INSPECTOR  PERMITID  \n",
       "0  Anne-Kathrin Bartoli       367  \n",
       "1         Laura McNeill       367  \n",
       "2         Laura McNeill       367  \n",
       "3         Laura McNeill       367  \n",
       "4      Joanne Rutkofske       367  "
      ]
     },
     "execution_count": 3,
     "metadata": {},
     "output_type": "execute_result"
    }
   ],
   "source": [
    "food_inspections_raw.head()"
   ]
  },
  {
   "cell_type": "code",
   "execution_count": 4,
   "id": "272b8326",
   "metadata": {},
   "outputs": [],
   "source": [
    "def preprocess_inspections(df):\n",
    "        \n",
    "    # drop duplicates\n",
    "    df.drop_duplicates(inplace=True)\n",
    "                       \n",
    "    # convert date to datetime & only get date\n",
    "    df['DATE_'] = pd.to_datetime(df['DATE_']).dt.date\n",
    "    df.rename(columns={\"DATE_\": \"DATE\"}, inplace=True)\n",
    "\n",
    "    # filter only since beginning of 2018 - we don't want data before that\n",
    "    df = df[df['DATE'] >= pd.to_datetime('2018-01-01').date()].reset_index(drop=True)\n",
    "    \n",
    "    return df"
   ]
  },
  {
   "cell_type": "markdown",
   "id": "3d8e5324",
   "metadata": {},
   "source": [
    "### Preprocessing"
   ]
  },
  {
   "cell_type": "code",
   "execution_count": 5,
   "id": "42316d58",
   "metadata": {},
   "outputs": [],
   "source": [
    "df = preprocess_inspections(food_inspections_raw.copy())\n",
    "df.to_csv('preprocessed_inspections.csv', index=False)"
   ]
  },
  {
   "cell_type": "code",
   "execution_count": 6,
   "id": "7bb941a1",
   "metadata": {},
   "outputs": [
    {
     "name": "stdout",
     "output_type": "stream",
     "text": [
      "(27343, 8)\n"
     ]
    },
    {
     "data": {
      "text/html": [
       "<div>\n",
       "<style scoped>\n",
       "    .dataframe tbody tr th:only-of-type {\n",
       "        vertical-align: middle;\n",
       "    }\n",
       "\n",
       "    .dataframe tbody tr th {\n",
       "        vertical-align: top;\n",
       "    }\n",
       "\n",
       "    .dataframe thead th {\n",
       "        text-align: right;\n",
       "    }\n",
       "</style>\n",
       "<table border=\"1\" class=\"dataframe\">\n",
       "  <thead>\n",
       "    <tr style=\"text-align: right;\">\n",
       "      <th></th>\n",
       "      <th>OBJECTID</th>\n",
       "      <th>HSISID</th>\n",
       "      <th>SCORE</th>\n",
       "      <th>DATE</th>\n",
       "      <th>DESCRIPTION</th>\n",
       "      <th>TYPE</th>\n",
       "      <th>INSPECTOR</th>\n",
       "      <th>PERMITID</th>\n",
       "    </tr>\n",
       "  </thead>\n",
       "  <tbody>\n",
       "    <tr>\n",
       "      <th>0</th>\n",
       "      <td>22236469</td>\n",
       "      <td>4092017542</td>\n",
       "      <td>95.0</td>\n",
       "      <td>2018-03-23</td>\n",
       "      <td>NaN</td>\n",
       "      <td>Inspection</td>\n",
       "      <td>Laura McNeill</td>\n",
       "      <td>367</td>\n",
       "    </tr>\n",
       "    <tr>\n",
       "      <th>1</th>\n",
       "      <td>22236470</td>\n",
       "      <td>4092017542</td>\n",
       "      <td>93.5</td>\n",
       "      <td>2018-09-07</td>\n",
       "      <td>*NOTICE* EFFECTIVE JANUARY 1, 2019, THE NC FOO...</td>\n",
       "      <td>Inspection</td>\n",
       "      <td>Laura McNeill</td>\n",
       "      <td>367</td>\n",
       "    </tr>\n",
       "    <tr>\n",
       "      <th>2</th>\n",
       "      <td>22236471</td>\n",
       "      <td>4092017542</td>\n",
       "      <td>93.0</td>\n",
       "      <td>2019-04-04</td>\n",
       "      <td>*NOTICE* AS OF JANUARY 1, 2019, THE NC FOOD CO...</td>\n",
       "      <td>Inspection</td>\n",
       "      <td>Joanne Rutkofske</td>\n",
       "      <td>367</td>\n",
       "    </tr>\n",
       "    <tr>\n",
       "      <th>3</th>\n",
       "      <td>22236472</td>\n",
       "      <td>4092017542</td>\n",
       "      <td>93.5</td>\n",
       "      <td>2019-10-07</td>\n",
       "      <td>Follow-Up: 10/17/2019</td>\n",
       "      <td>Inspection</td>\n",
       "      <td>Naterra McQueen</td>\n",
       "      <td>367</td>\n",
       "    </tr>\n",
       "    <tr>\n",
       "      <th>4</th>\n",
       "      <td>22236473</td>\n",
       "      <td>4092017542</td>\n",
       "      <td>92.5</td>\n",
       "      <td>2020-05-19</td>\n",
       "      <td>*NOTICE* AS OF JANUARY 1, 2019, THE NC FOOD CO...</td>\n",
       "      <td>Inspection</td>\n",
       "      <td>Naterra McQueen</td>\n",
       "      <td>367</td>\n",
       "    </tr>\n",
       "  </tbody>\n",
       "</table>\n",
       "</div>"
      ],
      "text/plain": [
       "   OBJECTID      HSISID  SCORE        DATE  \\\n",
       "0  22236469  4092017542   95.0  2018-03-23   \n",
       "1  22236470  4092017542   93.5  2018-09-07   \n",
       "2  22236471  4092017542   93.0  2019-04-04   \n",
       "3  22236472  4092017542   93.5  2019-10-07   \n",
       "4  22236473  4092017542   92.5  2020-05-19   \n",
       "\n",
       "                                         DESCRIPTION        TYPE  \\\n",
       "0                                                NaN  Inspection   \n",
       "1  *NOTICE* EFFECTIVE JANUARY 1, 2019, THE NC FOO...  Inspection   \n",
       "2  *NOTICE* AS OF JANUARY 1, 2019, THE NC FOOD CO...  Inspection   \n",
       "3                              Follow-Up: 10/17/2019  Inspection   \n",
       "4  *NOTICE* AS OF JANUARY 1, 2019, THE NC FOOD CO...  Inspection   \n",
       "\n",
       "          INSPECTOR  PERMITID  \n",
       "0     Laura McNeill       367  \n",
       "1     Laura McNeill       367  \n",
       "2  Joanne Rutkofske       367  \n",
       "3   Naterra McQueen       367  \n",
       "4   Naterra McQueen       367  "
      ]
     },
     "execution_count": 6,
     "metadata": {},
     "output_type": "execute_result"
    }
   ],
   "source": [
    "print(df.shape)\n",
    "df.head()"
   ]
  },
  {
   "cell_type": "code",
   "execution_count": 7,
   "id": "9cf47b4f",
   "metadata": {},
   "outputs": [
    {
     "name": "stdout",
     "output_type": "stream",
     "text": [
      "<class 'pandas.core.frame.DataFrame'>\n",
      "RangeIndex: 27343 entries, 0 to 27342\n",
      "Data columns (total 8 columns):\n",
      " #   Column       Non-Null Count  Dtype  \n",
      "---  ------       --------------  -----  \n",
      " 0   OBJECTID     27343 non-null  int64  \n",
      " 1   HSISID       27343 non-null  int64  \n",
      " 2   SCORE        27343 non-null  float64\n",
      " 3   DATE         27343 non-null  object \n",
      " 4   DESCRIPTION  22605 non-null  object \n",
      " 5   TYPE         27343 non-null  object \n",
      " 6   INSPECTOR    27343 non-null  object \n",
      " 7   PERMITID     27343 non-null  int64  \n",
      "dtypes: float64(1), int64(3), object(4)\n",
      "memory usage: 1.7+ MB\n"
     ]
    },
    {
     "data": {
      "text/plain": [
       "None"
      ]
     },
     "metadata": {},
     "output_type": "display_data"
    }
   ],
   "source": [
    "display(df.info())"
   ]
  },
  {
   "cell_type": "code",
   "execution_count": 8,
   "id": "219f548a",
   "metadata": {},
   "outputs": [
    {
     "data": {
      "text/plain": [
       "OBJECTID          0\n",
       "HSISID            0\n",
       "SCORE             0\n",
       "DATE              0\n",
       "DESCRIPTION    4738\n",
       "TYPE              0\n",
       "INSPECTOR         0\n",
       "PERMITID          0\n",
       "dtype: int64"
      ]
     },
     "execution_count": 8,
     "metadata": {},
     "output_type": "execute_result"
    }
   ],
   "source": [
    "df.isna().sum()"
   ]
  },
  {
   "cell_type": "code",
   "execution_count": 9,
   "id": "40da7f02",
   "metadata": {},
   "outputs": [
    {
     "data": {
      "text/plain": [
       "{'OBJECTID': 27343,\n",
       " 'HSISID': 3878,\n",
       " 'SCORE': 52,\n",
       " 'DATE': 1077,\n",
       " 'DESCRIPTION': 7851,\n",
       " 'TYPE': 2,\n",
       " 'INSPECTOR': 54,\n",
       " 'PERMITID': 3878}"
      ]
     },
     "metadata": {},
     "output_type": "display_data"
    }
   ],
   "source": [
    "display({column: len(df[column].unique()) for column in df.columns})"
   ]
  },
  {
   "cell_type": "code",
   "execution_count": 10,
   "id": "ff3e2aee",
   "metadata": {},
   "outputs": [
    {
     "data": {
      "text/plain": [
       "OBJECTID         int64\n",
       "HSISID           int64\n",
       "SCORE          float64\n",
       "DATE            object\n",
       "DESCRIPTION     object\n",
       "TYPE            object\n",
       "INSPECTOR       object\n",
       "PERMITID         int64\n",
       "dtype: object"
      ]
     },
     "execution_count": 10,
     "metadata": {},
     "output_type": "execute_result"
    }
   ],
   "source": [
    "df.dtypes"
   ]
  }
 ],
 "metadata": {
  "kernelspec": {
   "display_name": "Python 3",
   "language": "python",
   "name": "python3"
  },
  "language_info": {
   "codemirror_mode": {
    "name": "ipython",
    "version": 3
   },
   "file_extension": ".py",
   "mimetype": "text/x-python",
   "name": "python",
   "nbconvert_exporter": "python",
   "pygments_lexer": "ipython3",
   "version": "3.8.8"
  }
 },
 "nbformat": 4,
 "nbformat_minor": 5
}
