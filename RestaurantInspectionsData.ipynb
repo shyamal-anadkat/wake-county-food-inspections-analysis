{
 "cells": [
  {
   "cell_type": "code",
   "execution_count": 10,
   "id": "1550cdca",
   "metadata": {},
   "outputs": [],
   "source": [
    "# import pandas, numpy, matplotlib, seaborn \n",
    "import numpy as np\n",
    "import pandas as pd\n",
    "import matplotlib.pyplot as plt\n",
    "import seaborn as sns\n",
    "\n",
    "# importing the requests library\n",
    "import requests"
   ]
  },
  {
   "cell_type": "markdown",
   "id": "60e31cbf",
   "metadata": {},
   "source": [
    "### Resources\n",
    " 1. [Restaurants in Wake County Data Info](https://www.arcgis.com/home/item.html?id=124c2187da8c41c59bde04fa67eb2872)\n",
    " 2. [Wake County Open Data](https://data-wake.opendata.arcgis.com/search?tags=restaurants)\n",
    " 3. [Food Inspection Violations Data Info](https://data.wakegov.com/datasets/Wake::food-inspection-violations/about)\n",
    " 4. [Wake County Yelp Initiative](https://ash.harvard.edu/news/wake-county-yelp-initiative)"
   ]
  },
  {
   "cell_type": "markdown",
   "id": "ef1ae50f",
   "metadata": {},
   "source": [
    "### Fetch food inspections from wakegov"
   ]
  },
  {
   "cell_type": "code",
   "execution_count": 11,
   "id": "18d06259",
   "metadata": {},
   "outputs": [],
   "source": [
    "# https://data-wake.opendata.arcgis.com/datasets/food-inspections/explore\n",
    "# https://www.arcgis.com/home/item.html?id=ebe3ae7f76954fad81411612d7c4fb17\n",
    "def getFoodInspectionsDf(): \n",
    "    # https://maps.wakegov.com/arcgis/rest/services/Inspections/RestaurantInspectionsOpenData/MapServer/1/query?outFields=*&where=1%3D1\n",
    "    \n",
    "    # Sending get request and saving the response as response object\n",
    "    # extracting data in json\n",
    "    val = 'https://opendata.arcgis.com/datasets/ebe3ae7f76954fad81411612d7c4fb17_1.geojson'\n",
    "    rows = []\n",
    "    r = requests.get(url = val)\n",
    "    data = r.json()\n",
    "    #print(data)\n",
    "    for d in data:\n",
    "        data = r.json()['features']\n",
    "        for d in data:\n",
    "            rows.append(d['properties'])\n",
    "    return pd.DataFrame(rows)\n",
    "\n",
    "food_inspections_raw = getFoodInspectionsDf()"
   ]
  },
  {
   "cell_type": "code",
   "execution_count": 20,
   "id": "ed388bd4",
   "metadata": {},
   "outputs": [
    {
     "data": {
      "text/html": [
       "<div>\n",
       "<style scoped>\n",
       "    .dataframe tbody tr th:only-of-type {\n",
       "        vertical-align: middle;\n",
       "    }\n",
       "\n",
       "    .dataframe tbody tr th {\n",
       "        vertical-align: top;\n",
       "    }\n",
       "\n",
       "    .dataframe thead th {\n",
       "        text-align: right;\n",
       "    }\n",
       "</style>\n",
       "<table border=\"1\" class=\"dataframe\">\n",
       "  <thead>\n",
       "    <tr style=\"text-align: right;\">\n",
       "      <th></th>\n",
       "      <th>OBJECTID</th>\n",
       "      <th>HSISID</th>\n",
       "      <th>SCORE</th>\n",
       "      <th>DATE_</th>\n",
       "      <th>DESCRIPTION</th>\n",
       "      <th>TYPE</th>\n",
       "      <th>INSPECTOR</th>\n",
       "      <th>PERMITID</th>\n",
       "    </tr>\n",
       "  </thead>\n",
       "  <tbody>\n",
       "    <tr>\n",
       "      <th>0</th>\n",
       "      <td>21522530</td>\n",
       "      <td>04092017542</td>\n",
       "      <td>94.5</td>\n",
       "      <td>2017-04-07T00:00:00Z</td>\n",
       "      <td>Inspection conducted by Joshua Volkan, supervi...</td>\n",
       "      <td>Inspection</td>\n",
       "      <td>Anne-Kathrin Bartoli</td>\n",
       "      <td>1</td>\n",
       "    </tr>\n",
       "    <tr>\n",
       "      <th>1</th>\n",
       "      <td>21522531</td>\n",
       "      <td>04092017542</td>\n",
       "      <td>92.0</td>\n",
       "      <td>2017-11-08T00:00:00Z</td>\n",
       "      <td>manager owns two deep chest freezers that are ...</td>\n",
       "      <td>Inspection</td>\n",
       "      <td>Laura McNeill</td>\n",
       "      <td>1</td>\n",
       "    </tr>\n",
       "    <tr>\n",
       "      <th>2</th>\n",
       "      <td>21522532</td>\n",
       "      <td>04092017542</td>\n",
       "      <td>95.0</td>\n",
       "      <td>2018-03-23T00:00:00Z</td>\n",
       "      <td>None</td>\n",
       "      <td>Inspection</td>\n",
       "      <td>Laura McNeill</td>\n",
       "      <td>1</td>\n",
       "    </tr>\n",
       "    <tr>\n",
       "      <th>3</th>\n",
       "      <td>21522533</td>\n",
       "      <td>04092017542</td>\n",
       "      <td>93.5</td>\n",
       "      <td>2018-09-07T00:00:00Z</td>\n",
       "      <td>*NOTICE* EFFECTIVE JANUARY 1, 2019, THE NC FOO...</td>\n",
       "      <td>Inspection</td>\n",
       "      <td>Laura McNeill</td>\n",
       "      <td>1</td>\n",
       "    </tr>\n",
       "    <tr>\n",
       "      <th>4</th>\n",
       "      <td>21522534</td>\n",
       "      <td>04092017542</td>\n",
       "      <td>93.0</td>\n",
       "      <td>2019-04-04T00:00:00Z</td>\n",
       "      <td>*NOTICE* AS OF JANUARY 1, 2019, THE NC FOOD CO...</td>\n",
       "      <td>Inspection</td>\n",
       "      <td>Joanne Rutkofske</td>\n",
       "      <td>1</td>\n",
       "    </tr>\n",
       "  </tbody>\n",
       "</table>\n",
       "</div>"
      ],
      "text/plain": [
       "   OBJECTID       HSISID  SCORE                 DATE_  \\\n",
       "0  21522530  04092017542   94.5  2017-04-07T00:00:00Z   \n",
       "1  21522531  04092017542   92.0  2017-11-08T00:00:00Z   \n",
       "2  21522532  04092017542   95.0  2018-03-23T00:00:00Z   \n",
       "3  21522533  04092017542   93.5  2018-09-07T00:00:00Z   \n",
       "4  21522534  04092017542   93.0  2019-04-04T00:00:00Z   \n",
       "\n",
       "                                         DESCRIPTION        TYPE  \\\n",
       "0  Inspection conducted by Joshua Volkan, supervi...  Inspection   \n",
       "1  manager owns two deep chest freezers that are ...  Inspection   \n",
       "2                                               None  Inspection   \n",
       "3  *NOTICE* EFFECTIVE JANUARY 1, 2019, THE NC FOO...  Inspection   \n",
       "4  *NOTICE* AS OF JANUARY 1, 2019, THE NC FOOD CO...  Inspection   \n",
       "\n",
       "              INSPECTOR  PERMITID  \n",
       "0  Anne-Kathrin Bartoli         1  \n",
       "1         Laura McNeill         1  \n",
       "2         Laura McNeill         1  \n",
       "3         Laura McNeill         1  \n",
       "4      Joanne Rutkofske         1  "
      ]
     },
     "execution_count": 20,
     "metadata": {},
     "output_type": "execute_result"
    }
   ],
   "source": [
    "food_inspections_raw.head()"
   ]
  },
  {
   "cell_type": "code",
   "execution_count": 56,
   "id": "272b8326",
   "metadata": {},
   "outputs": [],
   "source": [
    "def preprocess_inspections(df):\n",
    "        \n",
    "    # drop duplicates\n",
    "    df.drop_duplicates(inplace=True)\n",
    "                       \n",
    "    # convert date to datetime & only get date\n",
    "    df['DATE_'] = pd.to_datetime(df['DATE_']).dt.date\n",
    "    df.rename(columns={\"DATE_\": \"DATE\"}, inplace=True)\n",
    "\n",
    "    # filter only since beginning of 2019 - we don't want data before that\n",
    "    df = df[df['DATE'] >= pd.to_datetime('2019-01-01').date()].reset_index(drop=True)\n",
    "    \n",
    "    return df"
   ]
  },
  {
   "cell_type": "markdown",
   "id": "3d8e5324",
   "metadata": {},
   "source": [
    "### Preprocessing"
   ]
  },
  {
   "cell_type": "code",
   "execution_count": 57,
   "id": "42316d58",
   "metadata": {},
   "outputs": [],
   "source": [
    "df = preprocess_inspections(food_inspections_raw.copy())"
   ]
  },
  {
   "cell_type": "code",
   "execution_count": 63,
   "id": "7bb941a1",
   "metadata": {},
   "outputs": [
    {
     "name": "stdout",
     "output_type": "stream",
     "text": [
      "(20681, 8)\n"
     ]
    },
    {
     "data": {
      "text/html": [
       "<div>\n",
       "<style scoped>\n",
       "    .dataframe tbody tr th:only-of-type {\n",
       "        vertical-align: middle;\n",
       "    }\n",
       "\n",
       "    .dataframe tbody tr th {\n",
       "        vertical-align: top;\n",
       "    }\n",
       "\n",
       "    .dataframe thead th {\n",
       "        text-align: right;\n",
       "    }\n",
       "</style>\n",
       "<table border=\"1\" class=\"dataframe\">\n",
       "  <thead>\n",
       "    <tr style=\"text-align: right;\">\n",
       "      <th></th>\n",
       "      <th>OBJECTID</th>\n",
       "      <th>HSISID</th>\n",
       "      <th>SCORE</th>\n",
       "      <th>DATE</th>\n",
       "      <th>DESCRIPTION</th>\n",
       "      <th>TYPE</th>\n",
       "      <th>INSPECTOR</th>\n",
       "      <th>PERMITID</th>\n",
       "    </tr>\n",
       "  </thead>\n",
       "  <tbody>\n",
       "    <tr>\n",
       "      <th>0</th>\n",
       "      <td>21522534</td>\n",
       "      <td>04092017542</td>\n",
       "      <td>93.0</td>\n",
       "      <td>2019-04-04</td>\n",
       "      <td>*NOTICE* AS OF JANUARY 1, 2019, THE NC FOOD CO...</td>\n",
       "      <td>Inspection</td>\n",
       "      <td>Joanne Rutkofske</td>\n",
       "      <td>1</td>\n",
       "    </tr>\n",
       "    <tr>\n",
       "      <th>1</th>\n",
       "      <td>21522535</td>\n",
       "      <td>04092017542</td>\n",
       "      <td>93.5</td>\n",
       "      <td>2019-10-07</td>\n",
       "      <td>Follow-Up: 10/17/2019</td>\n",
       "      <td>Inspection</td>\n",
       "      <td>Naterra McQueen</td>\n",
       "      <td>1</td>\n",
       "    </tr>\n",
       "    <tr>\n",
       "      <th>2</th>\n",
       "      <td>21522536</td>\n",
       "      <td>04092017542</td>\n",
       "      <td>92.5</td>\n",
       "      <td>2020-05-19</td>\n",
       "      <td>*NOTICE* AS OF JANUARY 1, 2019, THE NC FOOD CO...</td>\n",
       "      <td>Inspection</td>\n",
       "      <td>Naterra McQueen</td>\n",
       "      <td>1</td>\n",
       "    </tr>\n",
       "    <tr>\n",
       "      <th>3</th>\n",
       "      <td>21522537</td>\n",
       "      <td>04092017542</td>\n",
       "      <td>94.0</td>\n",
       "      <td>2020-10-09</td>\n",
       "      <td>PIC cannot sign due to COVID-19 concerns.</td>\n",
       "      <td>Inspection</td>\n",
       "      <td>Nicole Millard</td>\n",
       "      <td>1</td>\n",
       "    </tr>\n",
       "    <tr>\n",
       "      <th>4</th>\n",
       "      <td>21522538</td>\n",
       "      <td>04092017542</td>\n",
       "      <td>94.0</td>\n",
       "      <td>2021-03-24</td>\n",
       "      <td>PIC cannot sign due to COVID-19 concerns.</td>\n",
       "      <td>Inspection</td>\n",
       "      <td>Nicole Millard</td>\n",
       "      <td>1</td>\n",
       "    </tr>\n",
       "  </tbody>\n",
       "</table>\n",
       "</div>"
      ],
      "text/plain": [
       "   OBJECTID       HSISID  SCORE        DATE  \\\n",
       "0  21522534  04092017542   93.0  2019-04-04   \n",
       "1  21522535  04092017542   93.5  2019-10-07   \n",
       "2  21522536  04092017542   92.5  2020-05-19   \n",
       "3  21522537  04092017542   94.0  2020-10-09   \n",
       "4  21522538  04092017542   94.0  2021-03-24   \n",
       "\n",
       "                                         DESCRIPTION        TYPE  \\\n",
       "0  *NOTICE* AS OF JANUARY 1, 2019, THE NC FOOD CO...  Inspection   \n",
       "1                              Follow-Up: 10/17/2019  Inspection   \n",
       "2  *NOTICE* AS OF JANUARY 1, 2019, THE NC FOOD CO...  Inspection   \n",
       "3          PIC cannot sign due to COVID-19 concerns.  Inspection   \n",
       "4          PIC cannot sign due to COVID-19 concerns.  Inspection   \n",
       "\n",
       "          INSPECTOR  PERMITID  \n",
       "0  Joanne Rutkofske         1  \n",
       "1   Naterra McQueen         1  \n",
       "2   Naterra McQueen         1  \n",
       "3    Nicole Millard         1  \n",
       "4    Nicole Millard         1  "
      ]
     },
     "execution_count": 63,
     "metadata": {},
     "output_type": "execute_result"
    }
   ],
   "source": [
    "print(df.shape)\n",
    "df.head()"
   ]
  },
  {
   "cell_type": "code",
   "execution_count": 59,
   "id": "9cf47b4f",
   "metadata": {},
   "outputs": [
    {
     "name": "stdout",
     "output_type": "stream",
     "text": [
      "<class 'pandas.core.frame.DataFrame'>\n",
      "RangeIndex: 20681 entries, 0 to 20680\n",
      "Data columns (total 8 columns):\n",
      " #   Column       Non-Null Count  Dtype  \n",
      "---  ------       --------------  -----  \n",
      " 0   OBJECTID     20681 non-null  int64  \n",
      " 1   HSISID       20681 non-null  object \n",
      " 2   SCORE        20681 non-null  float64\n",
      " 3   DATE         20681 non-null  object \n",
      " 4   DESCRIPTION  16621 non-null  object \n",
      " 5   TYPE         20681 non-null  object \n",
      " 6   INSPECTOR    20681 non-null  object \n",
      " 7   PERMITID     20681 non-null  int64  \n",
      "dtypes: float64(1), int64(2), object(5)\n",
      "memory usage: 1.3+ MB\n"
     ]
    },
    {
     "data": {
      "text/plain": [
       "None"
      ]
     },
     "metadata": {},
     "output_type": "display_data"
    }
   ],
   "source": [
    "display(df.info())"
   ]
  },
  {
   "cell_type": "code",
   "execution_count": 60,
   "id": "219f548a",
   "metadata": {},
   "outputs": [
    {
     "data": {
      "text/plain": [
       "OBJECTID       0.000000\n",
       "HSISID         0.000000\n",
       "SCORE          0.000000\n",
       "DATE           0.000000\n",
       "DESCRIPTION    0.196315\n",
       "TYPE           0.000000\n",
       "INSPECTOR      0.000000\n",
       "PERMITID       0.000000\n",
       "dtype: float64"
      ]
     },
     "execution_count": 60,
     "metadata": {},
     "output_type": "execute_result"
    }
   ],
   "source": [
    "df.isna().mean()"
   ]
  },
  {
   "cell_type": "code",
   "execution_count": 61,
   "id": "40da7f02",
   "metadata": {},
   "outputs": [
    {
     "data": {
      "text/plain": [
       "{'OBJECTID': 20681,\n",
       " 'HSISID': 3862,\n",
       " 'SCORE': 48,\n",
       " 'DATE': 770,\n",
       " 'DESCRIPTION': 5928,\n",
       " 'TYPE': 2,\n",
       " 'INSPECTOR': 47,\n",
       " 'PERMITID': 3862}"
      ]
     },
     "metadata": {},
     "output_type": "display_data"
    }
   ],
   "source": [
    "display({column: len(df[column].unique()) for column in df.columns})"
   ]
  },
  {
   "cell_type": "code",
   "execution_count": 62,
   "id": "ff3e2aee",
   "metadata": {},
   "outputs": [
    {
     "data": {
      "text/plain": [
       "OBJECTID         int64\n",
       "HSISID          object\n",
       "SCORE          float64\n",
       "DATE            object\n",
       "DESCRIPTION     object\n",
       "TYPE            object\n",
       "INSPECTOR       object\n",
       "PERMITID         int64\n",
       "dtype: object"
      ]
     },
     "execution_count": 62,
     "metadata": {},
     "output_type": "execute_result"
    }
   ],
   "source": [
    "df.dtypes"
   ]
  }
 ],
 "metadata": {
  "kernelspec": {
   "display_name": "Python 3",
   "language": "python",
   "name": "python3"
  },
  "language_info": {
   "codemirror_mode": {
    "name": "ipython",
    "version": 3
   },
   "file_extension": ".py",
   "mimetype": "text/x-python",
   "name": "python",
   "nbconvert_exporter": "python",
   "pygments_lexer": "ipython3",
   "version": "3.8.8"
  }
 },
 "nbformat": 4,
 "nbformat_minor": 5
}
