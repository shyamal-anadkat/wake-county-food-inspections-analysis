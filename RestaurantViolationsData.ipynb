{
 "cells": [
  {
   "cell_type": "markdown",
   "id": "f37ea748-4306-47ca-98db-1c81bffe7f5b",
   "metadata": {},
   "source": [
    "# Source Restaurant Violations Data"
   ]
  },
  {
   "cell_type": "markdown",
   "id": "a0041738",
   "metadata": {},
   "source": [
    "## Imports "
   ]
  },
  {
   "cell_type": "code",
   "execution_count": 1,
   "id": "4fa75b10",
   "metadata": {},
   "outputs": [],
   "source": [
    "# import pandas, numpy, matplotlib, seaborn \n",
    "import numpy as np\n",
    "import pandas as pd\n",
    "import matplotlib.pyplot as plt\n",
    "import seaborn as sns\n",
    "\n",
    "# importing the requests library\n",
    "import requests\n",
    "\n",
    "import urllib.request\n",
    "from pathlib import Path\n",
    "import os\n",
    "import plotly.express as px"
   ]
  },
  {
   "cell_type": "markdown",
   "id": "f59d2d93",
   "metadata": {},
   "source": [
    "### Resources\n",
    " 1. [Restaurants in Wake County Data Info](https://www.arcgis.com/home/item.html?id=124c2187da8c41c59bde04fa67eb2872)\n",
    " 2. [Wake County Open Data](https://data-wake.opendata.arcgis.com/search?tags=restaurants)\n",
    " 3. [Food Inspection Violations Data Info](https://data.wakegov.com/datasets/Wake::food-inspection-violations/about)\n",
    " 4. [Wake County Yelp Initiative](https://ash.harvard.edu/news/wake-county-yelp-initiative)"
   ]
  },
  {
   "cell_type": "markdown",
   "id": "018b4834",
   "metadata": {},
   "source": [
    "## Fetching restaurant violations from wakegov"
   ]
  },
  {
   "cell_type": "code",
   "execution_count": 2,
   "id": "90b8a0ab",
   "metadata": {},
   "outputs": [
    {
     "name": "stdout",
     "output_type": "stream",
     "text": [
      "Fetching restaurant violations data...\n",
      "violations df shape: (1689548, 18)\n",
      "Done\n"
     ]
    }
   ],
   "source": [
    "## only run this once, this takes a while ##\n",
    "def getViolationsDf(forceFetch=False):\n",
    "    path = Path()\n",
    "    key = 'violations.csv'\n",
    "    filename = path/key\n",
    "    \n",
    "    # If the file does already exist in the directory, download it\n",
    "    if os.path.exists(filename) and not forceFetch:\n",
    "        print('Using pre-fetched violations data...')\n",
    "        df = pd.read_csv(key, dtype={'OBJECTID': 'int64',\n",
    "         'HSISID': 'int64',\n",
    "         'INSPECTDATE': 'object',\n",
    "         'CATEGORY': 'object',\n",
    "         'STATECODE': 'object',\n",
    "         'CRITICAL': 'object',\n",
    "         'QUESTIONNO': 'int64',\n",
    "         'VIOLATIONCODE': 'object',\n",
    "         'SEVERITY': 'object',\n",
    "         'SHORTDESC': 'object',\n",
    "         'INSPECTEDBY': 'object',\n",
    "         'COMMENTS': 'object',\n",
    "         'POINTVALUE': 'float64',\n",
    "         'OBSERVATIONTYPE': 'object',\n",
    "         'VIOLATIONTYPE': 'object',\n",
    "         'CDCDATAITEM': 'object',\n",
    "         'PERMITID': 'int64'}) # specify dtype to save some memory/time\n",
    "        print('violations df shape:', df.shape)\n",
    "        return df\n",
    "    else:\n",
    "        print('Fetching restaurant violations data...')\n",
    "        val = 'https://opendata.arcgis.com/datasets/9b04d0c39abd4e049cbd4656a0a04ba3_2.geojson'\n",
    "        rows = []\n",
    "        r = requests.get(url = val)\n",
    "        data = r.json()\n",
    "        for d in data:\n",
    "            data = r.json()['features']\n",
    "            for d in data:\n",
    "                rows.append(d['properties'])\n",
    "        df = pd.DataFrame(rows)\n",
    "        print('violations df shape:', df.shape)\n",
    "        df.to_csv(key, index=False)\n",
    "        print('Done')\n",
    "        return df\n",
    "\n",
    "violations_df = getViolationsDf(forceFetch=False)"
   ]
  },
  {
   "cell_type": "markdown",
   "id": "577a2e78-2b17-4a28-a2b9-559d27c805e6",
   "metadata": {},
   "source": [
    "# Preprocessing"
   ]
  },
  {
   "cell_type": "code",
   "execution_count": 3,
   "id": "d3dbff8f-3c8f-43e1-a57c-3099bf33351a",
   "metadata": {},
   "outputs": [
    {
     "name": "stdout",
     "output_type": "stream",
     "text": [
      "<class 'pandas.core.frame.DataFrame'>\n",
      "RangeIndex: 1689548 entries, 0 to 1689547\n",
      "Data columns (total 18 columns):\n",
      " #   Column           Non-Null Count    Dtype  \n",
      "---  ------           --------------    -----  \n",
      " 0   OBJECTID         1689548 non-null  int64  \n",
      " 1   HSISID           1689548 non-null  object \n",
      " 2   INSPECTDATE      1689548 non-null  object \n",
      " 3   CATEGORY         1689548 non-null  object \n",
      " 4   STATECODE        1689548 non-null  object \n",
      " 5   CRITICAL         1611684 non-null  object \n",
      " 6   QUESTIONNO       1689548 non-null  int64  \n",
      " 7   VIOLATIONCODE    1689548 non-null  object \n",
      " 8   SEVERITY         1611684 non-null  object \n",
      " 9   SHORTDESC        1689548 non-null  object \n",
      " 10  INSPECTEDBY      1689236 non-null  object \n",
      " 11  COMMENTS         1687020 non-null  object \n",
      " 12  POINTVALUE       1689548 non-null  float64\n",
      " 13  OBSERVATIONTYPE  1688620 non-null  object \n",
      " 14  VIOLATIONTYPE    899800 non-null   object \n",
      " 15  CDCRISKFACTOR    0 non-null        object \n",
      " 16  CDCDATAITEM      1680116 non-null  object \n",
      " 17  PERMITID         1689548 non-null  int64  \n",
      "dtypes: float64(1), int64(3), object(14)\n",
      "memory usage: 232.0+ MB\n"
     ]
    }
   ],
   "source": [
    "violations_df.info()"
   ]
  },
  {
   "cell_type": "code",
   "execution_count": 4,
   "id": "a7c69d2e",
   "metadata": {},
   "outputs": [
    {
     "data": {
      "text/html": [
       "<div>\n",
       "<style scoped>\n",
       "    .dataframe tbody tr th:only-of-type {\n",
       "        vertical-align: middle;\n",
       "    }\n",
       "\n",
       "    .dataframe tbody tr th {\n",
       "        vertical-align: top;\n",
       "    }\n",
       "\n",
       "    .dataframe thead th {\n",
       "        text-align: right;\n",
       "    }\n",
       "</style>\n",
       "<table border=\"1\" class=\"dataframe\">\n",
       "  <thead>\n",
       "    <tr style=\"text-align: right;\">\n",
       "      <th></th>\n",
       "      <th>OBJECTID</th>\n",
       "      <th>HSISID</th>\n",
       "      <th>INSPECTDATE</th>\n",
       "      <th>CATEGORY</th>\n",
       "      <th>CRITICAL</th>\n",
       "      <th>SEVERITY</th>\n",
       "      <th>SHORTDESC</th>\n",
       "      <th>INSPECTEDBY</th>\n",
       "      <th>POINTVALUE</th>\n",
       "      <th>OBSERVATIONTYPE</th>\n",
       "      <th>VIOLATIONTYPE</th>\n",
       "    </tr>\n",
       "  </thead>\n",
       "  <tbody>\n",
       "    <tr>\n",
       "      <th>12</th>\n",
       "      <td>191104519</td>\n",
       "      <td>04092012065</td>\n",
       "      <td>2016-06-07</td>\n",
       "      <td>Approved Source</td>\n",
       "      <td>No</td>\n",
       "      <td>None</td>\n",
       "      <td>Food obtained from approved source</td>\n",
       "      <td>Johanna Hill</td>\n",
       "      <td>0.0</td>\n",
       "      <td>OUT</td>\n",
       "      <td>VR</td>\n",
       "    </tr>\n",
       "    <tr>\n",
       "      <th>13</th>\n",
       "      <td>191104520</td>\n",
       "      <td>04092017322</td>\n",
       "      <td>2020-07-10</td>\n",
       "      <td>Approved Source</td>\n",
       "      <td>No</td>\n",
       "      <td>None</td>\n",
       "      <td>Food obtained from approved source</td>\n",
       "      <td>Lauren Harden</td>\n",
       "      <td>0.0</td>\n",
       "      <td>OUT</td>\n",
       "      <td>None</td>\n",
       "    </tr>\n",
       "    <tr>\n",
       "      <th>14</th>\n",
       "      <td>191104521</td>\n",
       "      <td>04092030492</td>\n",
       "      <td>2021-06-14</td>\n",
       "      <td>Approved Source</td>\n",
       "      <td>No</td>\n",
       "      <td>None</td>\n",
       "      <td>Food obtained from approved source</td>\n",
       "      <td>David Adcock</td>\n",
       "      <td>1.0</td>\n",
       "      <td>OUT</td>\n",
       "      <td>None</td>\n",
       "    </tr>\n",
       "    <tr>\n",
       "      <th>15</th>\n",
       "      <td>191104522</td>\n",
       "      <td>04092015754</td>\n",
       "      <td>2017-11-15</td>\n",
       "      <td>Approved Source</td>\n",
       "      <td>No</td>\n",
       "      <td>None</td>\n",
       "      <td>Food obtained from approved source</td>\n",
       "      <td>Maria Powell</td>\n",
       "      <td>0.0</td>\n",
       "      <td>OUT</td>\n",
       "      <td>CDI</td>\n",
       "    </tr>\n",
       "    <tr>\n",
       "      <th>19</th>\n",
       "      <td>191104526</td>\n",
       "      <td>04092050025</td>\n",
       "      <td>2017-01-17</td>\n",
       "      <td>Approved Source</td>\n",
       "      <td>No</td>\n",
       "      <td>None</td>\n",
       "      <td>Food received at proper temperature</td>\n",
       "      <td>Daryl Beasley</td>\n",
       "      <td>1.0</td>\n",
       "      <td>OUT</td>\n",
       "      <td>CDI</td>\n",
       "    </tr>\n",
       "  </tbody>\n",
       "</table>\n",
       "</div>"
      ],
      "text/plain": [
       "     OBJECTID       HSISID INSPECTDATE         CATEGORY CRITICAL SEVERITY  \\\n",
       "12  191104519  04092012065  2016-06-07  Approved Source       No     None   \n",
       "13  191104520  04092017322  2020-07-10  Approved Source       No     None   \n",
       "14  191104521  04092030492  2021-06-14  Approved Source       No     None   \n",
       "15  191104522  04092015754  2017-11-15  Approved Source       No     None   \n",
       "19  191104526  04092050025  2017-01-17  Approved Source       No     None   \n",
       "\n",
       "                              SHORTDESC    INSPECTEDBY  POINTVALUE  \\\n",
       "12   Food obtained from approved source   Johanna Hill         0.0   \n",
       "13   Food obtained from approved source  Lauren Harden         0.0   \n",
       "14   Food obtained from approved source   David Adcock         1.0   \n",
       "15   Food obtained from approved source   Maria Powell         0.0   \n",
       "19  Food received at proper temperature  Daryl Beasley         1.0   \n",
       "\n",
       "   OBSERVATIONTYPE VIOLATIONTYPE  \n",
       "12             OUT            VR  \n",
       "13             OUT          None  \n",
       "14             OUT          None  \n",
       "15             OUT           CDI  \n",
       "19             OUT           CDI  "
      ]
     },
     "execution_count": 4,
     "metadata": {},
     "output_type": "execute_result"
    }
   ],
   "source": [
    "def preprocess_violations(df):\n",
    "    \n",
    "    other_cols_to_drop = ['QUESTIONNO', 'COMMENTS', 'COMMENTS', 'CDCDATAITEM', 'VIOLATIONCODE']\n",
    "    # drop duplicates from dataframe\n",
    "    df.drop_duplicates(inplace=True)\n",
    "    \n",
    "    # drop columns with high missing values\n",
    "    df = df.drop('CDCRISKFACTOR', axis=1)\n",
    "    \n",
    "    # drop irrelevant column(s)\n",
    "    df = df.drop('STATECODE', axis=1)\n",
    "    \n",
    "    # permit id is unique per rest so removing it\n",
    "    df = df.drop('PERMITID', axis=1)\n",
    "    \n",
    "    # normalize observation type\n",
    "    df['OBSERVATIONTYPE'] = df['OBSERVATIONTYPE'].str.upper()\n",
    "    df['OBSERVATIONTYPE'].fillna('MISSING', inplace=True)\n",
    "    \n",
    "    # convert date to datetime & only get date\n",
    "    df['INSPECTDATE'] = pd.to_datetime(df['INSPECTDATE']).dt.date\n",
    "    \n",
    "    # filter only since beginning of 2016 - we don't want data before that\n",
    "    df = df[df['INSPECTDATE'] >= pd.to_datetime('2016-01-01').date()]\n",
    "    \n",
    "    df['CRITICAL'].fillna('No', inplace=True)\n",
    "    \n",
    "    df.drop(other_cols_to_drop, axis=1, inplace=True)\n",
    "    \n",
    "    return df\n",
    "\n",
    "df = preprocess_violations(violations_df.copy()) # pass in copy for immutability\n",
    "df.to_csv('preprocessed_violations.csv', index=False)\n",
    "df.head()"
   ]
  },
  {
   "cell_type": "markdown",
   "id": "92d62507",
   "metadata": {},
   "source": [
    "1.CDI = Corrected during inspection\n",
    "\n",
    "2.NA = Not Applicable\n",
    "\n",
    "3.NO = Not Observed\n",
    "\n",
    "4.R = Repeat Violation\n",
    "\n",
    "5.VR = Verification Required"
   ]
  },
  {
   "cell_type": "markdown",
   "id": "253c0af6",
   "metadata": {},
   "source": [
    "## Validation"
   ]
  },
  {
   "cell_type": "code",
   "execution_count": 5,
   "id": "9efd8631",
   "metadata": {},
   "outputs": [
    {
     "data": {
      "text/html": [
       "<div>\n",
       "<style scoped>\n",
       "    .dataframe tbody tr th:only-of-type {\n",
       "        vertical-align: middle;\n",
       "    }\n",
       "\n",
       "    .dataframe tbody tr th {\n",
       "        vertical-align: top;\n",
       "    }\n",
       "\n",
       "    .dataframe thead th {\n",
       "        text-align: right;\n",
       "    }\n",
       "</style>\n",
       "<table border=\"1\" class=\"dataframe\">\n",
       "  <thead>\n",
       "    <tr style=\"text-align: right;\">\n",
       "      <th></th>\n",
       "      <th>OBJECTID</th>\n",
       "      <th>HSISID</th>\n",
       "      <th>INSPECTDATE</th>\n",
       "      <th>CATEGORY</th>\n",
       "      <th>CRITICAL</th>\n",
       "      <th>SEVERITY</th>\n",
       "      <th>SHORTDESC</th>\n",
       "      <th>INSPECTEDBY</th>\n",
       "      <th>POINTVALUE</th>\n",
       "      <th>OBSERVATIONTYPE</th>\n",
       "      <th>VIOLATIONTYPE</th>\n",
       "    </tr>\n",
       "  </thead>\n",
       "  <tbody>\n",
       "    <tr>\n",
       "      <th>12</th>\n",
       "      <td>191104519</td>\n",
       "      <td>04092012065</td>\n",
       "      <td>2016-06-07</td>\n",
       "      <td>Approved Source</td>\n",
       "      <td>No</td>\n",
       "      <td>None</td>\n",
       "      <td>Food obtained from approved source</td>\n",
       "      <td>Johanna Hill</td>\n",
       "      <td>0.0</td>\n",
       "      <td>OUT</td>\n",
       "      <td>VR</td>\n",
       "    </tr>\n",
       "    <tr>\n",
       "      <th>13</th>\n",
       "      <td>191104520</td>\n",
       "      <td>04092017322</td>\n",
       "      <td>2020-07-10</td>\n",
       "      <td>Approved Source</td>\n",
       "      <td>No</td>\n",
       "      <td>None</td>\n",
       "      <td>Food obtained from approved source</td>\n",
       "      <td>Lauren Harden</td>\n",
       "      <td>0.0</td>\n",
       "      <td>OUT</td>\n",
       "      <td>None</td>\n",
       "    </tr>\n",
       "    <tr>\n",
       "      <th>14</th>\n",
       "      <td>191104521</td>\n",
       "      <td>04092030492</td>\n",
       "      <td>2021-06-14</td>\n",
       "      <td>Approved Source</td>\n",
       "      <td>No</td>\n",
       "      <td>None</td>\n",
       "      <td>Food obtained from approved source</td>\n",
       "      <td>David Adcock</td>\n",
       "      <td>1.0</td>\n",
       "      <td>OUT</td>\n",
       "      <td>None</td>\n",
       "    </tr>\n",
       "    <tr>\n",
       "      <th>15</th>\n",
       "      <td>191104522</td>\n",
       "      <td>04092015754</td>\n",
       "      <td>2017-11-15</td>\n",
       "      <td>Approved Source</td>\n",
       "      <td>No</td>\n",
       "      <td>None</td>\n",
       "      <td>Food obtained from approved source</td>\n",
       "      <td>Maria Powell</td>\n",
       "      <td>0.0</td>\n",
       "      <td>OUT</td>\n",
       "      <td>CDI</td>\n",
       "    </tr>\n",
       "    <tr>\n",
       "      <th>19</th>\n",
       "      <td>191104526</td>\n",
       "      <td>04092050025</td>\n",
       "      <td>2017-01-17</td>\n",
       "      <td>Approved Source</td>\n",
       "      <td>No</td>\n",
       "      <td>None</td>\n",
       "      <td>Food received at proper temperature</td>\n",
       "      <td>Daryl Beasley</td>\n",
       "      <td>1.0</td>\n",
       "      <td>OUT</td>\n",
       "      <td>CDI</td>\n",
       "    </tr>\n",
       "  </tbody>\n",
       "</table>\n",
       "</div>"
      ],
      "text/plain": [
       "     OBJECTID       HSISID INSPECTDATE         CATEGORY CRITICAL SEVERITY  \\\n",
       "12  191104519  04092012065  2016-06-07  Approved Source       No     None   \n",
       "13  191104520  04092017322  2020-07-10  Approved Source       No     None   \n",
       "14  191104521  04092030492  2021-06-14  Approved Source       No     None   \n",
       "15  191104522  04092015754  2017-11-15  Approved Source       No     None   \n",
       "19  191104526  04092050025  2017-01-17  Approved Source       No     None   \n",
       "\n",
       "                              SHORTDESC    INSPECTEDBY  POINTVALUE  \\\n",
       "12   Food obtained from approved source   Johanna Hill         0.0   \n",
       "13   Food obtained from approved source  Lauren Harden         0.0   \n",
       "14   Food obtained from approved source   David Adcock         1.0   \n",
       "15   Food obtained from approved source   Maria Powell         0.0   \n",
       "19  Food received at proper temperature  Daryl Beasley         1.0   \n",
       "\n",
       "   OBSERVATIONTYPE VIOLATIONTYPE  \n",
       "12             OUT            VR  \n",
       "13             OUT          None  \n",
       "14             OUT          None  \n",
       "15             OUT           CDI  \n",
       "19             OUT           CDI  "
      ]
     },
     "metadata": {},
     "output_type": "display_data"
    },
    {
     "name": "stdout",
     "output_type": "stream",
     "text": [
      "(265781, 11)\n",
      "VIOLATIONTYPE: ['VR' None 'CDI' 'R']\n",
      "OBSERVATIONTYPE: ['OUT' 'N/O' 'IN' 'N/A' 'MISSING']\n",
      "CRITICAL: ['No' 'Yes']\n",
      "CATEGORY: ['Approved Source' 'Chemical' 'Conformance with Approved Procedures'\n",
      " 'Consumer Advisory' 'Employee Health'\n",
      " 'EQUIPMENT AND UTENSILS; PROTECTION FROM CONTAMINATION'\n",
      " 'Food Identification' 'FOOD PROTECTION' 'Food Temperature Control'\n",
      " 'Good Hygienic Practices' 'Highly Susceptible Populations'\n",
      " 'LAUNDRY AND LINENS'\n",
      " 'MANAGEMENT AND PERSONNEL; EMPLOYEE HEALTH; GOOD HYGIENE PRACTICES; PREVENTING CONTAMINATION BY HANDS'\n",
      " 'PHYSICAL FACILITIES' 'Physical Facilities'\n",
      " 'Potentially Hazardous Food Time/Temperature'\n",
      " 'PREMISES, STORAGE, POISONOUS OR TOXIC MATERIALS'\n",
      " 'Preventing Contamination by Hands' 'Prevention of Food Contamination'\n",
      " 'Proper Use of Utensils' 'Protection from Contamination'\n",
      " 'Safe Food and Water' 'Supervision' 'Utensils and Equipment'\n",
      " 'WATER, PLUMBING AND WASTE']\n",
      "SEVERITY [None 'Core' 'Priority' 'Priority Foundation']\n",
      "POINTVALUE [0.  1.  2.  0.5 1.5 3.  4. ]\n",
      "CRITICAL COUNTS: No     171227\n",
      "Yes     94554\n",
      "Name: CRITICAL, dtype: int64\n"
     ]
    }
   ],
   "source": [
    "# critical(handled), severity, inspected by, comments, obs type, violation type, cdcdataitem\n",
    "display(df.head())\n",
    "print(df.shape)\n",
    "print('VIOLATIONTYPE:', df['VIOLATIONTYPE'].unique())\n",
    "print('OBSERVATIONTYPE:', df['OBSERVATIONTYPE'].unique())\n",
    "print('CRITICAL:', df['CRITICAL'].unique())\n",
    "print('CATEGORY:', df['CATEGORY'].unique())\n",
    "print('SEVERITY', df['SEVERITY'].unique())\n",
    "print('POINTVALUE', df['POINTVALUE'].unique())\n",
    "print('CRITICAL COUNTS:', df['CRITICAL'].value_counts(dropna=False))"
   ]
  },
  {
   "cell_type": "code",
   "execution_count": 6,
   "id": "112a33a2",
   "metadata": {},
   "outputs": [
    {
     "data": {
      "text/plain": [
       "OBJECTID                0\n",
       "HSISID                  0\n",
       "INSPECTDATE             0\n",
       "CATEGORY                0\n",
       "CRITICAL                0\n",
       "SEVERITY            12138\n",
       "SHORTDESC               0\n",
       "INSPECTEDBY             0\n",
       "POINTVALUE              0\n",
       "OBSERVATIONTYPE         0\n",
       "VIOLATIONTYPE      119433\n",
       "dtype: int64"
      ]
     },
     "metadata": {},
     "output_type": "display_data"
    },
    {
     "name": "stdout",
     "output_type": "stream",
     "text": [
      "(265781, 11)\n"
     ]
    },
    {
     "data": {
      "text/html": [
       "<div>\n",
       "<style scoped>\n",
       "    .dataframe tbody tr th:only-of-type {\n",
       "        vertical-align: middle;\n",
       "    }\n",
       "\n",
       "    .dataframe tbody tr th {\n",
       "        vertical-align: top;\n",
       "    }\n",
       "\n",
       "    .dataframe thead th {\n",
       "        text-align: right;\n",
       "    }\n",
       "</style>\n",
       "<table border=\"1\" class=\"dataframe\">\n",
       "  <thead>\n",
       "    <tr style=\"text-align: right;\">\n",
       "      <th></th>\n",
       "      <th>OBJECTID</th>\n",
       "      <th>HSISID</th>\n",
       "      <th>INSPECTDATE</th>\n",
       "      <th>CATEGORY</th>\n",
       "      <th>CRITICAL</th>\n",
       "      <th>SEVERITY</th>\n",
       "      <th>SHORTDESC</th>\n",
       "      <th>INSPECTEDBY</th>\n",
       "      <th>POINTVALUE</th>\n",
       "      <th>OBSERVATIONTYPE</th>\n",
       "      <th>VIOLATIONTYPE</th>\n",
       "    </tr>\n",
       "  </thead>\n",
       "  <tbody>\n",
       "    <tr>\n",
       "      <th>12</th>\n",
       "      <td>191104519</td>\n",
       "      <td>04092012065</td>\n",
       "      <td>2016-06-07</td>\n",
       "      <td>Approved Source</td>\n",
       "      <td>No</td>\n",
       "      <td>None</td>\n",
       "      <td>Food obtained from approved source</td>\n",
       "      <td>Johanna Hill</td>\n",
       "      <td>0.0</td>\n",
       "      <td>OUT</td>\n",
       "      <td>VR</td>\n",
       "    </tr>\n",
       "    <tr>\n",
       "      <th>13</th>\n",
       "      <td>191104520</td>\n",
       "      <td>04092017322</td>\n",
       "      <td>2020-07-10</td>\n",
       "      <td>Approved Source</td>\n",
       "      <td>No</td>\n",
       "      <td>None</td>\n",
       "      <td>Food obtained from approved source</td>\n",
       "      <td>Lauren Harden</td>\n",
       "      <td>0.0</td>\n",
       "      <td>OUT</td>\n",
       "      <td>None</td>\n",
       "    </tr>\n",
       "    <tr>\n",
       "      <th>14</th>\n",
       "      <td>191104521</td>\n",
       "      <td>04092030492</td>\n",
       "      <td>2021-06-14</td>\n",
       "      <td>Approved Source</td>\n",
       "      <td>No</td>\n",
       "      <td>None</td>\n",
       "      <td>Food obtained from approved source</td>\n",
       "      <td>David Adcock</td>\n",
       "      <td>1.0</td>\n",
       "      <td>OUT</td>\n",
       "      <td>None</td>\n",
       "    </tr>\n",
       "    <tr>\n",
       "      <th>15</th>\n",
       "      <td>191104522</td>\n",
       "      <td>04092015754</td>\n",
       "      <td>2017-11-15</td>\n",
       "      <td>Approved Source</td>\n",
       "      <td>No</td>\n",
       "      <td>None</td>\n",
       "      <td>Food obtained from approved source</td>\n",
       "      <td>Maria Powell</td>\n",
       "      <td>0.0</td>\n",
       "      <td>OUT</td>\n",
       "      <td>CDI</td>\n",
       "    </tr>\n",
       "    <tr>\n",
       "      <th>19</th>\n",
       "      <td>191104526</td>\n",
       "      <td>04092050025</td>\n",
       "      <td>2017-01-17</td>\n",
       "      <td>Approved Source</td>\n",
       "      <td>No</td>\n",
       "      <td>None</td>\n",
       "      <td>Food received at proper temperature</td>\n",
       "      <td>Daryl Beasley</td>\n",
       "      <td>1.0</td>\n",
       "      <td>OUT</td>\n",
       "      <td>CDI</td>\n",
       "    </tr>\n",
       "  </tbody>\n",
       "</table>\n",
       "</div>"
      ],
      "text/plain": [
       "     OBJECTID       HSISID INSPECTDATE         CATEGORY CRITICAL SEVERITY  \\\n",
       "12  191104519  04092012065  2016-06-07  Approved Source       No     None   \n",
       "13  191104520  04092017322  2020-07-10  Approved Source       No     None   \n",
       "14  191104521  04092030492  2021-06-14  Approved Source       No     None   \n",
       "15  191104522  04092015754  2017-11-15  Approved Source       No     None   \n",
       "19  191104526  04092050025  2017-01-17  Approved Source       No     None   \n",
       "\n",
       "                              SHORTDESC    INSPECTEDBY  POINTVALUE  \\\n",
       "12   Food obtained from approved source   Johanna Hill         0.0   \n",
       "13   Food obtained from approved source  Lauren Harden         0.0   \n",
       "14   Food obtained from approved source   David Adcock         1.0   \n",
       "15   Food obtained from approved source   Maria Powell         0.0   \n",
       "19  Food received at proper temperature  Daryl Beasley         1.0   \n",
       "\n",
       "   OBSERVATIONTYPE VIOLATIONTYPE  \n",
       "12             OUT            VR  \n",
       "13             OUT          None  \n",
       "14             OUT          None  \n",
       "15             OUT           CDI  \n",
       "19             OUT           CDI  "
      ]
     },
     "metadata": {},
     "output_type": "display_data"
    }
   ],
   "source": [
    "display(df.isna().sum())\n",
    "print(df.shape)\n",
    "display(df.head())"
   ]
  },
  {
   "cell_type": "code",
   "execution_count": 7,
   "id": "e92d615c",
   "metadata": {},
   "outputs": [
    {
     "name": "stdout",
     "output_type": "stream",
     "text": [
      "OBSERVATIONTYPE: ['OUT' 'N/O' 'IN' 'N/A' 'MISSING']\n"
     ]
    },
    {
     "data": {
      "text/plain": [
       "{'OBJECTID': 265781,\n",
       " 'HSISID': 5381,\n",
       " 'INSPECTDATE': 1644,\n",
       " 'CATEGORY': 25,\n",
       " 'CRITICAL': 2,\n",
       " 'SEVERITY': 4,\n",
       " 'SHORTDESC': 92,\n",
       " 'INSPECTEDBY': 65,\n",
       " 'POINTVALUE': 7,\n",
       " 'OBSERVATIONTYPE': 5,\n",
       " 'VIOLATIONTYPE': 4}"
      ]
     },
     "metadata": {},
     "output_type": "display_data"
    }
   ],
   "source": [
    "print('OBSERVATIONTYPE:', df['OBSERVATIONTYPE'].unique())\n",
    "display({column: len(df[column].unique()) for column in df.columns})"
   ]
  },
  {
   "cell_type": "code",
   "execution_count": 8,
   "id": "8baf6366",
   "metadata": {},
   "outputs": [
    {
     "data": {
      "text/plain": [
       "{'OBJECTID': 'int64',\n",
       " 'HSISID': 'object',\n",
       " 'INSPECTDATE': 'object',\n",
       " 'CATEGORY': 'object',\n",
       " 'CRITICAL': 'object',\n",
       " 'SEVERITY': 'object',\n",
       " 'SHORTDESC': 'object',\n",
       " 'INSPECTEDBY': 'object',\n",
       " 'POINTVALUE': 'float64',\n",
       " 'OBSERVATIONTYPE': 'object',\n",
       " 'VIOLATIONTYPE': 'object'}"
      ]
     },
     "execution_count": 8,
     "metadata": {},
     "output_type": "execute_result"
    }
   ],
   "source": [
    "df.dtypes.apply(lambda x: x.name).to_dict()"
   ]
  },
  {
   "cell_type": "code",
   "execution_count": 9,
   "id": "77b1b566-ff13-4bf1-a302-8ccecd61981b",
   "metadata": {},
   "outputs": [
    {
     "data": {
      "text/html": [
       "<div>\n",
       "<style scoped>\n",
       "    .dataframe tbody tr th:only-of-type {\n",
       "        vertical-align: middle;\n",
       "    }\n",
       "\n",
       "    .dataframe tbody tr th {\n",
       "        vertical-align: top;\n",
       "    }\n",
       "\n",
       "    .dataframe thead th {\n",
       "        text-align: right;\n",
       "    }\n",
       "</style>\n",
       "<table border=\"1\" class=\"dataframe\">\n",
       "  <thead>\n",
       "    <tr style=\"text-align: right;\">\n",
       "      <th></th>\n",
       "      <th>OBJECTID</th>\n",
       "      <th>HSISID</th>\n",
       "      <th>INSPECTDATE</th>\n",
       "      <th>CATEGORY</th>\n",
       "      <th>CRITICAL</th>\n",
       "      <th>SEVERITY</th>\n",
       "      <th>SHORTDESC</th>\n",
       "      <th>INSPECTEDBY</th>\n",
       "      <th>POINTVALUE</th>\n",
       "      <th>OBSERVATIONTYPE</th>\n",
       "      <th>VIOLATIONTYPE</th>\n",
       "    </tr>\n",
       "  </thead>\n",
       "  <tbody>\n",
       "    <tr>\n",
       "      <th>12</th>\n",
       "      <td>191104519</td>\n",
       "      <td>04092012065</td>\n",
       "      <td>2016-06-07</td>\n",
       "      <td>Approved Source</td>\n",
       "      <td>No</td>\n",
       "      <td>None</td>\n",
       "      <td>Food obtained from approved source</td>\n",
       "      <td>Johanna Hill</td>\n",
       "      <td>0.0</td>\n",
       "      <td>OUT</td>\n",
       "      <td>VR</td>\n",
       "    </tr>\n",
       "    <tr>\n",
       "      <th>13</th>\n",
       "      <td>191104520</td>\n",
       "      <td>04092017322</td>\n",
       "      <td>2020-07-10</td>\n",
       "      <td>Approved Source</td>\n",
       "      <td>No</td>\n",
       "      <td>None</td>\n",
       "      <td>Food obtained from approved source</td>\n",
       "      <td>Lauren Harden</td>\n",
       "      <td>0.0</td>\n",
       "      <td>OUT</td>\n",
       "      <td>None</td>\n",
       "    </tr>\n",
       "    <tr>\n",
       "      <th>14</th>\n",
       "      <td>191104521</td>\n",
       "      <td>04092030492</td>\n",
       "      <td>2021-06-14</td>\n",
       "      <td>Approved Source</td>\n",
       "      <td>No</td>\n",
       "      <td>None</td>\n",
       "      <td>Food obtained from approved source</td>\n",
       "      <td>David Adcock</td>\n",
       "      <td>1.0</td>\n",
       "      <td>OUT</td>\n",
       "      <td>None</td>\n",
       "    </tr>\n",
       "    <tr>\n",
       "      <th>15</th>\n",
       "      <td>191104522</td>\n",
       "      <td>04092015754</td>\n",
       "      <td>2017-11-15</td>\n",
       "      <td>Approved Source</td>\n",
       "      <td>No</td>\n",
       "      <td>None</td>\n",
       "      <td>Food obtained from approved source</td>\n",
       "      <td>Maria Powell</td>\n",
       "      <td>0.0</td>\n",
       "      <td>OUT</td>\n",
       "      <td>CDI</td>\n",
       "    </tr>\n",
       "    <tr>\n",
       "      <th>19</th>\n",
       "      <td>191104526</td>\n",
       "      <td>04092050025</td>\n",
       "      <td>2017-01-17</td>\n",
       "      <td>Approved Source</td>\n",
       "      <td>No</td>\n",
       "      <td>None</td>\n",
       "      <td>Food received at proper temperature</td>\n",
       "      <td>Daryl Beasley</td>\n",
       "      <td>1.0</td>\n",
       "      <td>OUT</td>\n",
       "      <td>CDI</td>\n",
       "    </tr>\n",
       "    <tr>\n",
       "      <th>...</th>\n",
       "      <td>...</td>\n",
       "      <td>...</td>\n",
       "      <td>...</td>\n",
       "      <td>...</td>\n",
       "      <td>...</td>\n",
       "      <td>...</td>\n",
       "      <td>...</td>\n",
       "      <td>...</td>\n",
       "      <td>...</td>\n",
       "      <td>...</td>\n",
       "      <td>...</td>\n",
       "    </tr>\n",
       "    <tr>\n",
       "      <th>422382</th>\n",
       "      <td>191526889</td>\n",
       "      <td>04092200068</td>\n",
       "      <td>2017-11-22</td>\n",
       "      <td>WATER, PLUMBING AND WASTE</td>\n",
       "      <td>No</td>\n",
       "      <td>None</td>\n",
       "      <td>Sewage and waste water disposal</td>\n",
       "      <td>Karla Crowder</td>\n",
       "      <td>2.0</td>\n",
       "      <td>OUT</td>\n",
       "      <td>None</td>\n",
       "    </tr>\n",
       "    <tr>\n",
       "      <th>422383</th>\n",
       "      <td>191526890</td>\n",
       "      <td>04092200067</td>\n",
       "      <td>2018-08-27</td>\n",
       "      <td>WATER, PLUMBING AND WASTE</td>\n",
       "      <td>No</td>\n",
       "      <td>None</td>\n",
       "      <td>Sewage and waste water disposal</td>\n",
       "      <td>Jason Dunn</td>\n",
       "      <td>2.0</td>\n",
       "      <td>OUT</td>\n",
       "      <td>None</td>\n",
       "    </tr>\n",
       "    <tr>\n",
       "      <th>422384</th>\n",
       "      <td>191526891</td>\n",
       "      <td>04092200185</td>\n",
       "      <td>2020-07-27</td>\n",
       "      <td>WATER, PLUMBING AND WASTE</td>\n",
       "      <td>No</td>\n",
       "      <td>None</td>\n",
       "      <td>Sewage and waste water disposal</td>\n",
       "      <td>Cristofer LeClair</td>\n",
       "      <td>0.0</td>\n",
       "      <td>OUT</td>\n",
       "      <td>None</td>\n",
       "    </tr>\n",
       "    <tr>\n",
       "      <th>422385</th>\n",
       "      <td>191526892</td>\n",
       "      <td>04092200185</td>\n",
       "      <td>2020-07-27</td>\n",
       "      <td>WATER, PLUMBING AND WASTE</td>\n",
       "      <td>No</td>\n",
       "      <td>None</td>\n",
       "      <td>Sewage and waste water disposal</td>\n",
       "      <td>Jason Dunn</td>\n",
       "      <td>2.0</td>\n",
       "      <td>OUT</td>\n",
       "      <td>None</td>\n",
       "    </tr>\n",
       "    <tr>\n",
       "      <th>422386</th>\n",
       "      <td>191526893</td>\n",
       "      <td>04092200267</td>\n",
       "      <td>2018-05-01</td>\n",
       "      <td>WATER, PLUMBING AND WASTE</td>\n",
       "      <td>No</td>\n",
       "      <td>None</td>\n",
       "      <td>Sewage and waste water disposal</td>\n",
       "      <td>Michael Robinson</td>\n",
       "      <td>2.0</td>\n",
       "      <td>OUT</td>\n",
       "      <td>None</td>\n",
       "    </tr>\n",
       "  </tbody>\n",
       "</table>\n",
       "<p>265781 rows × 11 columns</p>\n",
       "</div>"
      ],
      "text/plain": [
       "         OBJECTID       HSISID INSPECTDATE                   CATEGORY  \\\n",
       "12      191104519  04092012065  2016-06-07            Approved Source   \n",
       "13      191104520  04092017322  2020-07-10            Approved Source   \n",
       "14      191104521  04092030492  2021-06-14            Approved Source   \n",
       "15      191104522  04092015754  2017-11-15            Approved Source   \n",
       "19      191104526  04092050025  2017-01-17            Approved Source   \n",
       "...           ...          ...         ...                        ...   \n",
       "422382  191526889  04092200068  2017-11-22  WATER, PLUMBING AND WASTE   \n",
       "422383  191526890  04092200067  2018-08-27  WATER, PLUMBING AND WASTE   \n",
       "422384  191526891  04092200185  2020-07-27  WATER, PLUMBING AND WASTE   \n",
       "422385  191526892  04092200185  2020-07-27  WATER, PLUMBING AND WASTE   \n",
       "422386  191526893  04092200267  2018-05-01  WATER, PLUMBING AND WASTE   \n",
       "\n",
       "       CRITICAL SEVERITY                            SHORTDESC  \\\n",
       "12           No     None   Food obtained from approved source   \n",
       "13           No     None   Food obtained from approved source   \n",
       "14           No     None   Food obtained from approved source   \n",
       "15           No     None   Food obtained from approved source   \n",
       "19           No     None  Food received at proper temperature   \n",
       "...         ...      ...                                  ...   \n",
       "422382       No     None      Sewage and waste water disposal   \n",
       "422383       No     None      Sewage and waste water disposal   \n",
       "422384       No     None      Sewage and waste water disposal   \n",
       "422385       No     None      Sewage and waste water disposal   \n",
       "422386       No     None      Sewage and waste water disposal   \n",
       "\n",
       "              INSPECTEDBY  POINTVALUE OBSERVATIONTYPE VIOLATIONTYPE  \n",
       "12           Johanna Hill         0.0             OUT            VR  \n",
       "13          Lauren Harden         0.0             OUT          None  \n",
       "14           David Adcock         1.0             OUT          None  \n",
       "15           Maria Powell         0.0             OUT           CDI  \n",
       "19          Daryl Beasley         1.0             OUT           CDI  \n",
       "...                   ...         ...             ...           ...  \n",
       "422382      Karla Crowder         2.0             OUT          None  \n",
       "422383         Jason Dunn         2.0             OUT          None  \n",
       "422384  Cristofer LeClair         0.0             OUT          None  \n",
       "422385         Jason Dunn         2.0             OUT          None  \n",
       "422386   Michael Robinson         2.0             OUT          None  \n",
       "\n",
       "[265781 rows x 11 columns]"
      ]
     },
     "execution_count": 9,
     "metadata": {},
     "output_type": "execute_result"
    }
   ],
   "source": [
    "ins = df.copy()\n",
    "\n",
    "ins"
   ]
  },
  {
   "cell_type": "code",
   "execution_count": 18,
   "id": "f0aa3510-61dc-4c75-939c-036fa01afce6",
   "metadata": {},
   "outputs": [
    {
     "data": {
      "text/html": [
       "<div>\n",
       "<style scoped>\n",
       "    .dataframe tbody tr th:only-of-type {\n",
       "        vertical-align: middle;\n",
       "    }\n",
       "\n",
       "    .dataframe tbody tr th {\n",
       "        vertical-align: top;\n",
       "    }\n",
       "\n",
       "    .dataframe thead th {\n",
       "        text-align: right;\n",
       "    }\n",
       "</style>\n",
       "<table border=\"1\" class=\"dataframe\">\n",
       "  <thead>\n",
       "    <tr style=\"text-align: right;\">\n",
       "      <th></th>\n",
       "      <th>Inspector</th>\n",
       "      <th>Year</th>\n",
       "      <th># of Violations</th>\n",
       "    </tr>\n",
       "  </thead>\n",
       "  <tbody>\n",
       "    <tr>\n",
       "      <th>0</th>\n",
       "      <td>Andrea Anover</td>\n",
       "      <td>2016</td>\n",
       "      <td>4340</td>\n",
       "    </tr>\n",
       "    <tr>\n",
       "      <th>1</th>\n",
       "      <td>Andrea Anover</td>\n",
       "      <td>2017</td>\n",
       "      <td>3489</td>\n",
       "    </tr>\n",
       "    <tr>\n",
       "      <th>2</th>\n",
       "      <td>Andrea Anover</td>\n",
       "      <td>2018</td>\n",
       "      <td>4362</td>\n",
       "    </tr>\n",
       "    <tr>\n",
       "      <th>3</th>\n",
       "      <td>Angela Jacobs</td>\n",
       "      <td>2017</td>\n",
       "      <td>1250</td>\n",
       "    </tr>\n",
       "    <tr>\n",
       "      <th>4</th>\n",
       "      <td>Angela Jacobs</td>\n",
       "      <td>2018</td>\n",
       "      <td>2672</td>\n",
       "    </tr>\n",
       "    <tr>\n",
       "      <th>...</th>\n",
       "      <td>...</td>\n",
       "      <td>...</td>\n",
       "      <td>...</td>\n",
       "    </tr>\n",
       "    <tr>\n",
       "      <th>202</th>\n",
       "      <td>Ursula Gadomski</td>\n",
       "      <td>2020</td>\n",
       "      <td>1587</td>\n",
       "    </tr>\n",
       "    <tr>\n",
       "      <th>203</th>\n",
       "      <td>Ursula Gadomski</td>\n",
       "      <td>2021</td>\n",
       "      <td>1198</td>\n",
       "    </tr>\n",
       "    <tr>\n",
       "      <th>204</th>\n",
       "      <td>Zachary Carter</td>\n",
       "      <td>2019</td>\n",
       "      <td>165</td>\n",
       "    </tr>\n",
       "    <tr>\n",
       "      <th>205</th>\n",
       "      <td>Zachary Carter</td>\n",
       "      <td>2020</td>\n",
       "      <td>682</td>\n",
       "    </tr>\n",
       "    <tr>\n",
       "      <th>206</th>\n",
       "      <td>Zachary Carter</td>\n",
       "      <td>2021</td>\n",
       "      <td>771</td>\n",
       "    </tr>\n",
       "  </tbody>\n",
       "</table>\n",
       "<p>207 rows × 3 columns</p>\n",
       "</div>"
      ],
      "text/plain": [
       "           Inspector  Year  # of Violations\n",
       "0      Andrea Anover  2016             4340\n",
       "1      Andrea Anover  2017             3489\n",
       "2      Andrea Anover  2018             4362\n",
       "3      Angela Jacobs  2017             1250\n",
       "4      Angela Jacobs  2018             2672\n",
       "..               ...   ...              ...\n",
       "202  Ursula Gadomski  2020             1587\n",
       "203  Ursula Gadomski  2021             1198\n",
       "204   Zachary Carter  2019              165\n",
       "205   Zachary Carter  2020              682\n",
       "206   Zachary Carter  2021              771\n",
       "\n",
       "[207 rows x 3 columns]"
      ]
     },
     "metadata": {},
     "output_type": "display_data"
    }
   ],
   "source": [
    "disp = df.copy()\n",
    "disp['INSPECTDATE'] =  pd.to_datetime(disp['INSPECTDATE'])\n",
    "disp['Year'] = disp['INSPECTDATE'].dt.year\n",
    "agg = disp.groupby(['Year']).size()\n",
    "ins = disp.groupby(['INSPECTEDBY', 'Year']).size()\n",
    "ins = pd.DataFrame(ins).reset_index()\n",
    "ins.columns = ['Inspector', 'Year', '# of Violations']\n",
    "agg = pd.DataFrame(agg).reset_index()\n",
    "agg.columns = ['Year', '# of Violations']\n",
    "display(ins)"
   ]
  },
  {
   "cell_type": "code",
   "execution_count": 19,
   "id": "831d0b88-4a89-4259-a803-66d9ba9a714d",
   "metadata": {},
   "outputs": [
    {
     "data": {
      "application/vnd.plotly.v1+json": {
       "config": {
        "plotlyServerURL": "https://plot.ly"
       },
       "data": [
        {
         "alignmentgroup": "True",
         "customdata": [
          [
           13494
          ],
          [
           16416
          ],
          [
           17489
          ],
          [
           18528
          ]
         ],
         "hovertemplate": "Year=%{x}<br># of Violations=%{y}<br># of Critical Violations=%{marker.color}<extra></extra>",
         "legendgroup": "",
         "marker": {
          "color": [
           13494,
           16416,
           17489,
           18528
          ],
          "coloraxis": "coloraxis",
          "pattern": {
           "shape": ""
          }
         },
         "name": "",
         "offsetgroup": "",
         "orientation": "v",
         "showlegend": false,
         "textposition": "auto",
         "type": "bar",
         "x": [
          2016,
          2017,
          2018,
          2019
         ],
         "xaxis": "x",
         "y": [
          39067,
          47605,
          50793,
          50341
         ],
         "yaxis": "y"
        }
       ],
       "layout": {
        "barmode": "relative",
        "coloraxis": {
         "colorbar": {
          "title": {
           "text": "# of Critical Violations"
          }
         },
         "colorscale": [
          [
           0,
           "#0d0887"
          ],
          [
           0.1111111111111111,
           "#46039f"
          ],
          [
           0.2222222222222222,
           "#7201a8"
          ],
          [
           0.3333333333333333,
           "#9c179e"
          ],
          [
           0.4444444444444444,
           "#bd3786"
          ],
          [
           0.5555555555555556,
           "#d8576b"
          ],
          [
           0.6666666666666666,
           "#ed7953"
          ],
          [
           0.7777777777777778,
           "#fb9f3a"
          ],
          [
           0.8888888888888888,
           "#fdca26"
          ],
          [
           1,
           "#f0f921"
          ]
         ]
        },
        "height": 300,
        "legend": {
         "tracegroupgap": 0
        },
        "margin": {
         "t": 60
        },
        "template": {
         "data": {
          "bar": [
           {
            "error_x": {
             "color": "#2a3f5f"
            },
            "error_y": {
             "color": "#2a3f5f"
            },
            "marker": {
             "line": {
              "color": "#E5ECF6",
              "width": 0.5
             },
             "pattern": {
              "fillmode": "overlay",
              "size": 10,
              "solidity": 0.2
             }
            },
            "type": "bar"
           }
          ],
          "barpolar": [
           {
            "marker": {
             "line": {
              "color": "#E5ECF6",
              "width": 0.5
             },
             "pattern": {
              "fillmode": "overlay",
              "size": 10,
              "solidity": 0.2
             }
            },
            "type": "barpolar"
           }
          ],
          "carpet": [
           {
            "aaxis": {
             "endlinecolor": "#2a3f5f",
             "gridcolor": "white",
             "linecolor": "white",
             "minorgridcolor": "white",
             "startlinecolor": "#2a3f5f"
            },
            "baxis": {
             "endlinecolor": "#2a3f5f",
             "gridcolor": "white",
             "linecolor": "white",
             "minorgridcolor": "white",
             "startlinecolor": "#2a3f5f"
            },
            "type": "carpet"
           }
          ],
          "choropleth": [
           {
            "colorbar": {
             "outlinewidth": 0,
             "ticks": ""
            },
            "type": "choropleth"
           }
          ],
          "contour": [
           {
            "colorbar": {
             "outlinewidth": 0,
             "ticks": ""
            },
            "colorscale": [
             [
              0,
              "#0d0887"
             ],
             [
              0.1111111111111111,
              "#46039f"
             ],
             [
              0.2222222222222222,
              "#7201a8"
             ],
             [
              0.3333333333333333,
              "#9c179e"
             ],
             [
              0.4444444444444444,
              "#bd3786"
             ],
             [
              0.5555555555555556,
              "#d8576b"
             ],
             [
              0.6666666666666666,
              "#ed7953"
             ],
             [
              0.7777777777777778,
              "#fb9f3a"
             ],
             [
              0.8888888888888888,
              "#fdca26"
             ],
             [
              1,
              "#f0f921"
             ]
            ],
            "type": "contour"
           }
          ],
          "contourcarpet": [
           {
            "colorbar": {
             "outlinewidth": 0,
             "ticks": ""
            },
            "type": "contourcarpet"
           }
          ],
          "heatmap": [
           {
            "colorbar": {
             "outlinewidth": 0,
             "ticks": ""
            },
            "colorscale": [
             [
              0,
              "#0d0887"
             ],
             [
              0.1111111111111111,
              "#46039f"
             ],
             [
              0.2222222222222222,
              "#7201a8"
             ],
             [
              0.3333333333333333,
              "#9c179e"
             ],
             [
              0.4444444444444444,
              "#bd3786"
             ],
             [
              0.5555555555555556,
              "#d8576b"
             ],
             [
              0.6666666666666666,
              "#ed7953"
             ],
             [
              0.7777777777777778,
              "#fb9f3a"
             ],
             [
              0.8888888888888888,
              "#fdca26"
             ],
             [
              1,
              "#f0f921"
             ]
            ],
            "type": "heatmap"
           }
          ],
          "heatmapgl": [
           {
            "colorbar": {
             "outlinewidth": 0,
             "ticks": ""
            },
            "colorscale": [
             [
              0,
              "#0d0887"
             ],
             [
              0.1111111111111111,
              "#46039f"
             ],
             [
              0.2222222222222222,
              "#7201a8"
             ],
             [
              0.3333333333333333,
              "#9c179e"
             ],
             [
              0.4444444444444444,
              "#bd3786"
             ],
             [
              0.5555555555555556,
              "#d8576b"
             ],
             [
              0.6666666666666666,
              "#ed7953"
             ],
             [
              0.7777777777777778,
              "#fb9f3a"
             ],
             [
              0.8888888888888888,
              "#fdca26"
             ],
             [
              1,
              "#f0f921"
             ]
            ],
            "type": "heatmapgl"
           }
          ],
          "histogram": [
           {
            "marker": {
             "pattern": {
              "fillmode": "overlay",
              "size": 10,
              "solidity": 0.2
             }
            },
            "type": "histogram"
           }
          ],
          "histogram2d": [
           {
            "colorbar": {
             "outlinewidth": 0,
             "ticks": ""
            },
            "colorscale": [
             [
              0,
              "#0d0887"
             ],
             [
              0.1111111111111111,
              "#46039f"
             ],
             [
              0.2222222222222222,
              "#7201a8"
             ],
             [
              0.3333333333333333,
              "#9c179e"
             ],
             [
              0.4444444444444444,
              "#bd3786"
             ],
             [
              0.5555555555555556,
              "#d8576b"
             ],
             [
              0.6666666666666666,
              "#ed7953"
             ],
             [
              0.7777777777777778,
              "#fb9f3a"
             ],
             [
              0.8888888888888888,
              "#fdca26"
             ],
             [
              1,
              "#f0f921"
             ]
            ],
            "type": "histogram2d"
           }
          ],
          "histogram2dcontour": [
           {
            "colorbar": {
             "outlinewidth": 0,
             "ticks": ""
            },
            "colorscale": [
             [
              0,
              "#0d0887"
             ],
             [
              0.1111111111111111,
              "#46039f"
             ],
             [
              0.2222222222222222,
              "#7201a8"
             ],
             [
              0.3333333333333333,
              "#9c179e"
             ],
             [
              0.4444444444444444,
              "#bd3786"
             ],
             [
              0.5555555555555556,
              "#d8576b"
             ],
             [
              0.6666666666666666,
              "#ed7953"
             ],
             [
              0.7777777777777778,
              "#fb9f3a"
             ],
             [
              0.8888888888888888,
              "#fdca26"
             ],
             [
              1,
              "#f0f921"
             ]
            ],
            "type": "histogram2dcontour"
           }
          ],
          "mesh3d": [
           {
            "colorbar": {
             "outlinewidth": 0,
             "ticks": ""
            },
            "type": "mesh3d"
           }
          ],
          "parcoords": [
           {
            "line": {
             "colorbar": {
              "outlinewidth": 0,
              "ticks": ""
             }
            },
            "type": "parcoords"
           }
          ],
          "pie": [
           {
            "automargin": true,
            "type": "pie"
           }
          ],
          "scatter": [
           {
            "marker": {
             "colorbar": {
              "outlinewidth": 0,
              "ticks": ""
             }
            },
            "type": "scatter"
           }
          ],
          "scatter3d": [
           {
            "line": {
             "colorbar": {
              "outlinewidth": 0,
              "ticks": ""
             }
            },
            "marker": {
             "colorbar": {
              "outlinewidth": 0,
              "ticks": ""
             }
            },
            "type": "scatter3d"
           }
          ],
          "scattercarpet": [
           {
            "marker": {
             "colorbar": {
              "outlinewidth": 0,
              "ticks": ""
             }
            },
            "type": "scattercarpet"
           }
          ],
          "scattergeo": [
           {
            "marker": {
             "colorbar": {
              "outlinewidth": 0,
              "ticks": ""
             }
            },
            "type": "scattergeo"
           }
          ],
          "scattergl": [
           {
            "marker": {
             "colorbar": {
              "outlinewidth": 0,
              "ticks": ""
             }
            },
            "type": "scattergl"
           }
          ],
          "scattermapbox": [
           {
            "marker": {
             "colorbar": {
              "outlinewidth": 0,
              "ticks": ""
             }
            },
            "type": "scattermapbox"
           }
          ],
          "scatterpolar": [
           {
            "marker": {
             "colorbar": {
              "outlinewidth": 0,
              "ticks": ""
             }
            },
            "type": "scatterpolar"
           }
          ],
          "scatterpolargl": [
           {
            "marker": {
             "colorbar": {
              "outlinewidth": 0,
              "ticks": ""
             }
            },
            "type": "scatterpolargl"
           }
          ],
          "scatterternary": [
           {
            "marker": {
             "colorbar": {
              "outlinewidth": 0,
              "ticks": ""
             }
            },
            "type": "scatterternary"
           }
          ],
          "surface": [
           {
            "colorbar": {
             "outlinewidth": 0,
             "ticks": ""
            },
            "colorscale": [
             [
              0,
              "#0d0887"
             ],
             [
              0.1111111111111111,
              "#46039f"
             ],
             [
              0.2222222222222222,
              "#7201a8"
             ],
             [
              0.3333333333333333,
              "#9c179e"
             ],
             [
              0.4444444444444444,
              "#bd3786"
             ],
             [
              0.5555555555555556,
              "#d8576b"
             ],
             [
              0.6666666666666666,
              "#ed7953"
             ],
             [
              0.7777777777777778,
              "#fb9f3a"
             ],
             [
              0.8888888888888888,
              "#fdca26"
             ],
             [
              1,
              "#f0f921"
             ]
            ],
            "type": "surface"
           }
          ],
          "table": [
           {
            "cells": {
             "fill": {
              "color": "#EBF0F8"
             },
             "line": {
              "color": "white"
             }
            },
            "header": {
             "fill": {
              "color": "#C8D4E3"
             },
             "line": {
              "color": "white"
             }
            },
            "type": "table"
           }
          ]
         },
         "layout": {
          "annotationdefaults": {
           "arrowcolor": "#2a3f5f",
           "arrowhead": 0,
           "arrowwidth": 1
          },
          "autotypenumbers": "strict",
          "coloraxis": {
           "colorbar": {
            "outlinewidth": 0,
            "ticks": ""
           }
          },
          "colorscale": {
           "diverging": [
            [
             0,
             "#8e0152"
            ],
            [
             0.1,
             "#c51b7d"
            ],
            [
             0.2,
             "#de77ae"
            ],
            [
             0.3,
             "#f1b6da"
            ],
            [
             0.4,
             "#fde0ef"
            ],
            [
             0.5,
             "#f7f7f7"
            ],
            [
             0.6,
             "#e6f5d0"
            ],
            [
             0.7,
             "#b8e186"
            ],
            [
             0.8,
             "#7fbc41"
            ],
            [
             0.9,
             "#4d9221"
            ],
            [
             1,
             "#276419"
            ]
           ],
           "sequential": [
            [
             0,
             "#0d0887"
            ],
            [
             0.1111111111111111,
             "#46039f"
            ],
            [
             0.2222222222222222,
             "#7201a8"
            ],
            [
             0.3333333333333333,
             "#9c179e"
            ],
            [
             0.4444444444444444,
             "#bd3786"
            ],
            [
             0.5555555555555556,
             "#d8576b"
            ],
            [
             0.6666666666666666,
             "#ed7953"
            ],
            [
             0.7777777777777778,
             "#fb9f3a"
            ],
            [
             0.8888888888888888,
             "#fdca26"
            ],
            [
             1,
             "#f0f921"
            ]
           ],
           "sequentialminus": [
            [
             0,
             "#0d0887"
            ],
            [
             0.1111111111111111,
             "#46039f"
            ],
            [
             0.2222222222222222,
             "#7201a8"
            ],
            [
             0.3333333333333333,
             "#9c179e"
            ],
            [
             0.4444444444444444,
             "#bd3786"
            ],
            [
             0.5555555555555556,
             "#d8576b"
            ],
            [
             0.6666666666666666,
             "#ed7953"
            ],
            [
             0.7777777777777778,
             "#fb9f3a"
            ],
            [
             0.8888888888888888,
             "#fdca26"
            ],
            [
             1,
             "#f0f921"
            ]
           ]
          },
          "colorway": [
           "#636efa",
           "#EF553B",
           "#00cc96",
           "#ab63fa",
           "#FFA15A",
           "#19d3f3",
           "#FF6692",
           "#B6E880",
           "#FF97FF",
           "#FECB52"
          ],
          "font": {
           "color": "#2a3f5f"
          },
          "geo": {
           "bgcolor": "white",
           "lakecolor": "white",
           "landcolor": "#E5ECF6",
           "showlakes": true,
           "showland": true,
           "subunitcolor": "white"
          },
          "hoverlabel": {
           "align": "left"
          },
          "hovermode": "closest",
          "mapbox": {
           "style": "light"
          },
          "paper_bgcolor": "white",
          "plot_bgcolor": "#E5ECF6",
          "polar": {
           "angularaxis": {
            "gridcolor": "white",
            "linecolor": "white",
            "ticks": ""
           },
           "bgcolor": "#E5ECF6",
           "radialaxis": {
            "gridcolor": "white",
            "linecolor": "white",
            "ticks": ""
           }
          },
          "scene": {
           "xaxis": {
            "backgroundcolor": "#E5ECF6",
            "gridcolor": "white",
            "gridwidth": 2,
            "linecolor": "white",
            "showbackground": true,
            "ticks": "",
            "zerolinecolor": "white"
           },
           "yaxis": {
            "backgroundcolor": "#E5ECF6",
            "gridcolor": "white",
            "gridwidth": 2,
            "linecolor": "white",
            "showbackground": true,
            "ticks": "",
            "zerolinecolor": "white"
           },
           "zaxis": {
            "backgroundcolor": "#E5ECF6",
            "gridcolor": "white",
            "gridwidth": 2,
            "linecolor": "white",
            "showbackground": true,
            "ticks": "",
            "zerolinecolor": "white"
           }
          },
          "shapedefaults": {
           "line": {
            "color": "#2a3f5f"
           }
          },
          "ternary": {
           "aaxis": {
            "gridcolor": "white",
            "linecolor": "white",
            "ticks": ""
           },
           "baxis": {
            "gridcolor": "white",
            "linecolor": "white",
            "ticks": ""
           },
           "bgcolor": "#E5ECF6",
           "caxis": {
            "gridcolor": "white",
            "linecolor": "white",
            "ticks": ""
           }
          },
          "title": {
           "x": 0.05
          },
          "xaxis": {
           "automargin": true,
           "gridcolor": "white",
           "linecolor": "white",
           "ticks": "",
           "title": {
            "standoff": 15
           },
           "zerolinecolor": "white",
           "zerolinewidth": 2
          },
          "yaxis": {
           "automargin": true,
           "gridcolor": "white",
           "linecolor": "white",
           "ticks": "",
           "title": {
            "standoff": 15
           },
           "zerolinecolor": "white",
           "zerolinewidth": 2
          }
         }
        },
        "xaxis": {
         "anchor": "y",
         "domain": [
          0,
          1
         ],
         "title": {
          "text": "Restaurant Inspection Violations in Wake County"
         },
         "type": "category"
        },
        "yaxis": {
         "anchor": "x",
         "domain": [
          0,
          1
         ],
         "title": {
          "text": "# of Violations"
         }
        }
       }
      },
      "text/html": [
       "<div>                            <div id=\"dfd6bc18-973a-4449-9ade-9df30e71b206\" class=\"plotly-graph-div\" style=\"height:300px; width:100%;\"></div>            <script type=\"text/javascript\">                require([\"plotly\"], function(Plotly) {                    window.PLOTLYENV=window.PLOTLYENV || {};                                    if (document.getElementById(\"dfd6bc18-973a-4449-9ade-9df30e71b206\")) {                    Plotly.newPlot(                        \"dfd6bc18-973a-4449-9ade-9df30e71b206\",                        [{\"alignmentgroup\":\"True\",\"customdata\":[[13494],[16416],[17489],[18528]],\"hovertemplate\":\"Year=%{x}<br># of Violations=%{y}<br># of Critical Violations=%{marker.color}<extra></extra>\",\"legendgroup\":\"\",\"marker\":{\"color\":[13494,16416,17489,18528],\"coloraxis\":\"coloraxis\",\"pattern\":{\"shape\":\"\"}},\"name\":\"\",\"offsetgroup\":\"\",\"orientation\":\"v\",\"showlegend\":false,\"textposition\":\"auto\",\"type\":\"bar\",\"x\":[2016,2017,2018,2019],\"xaxis\":\"x\",\"y\":[39067,47605,50793,50341],\"yaxis\":\"y\"}],                        {\"barmode\":\"relative\",\"coloraxis\":{\"colorbar\":{\"title\":{\"text\":\"# of Critical Violations\"}},\"colorscale\":[[0.0,\"#0d0887\"],[0.1111111111111111,\"#46039f\"],[0.2222222222222222,\"#7201a8\"],[0.3333333333333333,\"#9c179e\"],[0.4444444444444444,\"#bd3786\"],[0.5555555555555556,\"#d8576b\"],[0.6666666666666666,\"#ed7953\"],[0.7777777777777778,\"#fb9f3a\"],[0.8888888888888888,\"#fdca26\"],[1.0,\"#f0f921\"]]},\"height\":300,\"legend\":{\"tracegroupgap\":0},\"margin\":{\"t\":60},\"template\":{\"data\":{\"bar\":[{\"error_x\":{\"color\":\"#2a3f5f\"},\"error_y\":{\"color\":\"#2a3f5f\"},\"marker\":{\"line\":{\"color\":\"#E5ECF6\",\"width\":0.5},\"pattern\":{\"fillmode\":\"overlay\",\"size\":10,\"solidity\":0.2}},\"type\":\"bar\"}],\"barpolar\":[{\"marker\":{\"line\":{\"color\":\"#E5ECF6\",\"width\":0.5},\"pattern\":{\"fillmode\":\"overlay\",\"size\":10,\"solidity\":0.2}},\"type\":\"barpolar\"}],\"carpet\":[{\"aaxis\":{\"endlinecolor\":\"#2a3f5f\",\"gridcolor\":\"white\",\"linecolor\":\"white\",\"minorgridcolor\":\"white\",\"startlinecolor\":\"#2a3f5f\"},\"baxis\":{\"endlinecolor\":\"#2a3f5f\",\"gridcolor\":\"white\",\"linecolor\":\"white\",\"minorgridcolor\":\"white\",\"startlinecolor\":\"#2a3f5f\"},\"type\":\"carpet\"}],\"choropleth\":[{\"colorbar\":{\"outlinewidth\":0,\"ticks\":\"\"},\"type\":\"choropleth\"}],\"contour\":[{\"colorbar\":{\"outlinewidth\":0,\"ticks\":\"\"},\"colorscale\":[[0.0,\"#0d0887\"],[0.1111111111111111,\"#46039f\"],[0.2222222222222222,\"#7201a8\"],[0.3333333333333333,\"#9c179e\"],[0.4444444444444444,\"#bd3786\"],[0.5555555555555556,\"#d8576b\"],[0.6666666666666666,\"#ed7953\"],[0.7777777777777778,\"#fb9f3a\"],[0.8888888888888888,\"#fdca26\"],[1.0,\"#f0f921\"]],\"type\":\"contour\"}],\"contourcarpet\":[{\"colorbar\":{\"outlinewidth\":0,\"ticks\":\"\"},\"type\":\"contourcarpet\"}],\"heatmap\":[{\"colorbar\":{\"outlinewidth\":0,\"ticks\":\"\"},\"colorscale\":[[0.0,\"#0d0887\"],[0.1111111111111111,\"#46039f\"],[0.2222222222222222,\"#7201a8\"],[0.3333333333333333,\"#9c179e\"],[0.4444444444444444,\"#bd3786\"],[0.5555555555555556,\"#d8576b\"],[0.6666666666666666,\"#ed7953\"],[0.7777777777777778,\"#fb9f3a\"],[0.8888888888888888,\"#fdca26\"],[1.0,\"#f0f921\"]],\"type\":\"heatmap\"}],\"heatmapgl\":[{\"colorbar\":{\"outlinewidth\":0,\"ticks\":\"\"},\"colorscale\":[[0.0,\"#0d0887\"],[0.1111111111111111,\"#46039f\"],[0.2222222222222222,\"#7201a8\"],[0.3333333333333333,\"#9c179e\"],[0.4444444444444444,\"#bd3786\"],[0.5555555555555556,\"#d8576b\"],[0.6666666666666666,\"#ed7953\"],[0.7777777777777778,\"#fb9f3a\"],[0.8888888888888888,\"#fdca26\"],[1.0,\"#f0f921\"]],\"type\":\"heatmapgl\"}],\"histogram\":[{\"marker\":{\"pattern\":{\"fillmode\":\"overlay\",\"size\":10,\"solidity\":0.2}},\"type\":\"histogram\"}],\"histogram2d\":[{\"colorbar\":{\"outlinewidth\":0,\"ticks\":\"\"},\"colorscale\":[[0.0,\"#0d0887\"],[0.1111111111111111,\"#46039f\"],[0.2222222222222222,\"#7201a8\"],[0.3333333333333333,\"#9c179e\"],[0.4444444444444444,\"#bd3786\"],[0.5555555555555556,\"#d8576b\"],[0.6666666666666666,\"#ed7953\"],[0.7777777777777778,\"#fb9f3a\"],[0.8888888888888888,\"#fdca26\"],[1.0,\"#f0f921\"]],\"type\":\"histogram2d\"}],\"histogram2dcontour\":[{\"colorbar\":{\"outlinewidth\":0,\"ticks\":\"\"},\"colorscale\":[[0.0,\"#0d0887\"],[0.1111111111111111,\"#46039f\"],[0.2222222222222222,\"#7201a8\"],[0.3333333333333333,\"#9c179e\"],[0.4444444444444444,\"#bd3786\"],[0.5555555555555556,\"#d8576b\"],[0.6666666666666666,\"#ed7953\"],[0.7777777777777778,\"#fb9f3a\"],[0.8888888888888888,\"#fdca26\"],[1.0,\"#f0f921\"]],\"type\":\"histogram2dcontour\"}],\"mesh3d\":[{\"colorbar\":{\"outlinewidth\":0,\"ticks\":\"\"},\"type\":\"mesh3d\"}],\"parcoords\":[{\"line\":{\"colorbar\":{\"outlinewidth\":0,\"ticks\":\"\"}},\"type\":\"parcoords\"}],\"pie\":[{\"automargin\":true,\"type\":\"pie\"}],\"scatter\":[{\"marker\":{\"colorbar\":{\"outlinewidth\":0,\"ticks\":\"\"}},\"type\":\"scatter\"}],\"scatter3d\":[{\"line\":{\"colorbar\":{\"outlinewidth\":0,\"ticks\":\"\"}},\"marker\":{\"colorbar\":{\"outlinewidth\":0,\"ticks\":\"\"}},\"type\":\"scatter3d\"}],\"scattercarpet\":[{\"marker\":{\"colorbar\":{\"outlinewidth\":0,\"ticks\":\"\"}},\"type\":\"scattercarpet\"}],\"scattergeo\":[{\"marker\":{\"colorbar\":{\"outlinewidth\":0,\"ticks\":\"\"}},\"type\":\"scattergeo\"}],\"scattergl\":[{\"marker\":{\"colorbar\":{\"outlinewidth\":0,\"ticks\":\"\"}},\"type\":\"scattergl\"}],\"scattermapbox\":[{\"marker\":{\"colorbar\":{\"outlinewidth\":0,\"ticks\":\"\"}},\"type\":\"scattermapbox\"}],\"scatterpolar\":[{\"marker\":{\"colorbar\":{\"outlinewidth\":0,\"ticks\":\"\"}},\"type\":\"scatterpolar\"}],\"scatterpolargl\":[{\"marker\":{\"colorbar\":{\"outlinewidth\":0,\"ticks\":\"\"}},\"type\":\"scatterpolargl\"}],\"scatterternary\":[{\"marker\":{\"colorbar\":{\"outlinewidth\":0,\"ticks\":\"\"}},\"type\":\"scatterternary\"}],\"surface\":[{\"colorbar\":{\"outlinewidth\":0,\"ticks\":\"\"},\"colorscale\":[[0.0,\"#0d0887\"],[0.1111111111111111,\"#46039f\"],[0.2222222222222222,\"#7201a8\"],[0.3333333333333333,\"#9c179e\"],[0.4444444444444444,\"#bd3786\"],[0.5555555555555556,\"#d8576b\"],[0.6666666666666666,\"#ed7953\"],[0.7777777777777778,\"#fb9f3a\"],[0.8888888888888888,\"#fdca26\"],[1.0,\"#f0f921\"]],\"type\":\"surface\"}],\"table\":[{\"cells\":{\"fill\":{\"color\":\"#EBF0F8\"},\"line\":{\"color\":\"white\"}},\"header\":{\"fill\":{\"color\":\"#C8D4E3\"},\"line\":{\"color\":\"white\"}},\"type\":\"table\"}]},\"layout\":{\"annotationdefaults\":{\"arrowcolor\":\"#2a3f5f\",\"arrowhead\":0,\"arrowwidth\":1},\"autotypenumbers\":\"strict\",\"coloraxis\":{\"colorbar\":{\"outlinewidth\":0,\"ticks\":\"\"}},\"colorscale\":{\"diverging\":[[0,\"#8e0152\"],[0.1,\"#c51b7d\"],[0.2,\"#de77ae\"],[0.3,\"#f1b6da\"],[0.4,\"#fde0ef\"],[0.5,\"#f7f7f7\"],[0.6,\"#e6f5d0\"],[0.7,\"#b8e186\"],[0.8,\"#7fbc41\"],[0.9,\"#4d9221\"],[1,\"#276419\"]],\"sequential\":[[0.0,\"#0d0887\"],[0.1111111111111111,\"#46039f\"],[0.2222222222222222,\"#7201a8\"],[0.3333333333333333,\"#9c179e\"],[0.4444444444444444,\"#bd3786\"],[0.5555555555555556,\"#d8576b\"],[0.6666666666666666,\"#ed7953\"],[0.7777777777777778,\"#fb9f3a\"],[0.8888888888888888,\"#fdca26\"],[1.0,\"#f0f921\"]],\"sequentialminus\":[[0.0,\"#0d0887\"],[0.1111111111111111,\"#46039f\"],[0.2222222222222222,\"#7201a8\"],[0.3333333333333333,\"#9c179e\"],[0.4444444444444444,\"#bd3786\"],[0.5555555555555556,\"#d8576b\"],[0.6666666666666666,\"#ed7953\"],[0.7777777777777778,\"#fb9f3a\"],[0.8888888888888888,\"#fdca26\"],[1.0,\"#f0f921\"]]},\"colorway\":[\"#636efa\",\"#EF553B\",\"#00cc96\",\"#ab63fa\",\"#FFA15A\",\"#19d3f3\",\"#FF6692\",\"#B6E880\",\"#FF97FF\",\"#FECB52\"],\"font\":{\"color\":\"#2a3f5f\"},\"geo\":{\"bgcolor\":\"white\",\"lakecolor\":\"white\",\"landcolor\":\"#E5ECF6\",\"showlakes\":true,\"showland\":true,\"subunitcolor\":\"white\"},\"hoverlabel\":{\"align\":\"left\"},\"hovermode\":\"closest\",\"mapbox\":{\"style\":\"light\"},\"paper_bgcolor\":\"white\",\"plot_bgcolor\":\"#E5ECF6\",\"polar\":{\"angularaxis\":{\"gridcolor\":\"white\",\"linecolor\":\"white\",\"ticks\":\"\"},\"bgcolor\":\"#E5ECF6\",\"radialaxis\":{\"gridcolor\":\"white\",\"linecolor\":\"white\",\"ticks\":\"\"}},\"scene\":{\"xaxis\":{\"backgroundcolor\":\"#E5ECF6\",\"gridcolor\":\"white\",\"gridwidth\":2,\"linecolor\":\"white\",\"showbackground\":true,\"ticks\":\"\",\"zerolinecolor\":\"white\"},\"yaxis\":{\"backgroundcolor\":\"#E5ECF6\",\"gridcolor\":\"white\",\"gridwidth\":2,\"linecolor\":\"white\",\"showbackground\":true,\"ticks\":\"\",\"zerolinecolor\":\"white\"},\"zaxis\":{\"backgroundcolor\":\"#E5ECF6\",\"gridcolor\":\"white\",\"gridwidth\":2,\"linecolor\":\"white\",\"showbackground\":true,\"ticks\":\"\",\"zerolinecolor\":\"white\"}},\"shapedefaults\":{\"line\":{\"color\":\"#2a3f5f\"}},\"ternary\":{\"aaxis\":{\"gridcolor\":\"white\",\"linecolor\":\"white\",\"ticks\":\"\"},\"baxis\":{\"gridcolor\":\"white\",\"linecolor\":\"white\",\"ticks\":\"\"},\"bgcolor\":\"#E5ECF6\",\"caxis\":{\"gridcolor\":\"white\",\"linecolor\":\"white\",\"ticks\":\"\"}},\"title\":{\"x\":0.05},\"xaxis\":{\"automargin\":true,\"gridcolor\":\"white\",\"linecolor\":\"white\",\"ticks\":\"\",\"title\":{\"standoff\":15},\"zerolinecolor\":\"white\",\"zerolinewidth\":2},\"yaxis\":{\"automargin\":true,\"gridcolor\":\"white\",\"linecolor\":\"white\",\"ticks\":\"\",\"title\":{\"standoff\":15},\"zerolinecolor\":\"white\",\"zerolinewidth\":2}}},\"xaxis\":{\"anchor\":\"y\",\"domain\":[0.0,1.0],\"title\":{\"text\":\"Restaurant Inspection Violations in Wake County\"},\"type\":\"category\"},\"yaxis\":{\"anchor\":\"x\",\"domain\":[0.0,1.0],\"title\":{\"text\":\"# of Violations\"}}},                        {\"responsive\": true}                    ).then(function(){\n",
       "                            \n",
       "var gd = document.getElementById('dfd6bc18-973a-4449-9ade-9df30e71b206');\n",
       "var x = new MutationObserver(function (mutations, observer) {{\n",
       "        var display = window.getComputedStyle(gd).display;\n",
       "        if (!display || display === 'none') {{\n",
       "            console.log([gd, 'removed!']);\n",
       "            Plotly.purge(gd);\n",
       "            observer.disconnect();\n",
       "        }}\n",
       "}});\n",
       "\n",
       "// Listen for the removal of the full notebook cells\n",
       "var notebookContainer = gd.closest('#notebook-container');\n",
       "if (notebookContainer) {{\n",
       "    x.observe(notebookContainer, {childList: true});\n",
       "}}\n",
       "\n",
       "// Listen for the clearing of the current output cell\n",
       "var outputEl = gd.closest('.output');\n",
       "if (outputEl) {{\n",
       "    x.observe(outputEl, {childList: true});\n",
       "}}\n",
       "\n",
       "                        })                };                });            </script>        </div>"
      ]
     },
     "metadata": {},
     "output_type": "display_data"
    }
   ],
   "source": [
    "crit = disp.copy()\n",
    "crit = crit[crit['CRITICAL'] == 'Yes']\n",
    "crit = crit.groupby(['Year']).size()\n",
    "crit = pd.DataFrame(crit).reset_index()\n",
    "crit.columns = ['Year', '# of Critical Violations']\n",
    "\n",
    "final = agg.merge(crit, on='Year', how='left')\n",
    "final = final.loc[(final['Year'] == 2016) | (final['Year'] == 2017) | (final['Year'] == 2018) | (final['Year'] == 2019)]\n",
    "fig = px.bar(final, x='Year', y='# of Violations',\n",
    "             hover_data=['# of Critical Violations'], color='# of Critical Violations', height=300)\n",
    "\n",
    "fig.update_xaxes(type='category', title='Restaurant Inspection Violations in Wake County')\n",
    "fig.show()"
   ]
  },
  {
   "cell_type": "code",
   "execution_count": null,
   "id": "1e8862b4",
   "metadata": {},
   "outputs": [],
   "source": []
  }
 ],
 "metadata": {
  "kernelspec": {
   "display_name": "Python 3",
   "language": "python",
   "name": "python3"
  },
  "language_info": {
   "codemirror_mode": {
    "name": "ipython",
    "version": 3
   },
   "file_extension": ".py",
   "mimetype": "text/x-python",
   "name": "python",
   "nbconvert_exporter": "python",
   "pygments_lexer": "ipython3",
   "version": "3.8.8"
  }
 },
 "nbformat": 4,
 "nbformat_minor": 5
}
