{
 "cells": [
  {
   "cell_type": "code",
   "execution_count": 3,
   "id": "acdb4946",
   "metadata": {},
   "outputs": [],
   "source": [
    "#import libraries\n",
    "import pandas as pd\n",
    "import numpy as np\n",
    "import matplotlib.pyplot as plt\n",
    "import seaborn as sns\n",
    "import os\n",
    "import requests\n",
    "import json"
   ]
  },
  {
   "cell_type": "code",
   "execution_count": 4,
   "id": "1a34750c",
   "metadata": {},
   "outputs": [
    {
     "ename": "NameError",
     "evalue": "name 'YELP_KEY' is not defined",
     "output_type": "error",
     "traceback": [
      "\u001b[1;31m---------------------------------------------------------------------------\u001b[0m",
      "\u001b[1;31mNameError\u001b[0m                                 Traceback (most recent call last)",
      "\u001b[1;32m~\\AppData\\Local\\Temp/ipykernel_19032/2005562711.py\u001b[0m in \u001b[0;36m<module>\u001b[1;34m\u001b[0m\n\u001b[0;32m      1\u001b[0m \u001b[1;31m#get token\u001b[0m\u001b[1;33m\u001b[0m\u001b[1;33m\u001b[0m\u001b[1;33m\u001b[0m\u001b[0m\n\u001b[1;32m----> 2\u001b[1;33m \u001b[0myelp_token\u001b[0m \u001b[1;33m=\u001b[0m \u001b[0mos\u001b[0m\u001b[1;33m.\u001b[0m\u001b[0mgetenv\u001b[0m\u001b[1;33m(\u001b[0m\u001b[0mYELP_KEY\u001b[0m\u001b[1;33m)\u001b[0m\u001b[1;33m\u001b[0m\u001b[1;33m\u001b[0m\u001b[0m\n\u001b[0m",
      "\u001b[1;31mNameError\u001b[0m: name 'YELP_KEY' is not defined"
     ]
    }
   ],
   "source": [
    "#get token\n",
    "yelp_token = os.getenv(YELP_KEY)"
   ]
  },
  {
   "cell_type": "code",
   "execution_count": 3,
   "id": "95aee28a",
   "metadata": {},
   "outputs": [],
   "source": [
    "#import restaurant reviews from Yelp\n",
    "\n",
    "token = YELP_KEY\n",
    "endpoint = 'https://api.yelp.com/v3/businesses/{id}/reviews'\n",
    "headers = {'token': token}\n",
    "\n",
    "response = requests.get(url=endpoint, headers=headers)\n",
    "response = response.json()"
   ]
  },
  {
   "cell_type": "code",
   "execution_count": 4,
   "id": "5de61c02",
   "metadata": {},
   "outputs": [],
   "source": [
    "#build dataframe from response\n",
    "df = pd.DataFrame(response)"
   ]
  },
  {
   "cell_type": "code",
   "execution_count": null,
   "id": "d4ebf5df",
   "metadata": {},
   "outputs": [],
   "source": [
    "#graphql query\n",
    "{\n",
    "    search(term: \"restaurants\",\n",
    "            location: \"wake forest\",\n",
    "            limit: 5) {\n",
    "        total\n",
    "        business {\n",
    "            name\n",
    "            id\n",
    "            rating\n",
    "            categories\n",
    "            price\n",
    "        }\n",
    "    }\n",
    "}"
   ]
  },
  {
   "cell_type": "code",
   "execution_count": null,
   "id": "24fdc17e",
   "metadata": {},
   "outputs": [],
   "source": [
    "#or make queries like this?\n",
    "query = \"\"\"query {\n",
    "        term {\n",
    "            restaurants\n",
    "        location {\n",
    "            wake forest\n",
    "        business {\n",
    "            name\n",
    "            id\n",
    "            rating\n",
    "            categories\n",
    "            price\n",
    "        }\n",
    "        }\n",
    "        }\n",
    "    }\"\"\""
   ]
  },
  {
   "cell_type": "code",
   "execution_count": null,
   "id": "e54e945c",
   "metadata": {},
   "outputs": [],
   "source": [
    "url = '\n",
    "https://api.yelp.com/v3/graphql'\n",
    "r = requests.post(url, json={'query': search})\n",
    "print(r.status_code)\n",
    "print(r.text)"
   ]
  },
  {
   "cell_type": "code",
   "execution_count": null,
   "id": "a759160f",
   "metadata": {},
   "outputs": [],
   "source": [
    "json_data = json.loads(r.text)\n",
    "df_data = json_data['data']['term']['location']['business']\n",
    "df = pd.DataFrame(df_data)"
   ]
  }
 ],
 "metadata": {
  "kernelspec": {
   "display_name": "Python 3 (ipykernel)",
   "language": "python",
   "name": "python3"
  },
  "language_info": {
   "codemirror_mode": {
    "name": "ipython",
    "version": 3
   },
   "file_extension": ".py",
   "mimetype": "text/x-python",
   "name": "python",
   "nbconvert_exporter": "python",
   "pygments_lexer": "ipython3",
   "version": "3.9.1"
  }
 },
 "nbformat": 4,
 "nbformat_minor": 5
}
