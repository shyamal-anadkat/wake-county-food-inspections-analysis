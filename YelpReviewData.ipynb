{
 "cells": [
  {
   "cell_type": "code",
   "execution_count": 2,
   "id": "acdb4946",
   "metadata": {},
   "outputs": [],
   "source": [
    "#import libraries\n",
    "import pandas as pd\n",
    "import numpy as np\n",
    "import matplotlib.pyplot as plt\n",
    "import seaborn as sns\n",
    "import requests"
   ]
  },
  {
   "cell_type": "code",
   "execution_count": 3,
   "id": "95aee28a",
   "metadata": {},
   "outputs": [],
   "source": [
    "#import restaurant reviews from Yelp\n",
    "\n",
    "token = 'fjdbfEV0kvgw9OV702-ml_8hzNdrv6Ird-HC9FvQon3ndvoepkBhlv7--R09I0i2BEE0_MxmxKA0ad86LvNxJRu14zrWFbVkC6oH6_4pltVfWvU9tdcQ7FM5aKB0YXYx'\n",
    "endpoint = 'https://api.yelp.com/v3/businesses/{id}/reviews'\n",
    "headers = {'token': token}\n",
    "response = requests.get(url=endpoint, headers=headers)\n",
    "response = response.json()"
   ]
  },
  {
   "cell_type": "code",
   "execution_count": 4,
   "id": "5de61c02",
   "metadata": {},
   "outputs": [],
   "source": [
    "#build dataframe from response\n",
    "df = pd.DataFrame(response)"
   ]
  },
  {
   "cell_type": "code",
   "execution_count": null,
   "id": "d4ebf5df",
   "metadata": {},
   "outputs": [],
   "source": []
  }
 ],
 "metadata": {
  "kernelspec": {
   "display_name": "Python 3 (ipykernel)",
   "language": "python",
   "name": "python3"
  },
  "language_info": {
   "codemirror_mode": {
    "name": "ipython",
    "version": 3
   },
   "file_extension": ".py",
   "mimetype": "text/x-python",
   "name": "python",
   "nbconvert_exporter": "python",
   "pygments_lexer": "ipython3",
   "version": "3.9.1"
  }
 },
 "nbformat": 4,
 "nbformat_minor": 5
}
